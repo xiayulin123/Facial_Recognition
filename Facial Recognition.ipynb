{
 "cells": [
  {
   "cell_type": "markdown",
   "id": "0302df6c",
   "metadata": {},
   "source": [
    "# Set Up"
   ]
  },
  {
   "cell_type": "code",
   "execution_count": 1,
   "id": "8b594c32",
   "metadata": {},
   "outputs": [
    {
     "name": "stdout",
     "output_type": "stream",
     "text": [
      "Requirement already satisfied: tensorflow==2.8.0 in c:\\users\\xiayu\\appdata\\local\\packages\\pythonsoftwarefoundation.python.3.10_qbz5n2kfra8p0\\localcache\\local-packages\\python310\\site-packages (2.8.0)\n",
      "Requirement already satisfied: tensorflow-gpu==2.8.0 in c:\\users\\xiayu\\appdata\\local\\packages\\pythonsoftwarefoundation.python.3.10_qbz5n2kfra8p0\\localcache\\local-packages\\python310\\site-packages (2.8.0)\n",
      "Requirement already satisfied: opencv-python in c:\\users\\xiayu\\appdata\\local\\packages\\pythonsoftwarefoundation.python.3.10_qbz5n2kfra8p0\\localcache\\local-packages\\python310\\site-packages (4.7.0.72)\n",
      "Requirement already satisfied: matplotlib in c:\\users\\xiayu\\appdata\\local\\packages\\pythonsoftwarefoundation.python.3.10_qbz5n2kfra8p0\\localcache\\local-packages\\python310\\site-packages (3.7.2)\n",
      "Requirement already satisfied: absl-py>=0.4.0 in c:\\users\\xiayu\\appdata\\local\\packages\\pythonsoftwarefoundation.python.3.10_qbz5n2kfra8p0\\localcache\\local-packages\\python310\\site-packages (from tensorflow==2.8.0) (1.4.0)\n",
      "Requirement already satisfied: astunparse>=1.6.0 in c:\\users\\xiayu\\appdata\\local\\packages\\pythonsoftwarefoundation.python.3.10_qbz5n2kfra8p0\\localcache\\local-packages\\python310\\site-packages (from tensorflow==2.8.0) (1.6.3)\n",
      "Requirement already satisfied: flatbuffers>=1.12 in c:\\users\\xiayu\\appdata\\local\\packages\\pythonsoftwarefoundation.python.3.10_qbz5n2kfra8p0\\localcache\\local-packages\\python310\\site-packages (from tensorflow==2.8.0) (23.1.21)\n",
      "Requirement already satisfied: gast>=0.2.1 in c:\\users\\xiayu\\appdata\\local\\packages\\pythonsoftwarefoundation.python.3.10_qbz5n2kfra8p0\\localcache\\local-packages\\python310\\site-packages (from tensorflow==2.8.0) (0.4.0)\n",
      "Requirement already satisfied: google-pasta>=0.1.1 in c:\\users\\xiayu\\appdata\\local\\packages\\pythonsoftwarefoundation.python.3.10_qbz5n2kfra8p0\\localcache\\local-packages\\python310\\site-packages (from tensorflow==2.8.0) (0.2.0)\n",
      "Requirement already satisfied: h5py>=2.9.0 in c:\\users\\xiayu\\appdata\\local\\packages\\pythonsoftwarefoundation.python.3.10_qbz5n2kfra8p0\\localcache\\local-packages\\python310\\site-packages (from tensorflow==2.8.0) (3.8.0)\n",
      "Requirement already satisfied: keras-preprocessing>=1.1.1 in c:\\users\\xiayu\\appdata\\local\\packages\\pythonsoftwarefoundation.python.3.10_qbz5n2kfra8p0\\localcache\\local-packages\\python310\\site-packages (from tensorflow==2.8.0) (1.1.2)\n",
      "Requirement already satisfied: libclang>=9.0.1 in c:\\users\\xiayu\\appdata\\local\\packages\\pythonsoftwarefoundation.python.3.10_qbz5n2kfra8p0\\localcache\\local-packages\\python310\\site-packages (from tensorflow==2.8.0) (15.0.6.1)\n",
      "Requirement already satisfied: numpy>=1.20 in c:\\users\\xiayu\\appdata\\local\\packages\\pythonsoftwarefoundation.python.3.10_qbz5n2kfra8p0\\localcache\\local-packages\\python310\\site-packages (from tensorflow==2.8.0) (1.23.5)\n",
      "Requirement already satisfied: opt-einsum>=2.3.2 in c:\\users\\xiayu\\appdata\\local\\packages\\pythonsoftwarefoundation.python.3.10_qbz5n2kfra8p0\\localcache\\local-packages\\python310\\site-packages (from tensorflow==2.8.0) (3.3.0)\n",
      "Requirement already satisfied: protobuf>=3.9.2 in c:\\users\\xiayu\\appdata\\local\\packages\\pythonsoftwarefoundation.python.3.10_qbz5n2kfra8p0\\localcache\\local-packages\\python310\\site-packages (from tensorflow==2.8.0) (3.17.3)\n",
      "Requirement already satisfied: setuptools in c:\\users\\xiayu\\appdata\\local\\packages\\pythonsoftwarefoundation.python.3.10_qbz5n2kfra8p0\\localcache\\local-packages\\python310\\site-packages (from tensorflow==2.8.0) (68.0.0)\n",
      "Requirement already satisfied: six>=1.12.0 in c:\\users\\xiayu\\appdata\\local\\packages\\pythonsoftwarefoundation.python.3.10_qbz5n2kfra8p0\\localcache\\local-packages\\python310\\site-packages (from tensorflow==2.8.0) (1.16.0)\n",
      "Requirement already satisfied: termcolor>=1.1.0 in c:\\users\\xiayu\\appdata\\local\\packages\\pythonsoftwarefoundation.python.3.10_qbz5n2kfra8p0\\localcache\\local-packages\\python310\\site-packages (from tensorflow==2.8.0) (2.2.0)\n",
      "Requirement already satisfied: typing-extensions>=3.6.6 in c:\\users\\xiayu\\appdata\\local\\packages\\pythonsoftwarefoundation.python.3.10_qbz5n2kfra8p0\\localcache\\local-packages\\python310\\site-packages (from tensorflow==2.8.0) (4.7.1)\n",
      "Requirement already satisfied: wrapt>=1.11.0 in c:\\users\\xiayu\\appdata\\local\\packages\\pythonsoftwarefoundation.python.3.10_qbz5n2kfra8p0\\localcache\\local-packages\\python310\\site-packages (from tensorflow==2.8.0) (1.14.1)\n",
      "Requirement already satisfied: tensorboard<2.9,>=2.8 in c:\\users\\xiayu\\appdata\\local\\packages\\pythonsoftwarefoundation.python.3.10_qbz5n2kfra8p0\\localcache\\local-packages\\python310\\site-packages (from tensorflow==2.8.0) (2.8.0)\n",
      "Requirement already satisfied: tf-estimator-nightly==2.8.0.dev2021122109 in c:\\users\\xiayu\\appdata\\local\\packages\\pythonsoftwarefoundation.python.3.10_qbz5n2kfra8p0\\localcache\\local-packages\\python310\\site-packages (from tensorflow==2.8.0) (2.8.0.dev2021122109)\n",
      "Requirement already satisfied: keras<2.9,>=2.8.0rc0 in c:\\users\\xiayu\\appdata\\local\\packages\\pythonsoftwarefoundation.python.3.10_qbz5n2kfra8p0\\localcache\\local-packages\\python310\\site-packages (from tensorflow==2.8.0) (2.8.0)\n",
      "Requirement already satisfied: tensorflow-io-gcs-filesystem>=0.23.1 in c:\\users\\xiayu\\appdata\\local\\packages\\pythonsoftwarefoundation.python.3.10_qbz5n2kfra8p0\\localcache\\local-packages\\python310\\site-packages (from tensorflow==2.8.0) (0.30.0)\n",
      "Requirement already satisfied: grpcio<2.0,>=1.24.3 in c:\\users\\xiayu\\appdata\\local\\packages\\pythonsoftwarefoundation.python.3.10_qbz5n2kfra8p0\\localcache\\local-packages\\python310\\site-packages (from tensorflow==2.8.0) (1.51.1)\n",
      "Requirement already satisfied: contourpy>=1.0.1 in c:\\users\\xiayu\\appdata\\local\\packages\\pythonsoftwarefoundation.python.3.10_qbz5n2kfra8p0\\localcache\\local-packages\\python310\\site-packages (from matplotlib) (1.1.0)\n",
      "Requirement already satisfied: cycler>=0.10 in c:\\users\\xiayu\\appdata\\local\\packages\\pythonsoftwarefoundation.python.3.10_qbz5n2kfra8p0\\localcache\\local-packages\\python310\\site-packages (from matplotlib) (0.11.0)\n",
      "Requirement already satisfied: fonttools>=4.22.0 in c:\\users\\xiayu\\appdata\\local\\packages\\pythonsoftwarefoundation.python.3.10_qbz5n2kfra8p0\\localcache\\local-packages\\python310\\site-packages (from matplotlib) (4.40.0)\n",
      "Requirement already satisfied: kiwisolver>=1.0.1 in c:\\users\\xiayu\\appdata\\local\\packages\\pythonsoftwarefoundation.python.3.10_qbz5n2kfra8p0\\localcache\\local-packages\\python310\\site-packages (from matplotlib) (1.4.4)\n",
      "Requirement already satisfied: packaging>=20.0 in c:\\users\\xiayu\\appdata\\local\\packages\\pythonsoftwarefoundation.python.3.10_qbz5n2kfra8p0\\localcache\\local-packages\\python310\\site-packages (from matplotlib) (23.0)\n",
      "Requirement already satisfied: pillow>=6.2.0 in c:\\users\\xiayu\\appdata\\local\\packages\\pythonsoftwarefoundation.python.3.10_qbz5n2kfra8p0\\localcache\\local-packages\\python310\\site-packages (from matplotlib) (9.5.0)\n",
      "Requirement already satisfied: pyparsing<3.1,>=2.3.1 in c:\\users\\xiayu\\appdata\\local\\packages\\pythonsoftwarefoundation.python.3.10_qbz5n2kfra8p0\\localcache\\local-packages\\python310\\site-packages (from matplotlib) (3.0.9)\n",
      "Requirement already satisfied: python-dateutil>=2.7 in c:\\users\\xiayu\\appdata\\local\\packages\\pythonsoftwarefoundation.python.3.10_qbz5n2kfra8p0\\localcache\\local-packages\\python310\\site-packages (from matplotlib) (2.8.2)\n",
      "Requirement already satisfied: wheel<1.0,>=0.23.0 in c:\\users\\xiayu\\appdata\\local\\packages\\pythonsoftwarefoundation.python.3.10_qbz5n2kfra8p0\\localcache\\local-packages\\python310\\site-packages (from astunparse>=1.6.0->tensorflow==2.8.0) (0.38.4)\n",
      "Requirement already satisfied: google-auth<3,>=1.6.3 in c:\\users\\xiayu\\appdata\\local\\packages\\pythonsoftwarefoundation.python.3.10_qbz5n2kfra8p0\\localcache\\local-packages\\python310\\site-packages (from tensorboard<2.9,>=2.8->tensorflow==2.8.0) (1.35.0)\n",
      "Requirement already satisfied: google-auth-oauthlib<0.5,>=0.4.1 in c:\\users\\xiayu\\appdata\\local\\packages\\pythonsoftwarefoundation.python.3.10_qbz5n2kfra8p0\\localcache\\local-packages\\python310\\site-packages (from tensorboard<2.9,>=2.8->tensorflow==2.8.0) (0.4.4)\n",
      "Requirement already satisfied: markdown>=2.6.8 in c:\\users\\xiayu\\appdata\\local\\packages\\pythonsoftwarefoundation.python.3.10_qbz5n2kfra8p0\\localcache\\local-packages\\python310\\site-packages (from tensorboard<2.9,>=2.8->tensorflow==2.8.0) (3.4.1)\n",
      "Requirement already satisfied: requests<3,>=2.21.0 in c:\\users\\xiayu\\appdata\\local\\packages\\pythonsoftwarefoundation.python.3.10_qbz5n2kfra8p0\\localcache\\local-packages\\python310\\site-packages (from tensorboard<2.9,>=2.8->tensorflow==2.8.0) (2.31.0)\n",
      "Requirement already satisfied: tensorboard-data-server<0.7.0,>=0.6.0 in c:\\users\\xiayu\\appdata\\local\\packages\\pythonsoftwarefoundation.python.3.10_qbz5n2kfra8p0\\localcache\\local-packages\\python310\\site-packages (from tensorboard<2.9,>=2.8->tensorflow==2.8.0) (0.6.1)\n",
      "Requirement already satisfied: tensorboard-plugin-wit>=1.6.0 in c:\\users\\xiayu\\appdata\\local\\packages\\pythonsoftwarefoundation.python.3.10_qbz5n2kfra8p0\\localcache\\local-packages\\python310\\site-packages (from tensorboard<2.9,>=2.8->tensorflow==2.8.0) (1.8.1)\n",
      "Requirement already satisfied: werkzeug>=0.11.15 in c:\\users\\xiayu\\appdata\\local\\packages\\pythonsoftwarefoundation.python.3.10_qbz5n2kfra8p0\\localcache\\local-packages\\python310\\site-packages (from tensorboard<2.9,>=2.8->tensorflow==2.8.0) (2.2.2)\n",
      "Requirement already satisfied: cachetools<5.0,>=2.0.0 in c:\\users\\xiayu\\appdata\\local\\packages\\pythonsoftwarefoundation.python.3.10_qbz5n2kfra8p0\\localcache\\local-packages\\python310\\site-packages (from google-auth<3,>=1.6.3->tensorboard<2.9,>=2.8->tensorflow==2.8.0) (4.2.4)\n",
      "Requirement already satisfied: pyasn1-modules>=0.2.1 in c:\\users\\xiayu\\appdata\\local\\packages\\pythonsoftwarefoundation.python.3.10_qbz5n2kfra8p0\\localcache\\local-packages\\python310\\site-packages (from google-auth<3,>=1.6.3->tensorboard<2.9,>=2.8->tensorflow==2.8.0) (0.2.8)\n",
      "Requirement already satisfied: rsa<5,>=3.1.4 in c:\\users\\xiayu\\appdata\\local\\packages\\pythonsoftwarefoundation.python.3.10_qbz5n2kfra8p0\\localcache\\local-packages\\python310\\site-packages (from google-auth<3,>=1.6.3->tensorboard<2.9,>=2.8->tensorflow==2.8.0) (4.9)\n",
      "Requirement already satisfied: requests-oauthlib>=0.7.0 in c:\\users\\xiayu\\appdata\\local\\packages\\pythonsoftwarefoundation.python.3.10_qbz5n2kfra8p0\\localcache\\local-packages\\python310\\site-packages (from google-auth-oauthlib<0.5,>=0.4.1->tensorboard<2.9,>=2.8->tensorflow==2.8.0) (1.3.1)\n",
      "Requirement already satisfied: charset-normalizer<4,>=2 in c:\\users\\xiayu\\appdata\\local\\packages\\pythonsoftwarefoundation.python.3.10_qbz5n2kfra8p0\\localcache\\local-packages\\python310\\site-packages (from requests<3,>=2.21.0->tensorboard<2.9,>=2.8->tensorflow==2.8.0) (2.1.1)\n",
      "Requirement already satisfied: idna<4,>=2.5 in c:\\users\\xiayu\\appdata\\local\\packages\\pythonsoftwarefoundation.python.3.10_qbz5n2kfra8p0\\localcache\\local-packages\\python310\\site-packages (from requests<3,>=2.21.0->tensorboard<2.9,>=2.8->tensorflow==2.8.0) (3.4)\n",
      "Requirement already satisfied: urllib3<3,>=1.21.1 in c:\\users\\xiayu\\appdata\\local\\packages\\pythonsoftwarefoundation.python.3.10_qbz5n2kfra8p0\\localcache\\local-packages\\python310\\site-packages (from requests<3,>=2.21.0->tensorboard<2.9,>=2.8->tensorflow==2.8.0) (1.26.13)\n",
      "Requirement already satisfied: certifi>=2017.4.17 in c:\\users\\xiayu\\appdata\\local\\packages\\pythonsoftwarefoundation.python.3.10_qbz5n2kfra8p0\\localcache\\local-packages\\python310\\site-packages (from requests<3,>=2.21.0->tensorboard<2.9,>=2.8->tensorflow==2.8.0) (2022.12.7)\n",
      "Requirement already satisfied: MarkupSafe>=2.1.1 in c:\\users\\xiayu\\appdata\\local\\packages\\pythonsoftwarefoundation.python.3.10_qbz5n2kfra8p0\\localcache\\local-packages\\python310\\site-packages (from werkzeug>=0.11.15->tensorboard<2.9,>=2.8->tensorflow==2.8.0) (2.1.2)\n",
      "Requirement already satisfied: pyasn1<0.5.0,>=0.4.6 in c:\\users\\xiayu\\appdata\\local\\packages\\pythonsoftwarefoundation.python.3.10_qbz5n2kfra8p0\\localcache\\local-packages\\python310\\site-packages (from pyasn1-modules>=0.2.1->google-auth<3,>=1.6.3->tensorboard<2.9,>=2.8->tensorflow==2.8.0) (0.4.8)\n",
      "Requirement already satisfied: oauthlib>=3.0.0 in c:\\users\\xiayu\\appdata\\local\\packages\\pythonsoftwarefoundation.python.3.10_qbz5n2kfra8p0\\localcache\\local-packages\\python310\\site-packages (from requests-oauthlib>=0.7.0->google-auth-oauthlib<0.5,>=0.4.1->tensorboard<2.9,>=2.8->tensorflow==2.8.0) (3.2.2)\n"
     ]
    },
    {
     "name": "stderr",
     "output_type": "stream",
     "text": [
      "\n",
      "[notice] A new release of pip is available: 23.2 -> 23.2.1\n",
      "[notice] To update, run: C:\\Users\\xiayu\\AppData\\Local\\Microsoft\\WindowsApps\\PythonSoftwareFoundation.Python.3.10_qbz5n2kfra8p0\\python.exe -m pip install --upgrade pip\n"
     ]
    }
   ],
   "source": [
    "!pip install tensorflow==2.8.0 tensorflow-gpu==2.8.0 opencv-python matplotlib"
   ]
  },
  {
   "cell_type": "code",
   "execution_count": 2,
   "id": "afc80d62",
   "metadata": {},
   "outputs": [],
   "source": [
    "import cv2\n",
    "import os\n",
    "import random\n",
    "import numpy as np\n",
    "from matplotlib import pyplot as plt"
   ]
  },
  {
   "cell_type": "code",
   "execution_count": 3,
   "id": "0f64fece",
   "metadata": {},
   "outputs": [],
   "source": [
    "plt.imshow??"
   ]
  },
  {
   "cell_type": "code",
   "execution_count": 4,
   "id": "c3c718ff",
   "metadata": {},
   "outputs": [],
   "source": [
    "#functional api import \n",
    "from tensorflow.keras.models import Model\n",
    "from tensorflow.keras.layers import Layer, Conv2D, Dense, MaxPooling2D, Input, Flatten\n",
    "import tensorflow as tf"
   ]
  },
  {
   "cell_type": "markdown",
   "id": "405eaf57",
   "metadata": {},
   "source": [
    "# Folder Structures"
   ]
  },
  {
   "cell_type": "code",
   "execution_count": 5,
   "id": "a00ccc24",
   "metadata": {},
   "outputs": [],
   "source": [
    "POS_PATH = os.path.join('data', 'positive')\n",
    "NEG_PATH = os.path.join('data', 'negative')\n",
    "ANC_PATH = os.path.join('data', 'anchor')"
   ]
  },
  {
   "cell_type": "code",
   "execution_count": 6,
   "id": "5d39f0f1",
   "metadata": {},
   "outputs": [],
   "source": [
    "os.makedirs(POS_PATH, exist_ok = True)\n",
    "os.makedirs(NEG_PATH, exist_ok = True)\n",
    "os.makedirs(ANC_PATH, exist_ok = True)"
   ]
  },
  {
   "cell_type": "markdown",
   "id": "5b10230c",
   "metadata": {},
   "source": [
    "# Collect positive and anchors"
   ]
  },
  {
   "cell_type": "code",
   "execution_count": 7,
   "id": "1c8a5800",
   "metadata": {},
   "outputs": [],
   "source": [
    "#Uncompress the GZ file\n",
    "# !tar -xf lfw.tgz"
   ]
  },
  {
   "cell_type": "markdown",
   "id": "36b0f884",
   "metadata": {},
   "source": [
    "# Move the Images to data/negative"
   ]
  },
  {
   "cell_type": "code",
   "execution_count": 8,
   "id": "a5dbf08a",
   "metadata": {},
   "outputs": [],
   "source": [
    "# for directory in os.listdir('lfw'):\n",
    "#     directory_path = os.path.join('lfw', directory)\n",
    "#     for file in os.listdir(directory_path):\n",
    "#         EX_PATH = os.path.join('lfw', directory, file)\n",
    "#         NEW_PATH = os.path.join(NEG_PATH, file)\n",
    "#         os.replace(EX_PATH, NEW_PATH)"
   ]
  },
  {
   "cell_type": "markdown",
   "id": "4bddbd92",
   "metadata": {},
   "source": [
    "# Collect Positive and Anchor Classes"
   ]
  },
  {
   "cell_type": "code",
   "execution_count": 9,
   "id": "7bb67767",
   "metadata": {},
   "outputs": [],
   "source": [
    "#get unique id\n",
    "import uuid"
   ]
  },
  {
   "cell_type": "code",
   "execution_count": 10,
   "id": "0ce002e1",
   "metadata": {},
   "outputs": [
    {
     "data": {
      "text/plain": [
       "UUID('c296197c-3175-11ee-8e1b-c4bde5784b6d')"
      ]
     },
     "execution_count": 10,
     "metadata": {},
     "output_type": "execute_result"
    }
   ],
   "source": [
    "uuid.uuid1()"
   ]
  },
  {
   "cell_type": "code",
   "execution_count": 11,
   "id": "a013299b",
   "metadata": {},
   "outputs": [],
   "source": [
    "cap = cv2.VideoCapture(0)\n",
    "while cap.isOpened():\n",
    "    ret, frame = cap.read()\n",
    "    #resize frame\n",
    "    frame = frame[100:120+250, 200:200+250, :]\n",
    "    \n",
    "    #collect anchors\n",
    "    if cv2.waitKey(1) & 0XFF == ord('a'):\n",
    "        #unique name\n",
    "        imgname = os.path.join(ANC_PATH, '{}.jpg'.format(uuid.uuid1()))\n",
    "        #write img\n",
    "        cv2.imwrite(imgname, frame)\n",
    "        \n",
    "        \n",
    "    #collect positives\n",
    "    if cv2.waitKey(1) & 0XFF == ord('p'):\n",
    "         imgname = os.path.join(POS_PATH, '{}.jpg'.format(uuid.uuid1()))\n",
    "         #write img\n",
    "         cv2.imwrite(imgname, frame)\n",
    "\n",
    "    cv2.imshow(\"Image Collection\", frame)\n",
    "    \n",
    "    if cv2.waitKey(1) & 0XFF == ord('q'):\n",
    "        break\n",
    "        \n",
    "#release webcam and close image show frame\n",
    "cap.release()\n",
    "cv2.destroyAllWindows()"
   ]
  },
  {
   "cell_type": "code",
   "execution_count": 12,
   "id": "59155c8f",
   "metadata": {},
   "outputs": [
    {
     "data": {
      "text/plain": [
       "(270, 250, 3)"
      ]
     },
     "execution_count": 12,
     "metadata": {},
     "output_type": "execute_result"
    }
   ],
   "source": [
    "frame.shape"
   ]
  },
  {
   "cell_type": "code",
   "execution_count": 13,
   "id": "54e349d1",
   "metadata": {},
   "outputs": [
    {
     "data": {
      "text/plain": [
       "<matplotlib.image.AxesImage at 0x2097e11a080>"
      ]
     },
     "execution_count": 13,
     "metadata": {},
     "output_type": "execute_result"
    },
    {
     "data": {
      "image/png": "[encoded data removed]",
      "text/plain": [
       "<Figure size 640x480 with 1 Axes>"
      ]
     },
     "metadata": {},
     "output_type": "display_data"
    }
   ],
   "source": [
    "plt.imshow(frame[100:120+250, 200:200+250, :])"
   ]
  },
  {
   "cell_type": "markdown",
   "id": "d5a3d0cc",
   "metadata": {},
   "source": [
    "# Get Image Directories"
   ]
  },
  {
   "cell_type": "code",
   "execution_count": 14,
   "id": "894c65e7",
   "metadata": {},
   "outputs": [],
   "source": [
    "anchor = tf.data.Dataset.list_files(ANC_PATH + '\\*.jpg').take(300)\n",
    "positive = tf.data.Dataset.list_files(POS_PATH + '\\*.jpg').take(300)\n",
    "negative = tf.data.Dataset.list_files(NEG_PATH + '\\*.jpg').take(300)"
   ]
  },
  {
   "cell_type": "code",
   "execution_count": 15,
   "id": "2932acfb",
   "metadata": {},
   "outputs": [],
   "source": [
    "dir_test = anchor.as_numpy_iterator()"
   ]
  },
  {
   "cell_type": "code",
   "execution_count": 16,
   "id": "6fdf88f5",
   "metadata": {},
   "outputs": [
    {
     "data": {
      "text/plain": [
       "b'data\\\\anchor\\\\2d35b8c8-3009-11ee-b8f4-c4bde5784b6d.jpg'"
      ]
     },
     "execution_count": 16,
     "metadata": {},
     "output_type": "execute_result"
    }
   ],
   "source": [
    "dir_test.next()"
   ]
  },
  {
   "cell_type": "markdown",
   "id": "78ed528e",
   "metadata": {},
   "source": [
    "# Preprocessing"
   ]
  },
  {
   "cell_type": "code",
   "execution_count": 17,
   "id": "ba886f5b",
   "metadata": {},
   "outputs": [],
   "source": [
    "def preprocess(file_path):\n",
    "    byte_img = tf.io.read_file(file_path)\n",
    "    img = tf.io.decode_jpeg(byte_img)\n",
    "    #Preprocessing resizing the image to be 100X100X3\n",
    "    img = tf.image.resize(img, (100,100))\n",
    "    #scale image to be between 0 and 1\n",
    "    img = img /255.0\n",
    "    return img"
   ]
  },
  {
   "cell_type": "code",
   "execution_count": 18,
   "id": "5fe7dc65",
   "metadata": {},
   "outputs": [],
   "source": [
    "img = preprocess('data\\\\anchor\\\\ffee009d-3008-11ee-9149-c4bde5784b6d.jpg')"
   ]
  },
  {
   "cell_type": "code",
   "execution_count": 19,
   "id": "e34964a6",
   "metadata": {},
   "outputs": [
    {
     "data": {
      "text/plain": [
       "0.8734313"
      ]
     },
     "execution_count": 19,
     "metadata": {},
     "output_type": "execute_result"
    }
   ],
   "source": [
    "img.numpy().max()"
   ]
  },
  {
   "cell_type": "code",
   "execution_count": 20,
   "id": "05650a83",
   "metadata": {},
   "outputs": [
    {
     "data": {
      "text/plain": [
       "<matplotlib.image.AxesImage at 0x2098901ceb0>"
      ]
     },
     "execution_count": 20,
     "metadata": {},
     "output_type": "execute_result"
    },
    {
     "data": {
      "image/png": "[encoded data removed]",
      "text/plain": [
       "<Figure size 640x480 with 1 Axes>"
      ]
     },
     "metadata": {},
     "output_type": "display_data"
    }
   ],
   "source": [
    "plt.imshow(img)"
   ]
  },
  {
   "cell_type": "markdown",
   "id": "24035edd",
   "metadata": {},
   "source": [
    "# Create Labelled Dataset"
   ]
  },
  {
   "cell_type": "code",
   "execution_count": 21,
   "id": "01a504ab",
   "metadata": {},
   "outputs": [],
   "source": [
    "# (anchor, positive) => 1,1,1,1\n",
    "# (anchor, negative) => 0,0,0,0"
   ]
  },
  {
   "cell_type": "code",
   "execution_count": 22,
   "id": "962632df",
   "metadata": {},
   "outputs": [],
   "source": [
    "positives = tf.data.Dataset.zip((anchor,positive, tf.data.Dataset.from_tensor_slices(tf.ones(len(anchor)))))\n",
    "negatives = tf.data.Dataset.zip((anchor,negative, tf.data.Dataset.from_tensor_slices(tf.zeros(len(anchor)))))\n",
    "data = positives.concatenate(negatives)"
   ]
  },
  {
   "cell_type": "code",
   "execution_count": 23,
   "id": "7fdee7c7",
   "metadata": {},
   "outputs": [
    {
     "data": {
      "text/plain": [
       "<tf.Tensor: shape=(300,), dtype=float32, numpy=\n",
       "array([1., 1., 1., 1., 1., 1., 1., 1., 1., 1., 1., 1., 1., 1., 1., 1., 1.,\n",
       "       1., 1., 1., 1., 1., 1., 1., 1., 1., 1., 1., 1., 1., 1., 1., 1., 1.,\n",
       "       1., 1., 1., 1., 1., 1., 1., 1., 1., 1., 1., 1., 1., 1., 1., 1., 1.,\n",
       "       1., 1., 1., 1., 1., 1., 1., 1., 1., 1., 1., 1., 1., 1., 1., 1., 1.,\n",
       "       1., 1., 1., 1., 1., 1., 1., 1., 1., 1., 1., 1., 1., 1., 1., 1., 1.,\n",
       "       1., 1., 1., 1., 1., 1., 1., 1., 1., 1., 1., 1., 1., 1., 1., 1., 1.,\n",
       "       1., 1., 1., 1., 1., 1., 1., 1., 1., 1., 1., 1., 1., 1., 1., 1., 1.,\n",
       "       1., 1., 1., 1., 1., 1., 1., 1., 1., 1., 1., 1., 1., 1., 1., 1., 1.,\n",
       "       1., 1., 1., 1., 1., 1., 1., 1., 1., 1., 1., 1., 1., 1., 1., 1., 1.,\n",
       "       1., 1., 1., 1., 1., 1., 1., 1., 1., 1., 1., 1., 1., 1., 1., 1., 1.,\n",
       "       1., 1., 1., 1., 1., 1., 1., 1., 1., 1., 1., 1., 1., 1., 1., 1., 1.,\n",
       "       1., 1., 1., 1., 1., 1., 1., 1., 1., 1., 1., 1., 1., 1., 1., 1., 1.,\n",
       "       1., 1., 1., 1., 1., 1., 1., 1., 1., 1., 1., 1., 1., 1., 1., 1., 1.,\n",
       "       1., 1., 1., 1., 1., 1., 1., 1., 1., 1., 1., 1., 1., 1., 1., 1., 1.,\n",
       "       1., 1., 1., 1., 1., 1., 1., 1., 1., 1., 1., 1., 1., 1., 1., 1., 1.,\n",
       "       1., 1., 1., 1., 1., 1., 1., 1., 1., 1., 1., 1., 1., 1., 1., 1., 1.,\n",
       "       1., 1., 1., 1., 1., 1., 1., 1., 1., 1., 1., 1., 1., 1., 1., 1., 1.,\n",
       "       1., 1., 1., 1., 1., 1., 1., 1., 1., 1., 1.], dtype=float32)>"
      ]
     },
     "execution_count": 23,
     "metadata": {},
     "output_type": "execute_result"
    }
   ],
   "source": [
    "tf.ones(len(anchor))"
   ]
  },
  {
   "cell_type": "code",
   "execution_count": 24,
   "id": "e95d1d6b",
   "metadata": {},
   "outputs": [],
   "source": [
    "example = data.as_numpy_iterator()"
   ]
  },
  {
   "cell_type": "code",
   "execution_count": 25,
   "id": "bec44580",
   "metadata": {},
   "outputs": [],
   "source": [
    "sample = example.next()"
   ]
  },
  {
   "cell_type": "markdown",
   "id": "53da49da",
   "metadata": {},
   "source": [
    "# Build Train and Test Partition"
   ]
  },
  {
   "cell_type": "code",
   "execution_count": 26,
   "id": "9852cc63",
   "metadata": {},
   "outputs": [],
   "source": [
    "def preprocess_twin(input_img, validation_img, label):\n",
    "    return(preprocess(input_img), preprocess(validation_img), label)"
   ]
  },
  {
   "cell_type": "code",
   "execution_count": 27,
   "id": "139181c7",
   "metadata": {
    "scrolled": true
   },
   "outputs": [],
   "source": [
    "res = preprocess_twin(*sample)"
   ]
  },
  {
   "cell_type": "code",
   "execution_count": 28,
   "id": "66a2bdea",
   "metadata": {},
   "outputs": [
    {
     "data": {
      "text/plain": [
       "<matplotlib.image.AxesImage at 0x2098f091810>"
      ]
     },
     "execution_count": 28,
     "metadata": {},
     "output_type": "execute_result"
    },
    {
     "data": {
      "image/png": "[encoded data removed]",
      "text/plain": [
       "<Figure size 640x480 with 1 Axes>"
      ]
     },
     "metadata": {},
     "output_type": "display_data"
    }
   ],
   "source": [
    "plt.imshow(res[0])"
   ]
  },
  {
   "cell_type": "code",
   "execution_count": 29,
   "id": "e4529e91",
   "metadata": {},
   "outputs": [
    {
     "data": {
      "text/plain": [
       "<matplotlib.image.AxesImage at 0x2098f111720>"
      ]
     },
     "execution_count": 29,
     "metadata": {},
     "output_type": "execute_result"
    },
    {
     "data": {
      "image/png": "[encoded data removed]",
      "text/plain": [
       "<Figure size 640x480 with 1 Axes>"
      ]
     },
     "metadata": {},
     "output_type": "display_data"
    }
   ],
   "source": [
    "plt.imshow(res[1])"
   ]
  },
  {
   "cell_type": "code",
   "execution_count": 30,
   "id": "c8aa4e28",
   "metadata": {},
   "outputs": [
    {
     "data": {
      "text/plain": [
       "1.0"
      ]
     },
     "execution_count": 30,
     "metadata": {},
     "output_type": "execute_result"
    }
   ],
   "source": [
    "res[2]"
   ]
  },
  {
   "cell_type": "code",
   "execution_count": 31,
   "id": "c699bf5c",
   "metadata": {},
   "outputs": [],
   "source": [
    "#Build dataLoader Pipeline\n",
    "data = data.map(preprocess_twin)\n",
    "data = data.cache()\n",
    "data = data.shuffle(buffer_size=1024)"
   ]
  },
  {
   "cell_type": "code",
   "execution_count": 32,
   "id": "d7024931",
   "metadata": {},
   "outputs": [],
   "source": [
    "samples = data.as_numpy_iterator()"
   ]
  },
  {
   "cell_type": "code",
   "execution_count": 33,
   "id": "0a4b8555",
   "metadata": {
    "scrolled": true
   },
   "outputs": [],
   "source": [
    "sam = samples.next()"
   ]
  },
  {
   "cell_type": "code",
   "execution_count": 34,
   "id": "1b8d2598",
   "metadata": {},
   "outputs": [
    {
     "data": {
      "text/plain": [
       "3"
      ]
     },
     "execution_count": 34,
     "metadata": {},
     "output_type": "execute_result"
    }
   ],
   "source": [
    "len(sam)"
   ]
  },
  {
   "cell_type": "code",
   "execution_count": 35,
   "id": "0dedc35c",
   "metadata": {},
   "outputs": [
    {
     "data": {
      "text/plain": [
       "<matplotlib.image.AxesImage at 0x2098fe83f10>"
      ]
     },
     "execution_count": 35,
     "metadata": {},
     "output_type": "execute_result"
    },
    {
     "data": {
      "image/png": "[encoded data removed]",
      "text/plain": [
       "<Figure size 640x480 with 1 Axes>"
      ]
     },
     "metadata": {},
     "output_type": "display_data"
    }
   ],
   "source": [
    "plt.imshow(sam[0])"
   ]
  },
  {
   "cell_type": "code",
   "execution_count": 36,
   "id": "10ba9b97",
   "metadata": {},
   "outputs": [
    {
     "data": {
      "text/plain": [
       "<matplotlib.image.AxesImage at 0x2098ff155a0>"
      ]
     },
     "execution_count": 36,
     "metadata": {},
     "output_type": "execute_result"
    },
    {
     "data": {
      "image/png": "[encoded data removed]",
      "text/plain": [
       "<Figure size 640x480 with 1 Axes>"
      ]
     },
     "metadata": {},
     "output_type": "display_data"
    }
   ],
   "source": [
    "plt.imshow(sam[1])"
   ]
  },
  {
   "cell_type": "code",
   "execution_count": 37,
   "id": "4994f3f1",
   "metadata": {},
   "outputs": [
    {
     "data": {
      "text/plain": [
       "0.0"
      ]
     },
     "execution_count": 37,
     "metadata": {},
     "output_type": "execute_result"
    }
   ],
   "source": [
    "sam[2]"
   ]
  },
  {
   "cell_type": "code",
   "execution_count": 38,
   "id": "c5bc66ff",
   "metadata": {},
   "outputs": [],
   "source": [
    "#Training Partition\n",
    "train_data = data.take(round(len(data)* .7))\n",
    "train_data = train_data.batch(16)\n",
    "train_data = train_data.prefetch(8)"
   ]
  },
  {
   "cell_type": "code",
   "execution_count": 39,
   "id": "66691fec",
   "metadata": {},
   "outputs": [
    {
     "data": {
      "text/plain": [
       "<ShuffleDataset element_spec=(TensorSpec(shape=(100, 100, None), dtype=tf.float32, name=None), TensorSpec(shape=(100, 100, None), dtype=tf.float32, name=None), TensorSpec(shape=(), dtype=tf.float32, name=None))>"
      ]
     },
     "execution_count": 39,
     "metadata": {},
     "output_type": "execute_result"
    }
   ],
   "source": [
    "data"
   ]
  },
  {
   "cell_type": "code",
   "execution_count": 40,
   "id": "ecff256c",
   "metadata": {},
   "outputs": [],
   "source": [
    "samples = train_data.as_numpy_iterator()"
   ]
  },
  {
   "cell_type": "code",
   "execution_count": 41,
   "id": "ef1acd9e",
   "metadata": {},
   "outputs": [],
   "source": [
    "sample = samples.next()"
   ]
  },
  {
   "cell_type": "code",
   "execution_count": 42,
   "id": "88189581",
   "metadata": {},
   "outputs": [
    {
     "data": {
      "text/plain": [
       "array([[[[0.7570098 , 0.70210785, 0.5962255 ],\n",
       "         [0.7527941 , 0.6978921 , 0.59299016],\n",
       "         [0.7490196 , 0.69411767, 0.5921569 ],\n",
       "         ...,\n",
       "         [0.7613235 , 0.71818626, 0.60838234],\n",
       "         [0.7647059 , 0.72156864, 0.6117647 ],\n",
       "         [0.7652941 , 0.7221568 , 0.6123529 ]],\n",
       "\n",
       "        [[0.7486274 , 0.7001961 , 0.5921569 ],\n",
       "         [0.7507843 , 0.7018137 , 0.5952941 ],\n",
       "         [0.7473039 , 0.6967157 , 0.59475493],\n",
       "         ...,\n",
       "         [0.7612255 , 0.71848035, 0.6143628 ],\n",
       "         [0.762549  , 0.72112745, 0.6143628 ],\n",
       "         [0.762549  , 0.72156864, 0.6139216 ]],\n",
       "\n",
       "        [[0.7610294 , 0.70612746, 0.6002451 ],\n",
       "         [0.7558824 , 0.70098037, 0.595098  ],\n",
       "         [0.7529412 , 0.69803923, 0.5921569 ],\n",
       "         ...,\n",
       "         [0.7647059 , 0.72156864, 0.6117647 ],\n",
       "         [0.7637255 , 0.7205882 , 0.6107843 ],\n",
       "         [0.7617647 , 0.71862745, 0.60882354]],\n",
       "\n",
       "        ...,\n",
       "\n",
       "        [[0.10980392, 0.10980392, 0.10196079],\n",
       "         [0.10686275, 0.10686275, 0.09901961],\n",
       "         [0.0882353 , 0.09411765, 0.08333334],\n",
       "         ...,\n",
       "         [0.3379902 , 0.28308824, 0.17720588],\n",
       "         [0.34411764, 0.28186274, 0.17965686],\n",
       "         [0.33333334, 0.27058825, 0.16862746]],\n",
       "\n",
       "        [[0.11764706, 0.11764706, 0.11411755],\n",
       "         [0.11416668, 0.11416668, 0.11063717],\n",
       "         [0.0994608 , 0.0994608 , 0.09593129],\n",
       "         ...,\n",
       "         [0.34607843, 0.28235295, 0.18171573],\n",
       "         [0.34563723, 0.27897057, 0.17700979],\n",
       "         [0.3300001 , 0.25803918, 0.15784314]],\n",
       "\n",
       "        [[0.12593135, 0.12985292, 0.10715685],\n",
       "         [0.13073523, 0.1346568 , 0.11196074],\n",
       "         [0.11985285, 0.11789206, 0.09980385],\n",
       "         ...,\n",
       "         [0.3417647 , 0.2790196 , 0.17999998],\n",
       "         [0.34117648, 0.2754902 , 0.17352942],\n",
       "         [0.31955886, 0.2528922 , 0.14308828]]],\n",
       "\n",
       "\n",
       "       [[[0.76553917, 0.70671564, 0.59299016],\n",
       "         [0.7612255 , 0.70632356, 0.5925981 ],\n",
       "         [0.75686276, 0.7019608 , 0.5882353 ],\n",
       "         ...,\n",
       "         [0.76862746, 0.7137255 , 0.6       ],\n",
       "         [0.7627451 , 0.71666664, 0.6       ],\n",
       "         [0.7607843 , 0.7176471 , 0.6       ]],\n",
       "\n",
       "        [[0.75730395, 0.702402  , 0.59651965],\n",
       "         [0.7610784 , 0.70617646, 0.5994118 ],\n",
       "         [0.75730395, 0.702402  , 0.59299016],\n",
       "         ...,\n",
       "         [0.7707843 , 0.71588236, 0.6032353 ],\n",
       "         [0.7627451 , 0.71666664, 0.6069608 ],\n",
       "         [0.7607843 , 0.7176471 , 0.60784316]],\n",
       "\n",
       "        [[0.75710785, 0.7022059 , 0.59632355],\n",
       "         [0.7519608 , 0.7088235 , 0.5990196 ],\n",
       "         [0.74607843, 0.7029412 , 0.59313726],\n",
       "         ...,\n",
       "         [0.7713235 , 0.71936274, 0.6125    ],\n",
       "         [0.7607843 , 0.7176471 , 0.60784316],\n",
       "         [0.7647059 , 0.7176471 , 0.6156863 ]],\n",
       "\n",
       "        ...,\n",
       "\n",
       "        [[0.10980392, 0.11372549, 0.09411765],\n",
       "         [0.1       , 0.10294118, 0.08627451],\n",
       "         [0.08946078, 0.08946078, 0.08161765],\n",
       "         ...,\n",
       "         [0.34583333, 0.2901961 , 0.19044118],\n",
       "         [0.34485295, 0.28259805, 0.18063726],\n",
       "         [0.3254902 , 0.25882354, 0.15686275]],\n",
       "\n",
       "        [[0.1219118 , 0.11799023, 0.09838239],\n",
       "         [0.11156867, 0.11549024, 0.09411765],\n",
       "         [0.09784319, 0.10176475, 0.08039216],\n",
       "         ...,\n",
       "         [0.34823525, 0.28583333, 0.17901947],\n",
       "         [0.34431368, 0.27764702, 0.1689215 ],\n",
       "         [0.3372549 , 0.2605883 , 0.14941166]],\n",
       "\n",
       "        [[0.11808822, 0.12200978, 0.09848037],\n",
       "         [0.12230389, 0.12622546, 0.10269605],\n",
       "         [0.1168627 , 0.12078427, 0.09725486],\n",
       "         ...,\n",
       "         [0.34495097, 0.28612745, 0.17240196],\n",
       "         [0.34117648, 0.28235295, 0.16862746],\n",
       "         [0.32156864, 0.25490198, 0.14509805]]],\n",
       "\n",
       "\n",
       "       [[[0.75686276, 0.69803923, 0.58431375],\n",
       "         [0.7617647 , 0.7029412 , 0.5892157 ],\n",
       "         [0.7617647 , 0.7029412 , 0.5892157 ],\n",
       "         ...,\n",
       "         [0.7607843 , 0.722549  , 0.61470586],\n",
       "         [0.7601961 , 0.724902  , 0.6111765 ],\n",
       "         [0.7613725 , 0.71823525, 0.60843134]],\n",
       "\n",
       "        [[0.7584804 , 0.7035785 , 0.589853  ],\n",
       "         [0.76034313, 0.7054412 , 0.5917157 ],\n",
       "         [0.75686276, 0.7019608 , 0.5882353 ],\n",
       "         ...,\n",
       "         [0.7590196 , 0.71549016, 0.6117647 ],\n",
       "         [0.7581862 , 0.7120098 , 0.6096078 ],\n",
       "         [0.762549  , 0.7172549 , 0.6117647 ]],\n",
       "\n",
       "        [[0.75392157, 0.7107843 , 0.59313726],\n",
       "         [0.7519608 , 0.7058824 , 0.5892157 ],\n",
       "         [0.7607843 , 0.7058824 , 0.5921569 ],\n",
       "         ...,\n",
       "         [0.7639706 , 0.7176471 , 0.6142157 ],\n",
       "         [0.76593137, 0.7132353 , 0.6107843 ],\n",
       "         [0.76960784, 0.7147059 , 0.60882354]],\n",
       "\n",
       "        ...,\n",
       "\n",
       "        [[0.10980392, 0.11764706, 0.09803922],\n",
       "         [0.10784314, 0.11568628, 0.09607843],\n",
       "         [0.08897059, 0.09681372, 0.07720588],\n",
       "         ...,\n",
       "         [0.3372549 , 0.28921568, 0.20588236],\n",
       "         [0.33431372, 0.28333333, 0.20882353],\n",
       "         [0.31470588, 0.2637255 , 0.18921569]],\n",
       "\n",
       "        [[0.10818631, 0.10995106, 0.09681366],\n",
       "         [0.11112749, 0.11112749, 0.10328435],\n",
       "         [0.09446082, 0.09446082, 0.08985291],\n",
       "         ...,\n",
       "         [0.34009805, 0.28289214, 0.19911762],\n",
       "         [0.32867652, 0.27632344, 0.18828419],\n",
       "         [0.3131374 , 0.2612255 , 0.17078426]],\n",
       "\n",
       "        [[0.11921566, 0.12313723, 0.09843139],\n",
       "         [0.12568623, 0.1296078 , 0.10955879],\n",
       "         [0.10848033, 0.1124019 , 0.09279405],\n",
       "         ...,\n",
       "         [0.34509805, 0.28235295, 0.18431373],\n",
       "         [0.3382353 , 0.2754902 , 0.17745098],\n",
       "         [0.31803924, 0.25529414, 0.15725492]]],\n",
       "\n",
       "\n",
       "       ...,\n",
       "\n",
       "\n",
       "       [[[0.7656863 , 0.6990196 , 0.58137256],\n",
       "         [0.75980395, 0.69509804, 0.57843137],\n",
       "         [0.7570098 , 0.6981863 , 0.5844608 ],\n",
       "         ...,\n",
       "         [0.75769603, 0.7145588 , 0.60475487],\n",
       "         [0.7572549 , 0.71411765, 0.60431373],\n",
       "         [0.75686276, 0.7137255 , 0.6039216 ]],\n",
       "\n",
       "        [[0.762549  , 0.70372546, 0.5864706 ],\n",
       "         [0.75647056, 0.6998039 , 0.5871569 ],\n",
       "         [0.7538236 , 0.6984804 , 0.5890686 ],\n",
       "         ...,\n",
       "         [0.75392157, 0.7160294 , 0.60857844],\n",
       "         [0.75916666, 0.719951  , 0.61838233],\n",
       "         [0.7529412 , 0.7137255 , 0.61215687]],\n",
       "\n",
       "        [[0.7522059 , 0.69730395, 0.59142154],\n",
       "         [0.74509805, 0.70098037, 0.59313726],\n",
       "         [0.74215686, 0.69509804, 0.59313726],\n",
       "         ...,\n",
       "         [0.7607843 , 0.72156864, 0.62352943],\n",
       "         [0.75392157, 0.7147059 , 0.6166667 ],\n",
       "         [0.75686276, 0.7176471 , 0.61960787]],\n",
       "\n",
       "        ...,\n",
       "\n",
       "        [[0.10196079, 0.10980392, 0.09803922],\n",
       "         [0.09215686, 0.1       , 0.09019608],\n",
       "         [0.08161765, 0.08946078, 0.08553921],\n",
       "         ...,\n",
       "         [0.36053923, 0.28431374, 0.18553922],\n",
       "         [0.3507353 , 0.2723039 , 0.16838235],\n",
       "         [0.34411764, 0.26568627, 0.15980393]],\n",
       "\n",
       "        [[0.10534315, 0.11318628, 0.10142158],\n",
       "         [0.1045099 , 0.11147066, 0.10210793],\n",
       "         [0.09284321, 0.09392162, 0.09073528],\n",
       "         ...,\n",
       "         [0.36906865, 0.2867157 , 0.17730384],\n",
       "         [0.3642158 , 0.27789217, 0.16980387],\n",
       "         [0.3437256 , 0.2560784 , 0.14843127]],\n",
       "\n",
       "        [[0.10588235, 0.11372549, 0.10980392],\n",
       "         [0.12465686, 0.12465686, 0.12465686],\n",
       "         [0.11529409, 0.11529409, 0.10941174],\n",
       "         ...,\n",
       "         [0.36259803, 0.2831863 , 0.17730393],\n",
       "         [0.3694608 , 0.28710786, 0.1812255 ],\n",
       "         [0.3322059 , 0.24985294, 0.1439706 ]]],\n",
       "\n",
       "\n",
       "       [[[0.75745094, 0.6986274 , 0.5849019 ],\n",
       "         [0.75745094, 0.6986274 , 0.5849019 ],\n",
       "         [0.7545098 , 0.6986274 , 0.5849019 ],\n",
       "         ...,\n",
       "         [0.7632843 , 0.7201471 , 0.6103431 ],\n",
       "         [0.7607843 , 0.7176471 , 0.60784316],\n",
       "         [0.7647059 , 0.72156864, 0.6117647 ]],\n",
       "\n",
       "        [[0.7607843 , 0.70411766, 0.5903922 ],\n",
       "         [0.75686276, 0.7019608 , 0.5893137 ],\n",
       "         [0.75553924, 0.7006373 , 0.5912255 ],\n",
       "         ...,\n",
       "         [0.7720098 , 0.71710783, 0.60338235],\n",
       "         [0.76862746, 0.7137255 , 0.6       ],\n",
       "         [0.76686275, 0.7172549 , 0.6096078 ]],\n",
       "\n",
       "        [[0.7480392 , 0.70490193, 0.595098  ],\n",
       "         [0.7480392 , 0.70490193, 0.595098  ],\n",
       "         [0.7480392 , 0.70490193, 0.595098  ],\n",
       "         ...,\n",
       "         [0.7683824 , 0.7134804 , 0.60759807],\n",
       "         [0.7615196 , 0.70661765, 0.6007353 ],\n",
       "         [0.7607843 , 0.7137255 , 0.6117647 ]],\n",
       "\n",
       "        ...,\n",
       "\n",
       "        [[0.09730392, 0.09730392, 0.10514706],\n",
       "         [0.09607843, 0.09705883, 0.10490196],\n",
       "         [0.08406863, 0.09117647, 0.08946078],\n",
       "         ...,\n",
       "         [0.34387255, 0.2855392 , 0.18431373],\n",
       "         [0.3507353 , 0.28259805, 0.17941177],\n",
       "         [0.3526961 , 0.2752451 , 0.16593137]],\n",
       "\n",
       "        [[0.10274515, 0.10058833, 0.11490192],\n",
       "         [0.10372554, 0.10210793, 0.1148039 ],\n",
       "         [0.09446082, 0.09446082, 0.09965683],\n",
       "         ...,\n",
       "         [0.32838225, 0.28102937, 0.19529407],\n",
       "         [0.34245092, 0.28333333, 0.19622557],\n",
       "         [0.32691178, 0.25985304, 0.17073537]],\n",
       "\n",
       "        [[0.10799019, 0.10799019, 0.10181373],\n",
       "         [0.11823527, 0.11823527, 0.11205881],\n",
       "         [0.11867643, 0.11573526, 0.1070098 ],\n",
       "         ...,\n",
       "         [0.32887253, 0.2790196 , 0.18544117],\n",
       "         [0.34313726, 0.28235295, 0.18833336],\n",
       "         [0.3158823 , 0.2531372 , 0.15509799]]],\n",
       "\n",
       "\n",
       "       [[[0.76553917, 0.7027941 , 0.5616176 ],\n",
       "         [0.7637255 , 0.7029412 , 0.5677451 ],\n",
       "         [0.76034313, 0.7025    , 0.5711274 ],\n",
       "         ...,\n",
       "         [0.7617647 , 0.7147059 , 0.6127451 ],\n",
       "         [0.7612255 , 0.71710783, 0.60926473],\n",
       "         [0.7647059 , 0.72156864, 0.6117647 ]],\n",
       "\n",
       "        [[0.7629902 , 0.702402  , 0.5773039 ],\n",
       "         [0.7602451 , 0.7019608 , 0.57882357],\n",
       "         [0.7556863 , 0.70166665, 0.5830882 ],\n",
       "         ...,\n",
       "         [0.7647059 , 0.71818626, 0.61514705],\n",
       "         [0.762402  , 0.71882355, 0.60990196],\n",
       "         [0.7647059 , 0.72156864, 0.6117647 ]],\n",
       "\n",
       "        [[0.75980395, 0.70490193, 0.6007353 ],\n",
       "         [0.7588235 , 0.70392156, 0.5997549 ],\n",
       "         [0.75      , 0.70098037, 0.5990196 ],\n",
       "         ...,\n",
       "         [0.7629902 , 0.7169118 , 0.6129902 ],\n",
       "         [0.7637255 , 0.7205882 , 0.6107843 ],\n",
       "         [0.7647059 , 0.72156864, 0.6117647 ]],\n",
       "\n",
       "        ...,\n",
       "\n",
       "        [[0.10588235, 0.10980392, 0.11764706],\n",
       "         [0.10294118, 0.10588235, 0.11372549],\n",
       "         [0.09583333, 0.09583333, 0.10367647],\n",
       "         ...,\n",
       "         [0.35784313, 0.2784314 , 0.17205882],\n",
       "         [0.35465688, 0.2723039 , 0.15710784],\n",
       "         [0.34387255, 0.2632353 , 0.1382353 ]],\n",
       "\n",
       "        [[0.11397064, 0.11397064, 0.11044114],\n",
       "         [0.11191185, 0.11191185, 0.10838234],\n",
       "         [0.1050491 , 0.10372554, 0.10019603],\n",
       "         ...,\n",
       "         [0.35686275, 0.2784314 , 0.17843138],\n",
       "         [0.35642156, 0.275049  , 0.16593143],\n",
       "         [0.3480392 , 0.26568627, 0.15088238]],\n",
       "\n",
       "        [[0.11666667, 0.11666667, 0.10882353],\n",
       "         [0.12999998, 0.12607841, 0.11627448],\n",
       "         [0.12357839, 0.11965682, 0.10397055],\n",
       "         ...,\n",
       "         [0.35142156, 0.2818137 , 0.17887253],\n",
       "         [0.3505882 , 0.27215683, 0.16627449],\n",
       "         [0.34132352, 0.26681373, 0.14916666]]]], dtype=float32)"
      ]
     },
     "execution_count": 42,
     "metadata": {},
     "output_type": "execute_result"
    }
   ],
   "source": [
    "sample[0]"
   ]
  },
  {
   "cell_type": "code",
   "execution_count": 43,
   "id": "c45f14c7",
   "metadata": {},
   "outputs": [],
   "source": [
    "# test partition\n",
    "test_data = data.skip(round(len(data)* .7))\n",
    "test_data = test_data.take(round(len(data)* .3))\n",
    "test_data = test_data.batch(16)\n",
    "test_data = test_data.prefetch(8)"
   ]
  },
  {
   "cell_type": "markdown",
   "id": "c4c3215f",
   "metadata": {},
   "source": [
    "# Model Engineering"
   ]
  },
  {
   "cell_type": "markdown",
   "id": "8a2031d9",
   "metadata": {},
   "source": [
    "## 1. build embedding layer\n",
    "### Create a function"
   ]
  },
  {
   "cell_type": "code",
   "execution_count": 47,
   "id": "0e0a0c7a",
   "metadata": {
    "scrolled": true
   },
   "outputs": [],
   "source": [
    "inp = Input(shape=(105,105,3), name = 'input_image')"
   ]
  },
  {
   "cell_type": "code",
   "execution_count": 48,
   "id": "ba3a4fa0",
   "metadata": {},
   "outputs": [
    {
     "data": {
      "text/plain": [
       "<KerasTensor: shape=(None, 105, 105, 3) dtype=float32 (created by layer 'input_image')>"
      ]
     },
     "execution_count": 48,
     "metadata": {},
     "output_type": "execute_result"
    }
   ],
   "source": [
    "inp"
   ]
  },
  {
   "cell_type": "code",
   "execution_count": 51,
   "id": "554ee797",
   "metadata": {},
   "outputs": [],
   "source": [
    "c1 = Conv2D(64,(10,10), activation='relu')(inp)"
   ]
  },
  {
   "cell_type": "code",
   "execution_count": 52,
   "id": "4e57825b",
   "metadata": {},
   "outputs": [
    {
     "data": {
      "text/plain": [
       "<KerasTensor: shape=(None, 96, 96, 64) dtype=float32 (created by layer 'conv2d')>"
      ]
     },
     "execution_count": 52,
     "metadata": {},
     "output_type": "execute_result"
    }
   ],
   "source": [
    "c1"
   ]
  },
  {
   "cell_type": "code",
   "execution_count": 53,
   "id": "e6a16440",
   "metadata": {},
   "outputs": [],
   "source": [
    "m1 = MaxPooling2D(64, (2,2), padding = \"same\")(c1)"
   ]
  },
  {
   "cell_type": "code",
   "execution_count": 54,
   "id": "549b1585",
   "metadata": {},
   "outputs": [
    {
     "data": {
      "text/plain": [
       "<KerasTensor: shape=(None, 48, 48, 64) dtype=float32 (created by layer 'max_pooling2d')>"
      ]
     },
     "execution_count": 54,
     "metadata": {},
     "output_type": "execute_result"
    }
   ],
   "source": [
    "m1"
   ]
  },
  {
   "cell_type": "code",
   "execution_count": 55,
   "id": "df8a1b4b",
   "metadata": {},
   "outputs": [],
   "source": [
    "c2 = Conv2D(128,(7,7), activation='relu')(m1)\n",
    "m2 = MaxPooling2D(64, (2,2), padding = \"same\")(c2)\n",
    "c3 = Conv2D(128,(4,4), activation='relu')(m2)\n",
    "m3 = MaxPooling2D(64, (2,2), padding = \"same\")(c3)"
   ]
  },
  {
   "cell_type": "code",
   "execution_count": 57,
   "id": "80f3a79e",
   "metadata": {
    "scrolled": true
   },
   "outputs": [
    {
     "data": {
      "text/plain": [
       "<KerasTensor: shape=(None, 9, 9, 128) dtype=float32 (created by layer 'max_pooling2d_2')>"
      ]
     },
     "execution_count": 57,
     "metadata": {},
     "output_type": "execute_result"
    }
   ],
   "source": [
    "m3"
   ]
  },
  {
   "cell_type": "code",
   "execution_count": 60,
   "id": "f6b309b4",
   "metadata": {},
   "outputs": [],
   "source": [
    "c4 = Conv2D(256, (4,4), activation='relu')(m3)\n",
    "f1 = Flatten()(c4)\n",
    "d1 = Dense(4096, activation = 'sigmoid')(f1)"
   ]
  },
  {
   "cell_type": "code",
   "execution_count": 61,
   "id": "19d94cf9",
   "metadata": {},
   "outputs": [
    {
     "data": {
      "text/plain": [
       "<KerasTensor: shape=(None, 9216) dtype=float32 (created by layer 'flatten')>"
      ]
     },
     "execution_count": 61,
     "metadata": {},
     "output_type": "execute_result"
    }
   ],
   "source": [
    "f1"
   ]
  },
  {
   "cell_type": "markdown",
   "id": "929dda1f",
   "metadata": {},
   "source": [
    "# By using function below the Model has build"
   ]
  },
  {
   "cell_type": "code",
   "execution_count": 63,
   "id": "1193c56e",
   "metadata": {},
   "outputs": [],
   "source": [
    "def make_embedding():\n",
    "    inp = Input(shape=(100,100,3), name = 'input_image')\n",
    "    \n",
    "    #first block\n",
    "    c1 = Conv2D(64,(10,10), activation='relu')(inp)\n",
    "    m1 = MaxPooling2D(64, (2,2), padding = \"same\")(c1)\n",
    "    \n",
    "    #second\n",
    "    c2 = Conv2D(128,(7,7), activation='relu')(m1)\n",
    "    m2 = MaxPooling2D(64, (2,2), padding = \"same\")(c2)\n",
    "    \n",
    "    #third\n",
    "    c3 = Conv2D(128,(4,4), activation='relu')(m2)\n",
    "    m3 = MaxPooling2D(64, (2,2), padding = \"same\")(c3)\n",
    "    \n",
    "    #final embedding block\n",
    "    c4 = Conv2D(256, (4,4), activation='relu')(m3)\n",
    "    f1 = Flatten()(c4)\n",
    "    d1 = Dense(4096, activation = 'sigmoid')(f1)\n",
    "    \n",
    "    return Model(inputs=[inp], outputs=[d1], name='embedding')"
   ]
  },
  {
   "cell_type": "code",
   "execution_count": 72,
   "id": "1fae8a4c",
   "metadata": {},
   "outputs": [],
   "source": [
    "embedding = make_embedding()"
   ]
  },
  {
   "cell_type": "code",
   "execution_count": 73,
   "id": "d7b28e5a",
   "metadata": {},
   "outputs": [
    {
     "name": "stdout",
     "output_type": "stream",
     "text": [
      "Model: \"embedding\"\n",
      "_________________________________________________________________\n",
      " Layer (type)                Output Shape              Param #   \n",
      "=================================================================\n",
      " input_image (InputLayer)    [(None, 100, 100, 3)]     0         \n",
      "                                                                 \n",
      " conv2d_8 (Conv2D)           (None, 91, 91, 64)        19264     \n",
      "                                                                 \n",
      " max_pooling2d_6 (MaxPooling  (None, 46, 46, 64)       0         \n",
      " 2D)                                                             \n",
      "                                                                 \n",
      " conv2d_9 (Conv2D)           (None, 40, 40, 128)       401536    \n",
      "                                                                 \n",
      " max_pooling2d_7 (MaxPooling  (None, 20, 20, 128)      0         \n",
      " 2D)                                                             \n",
      "                                                                 \n",
      " conv2d_10 (Conv2D)          (None, 17, 17, 128)       262272    \n",
      "                                                                 \n",
      " max_pooling2d_8 (MaxPooling  (None, 9, 9, 128)        0         \n",
      " 2D)                                                             \n",
      "                                                                 \n",
      " conv2d_11 (Conv2D)          (None, 6, 6, 256)         524544    \n",
      "                                                                 \n",
      " flatten_2 (Flatten)         (None, 9216)              0         \n",
      "                                                                 \n",
      " dense_2 (Dense)             (None, 4096)              37752832  \n",
      "                                                                 \n",
      "=================================================================\n",
      "Total params: 38,960,448\n",
      "Trainable params: 38,960,448\n",
      "Non-trainable params: 0\n",
      "_________________________________________________________________\n"
     ]
    }
   ],
   "source": [
    "embedding.summary()"
   ]
  },
  {
   "cell_type": "markdown",
   "id": "02cdf75a",
   "metadata": {},
   "source": [
    "## 2. Build Distance Layer"
   ]
  },
  {
   "cell_type": "code",
   "execution_count": 74,
   "id": "ddbdd86d",
   "metadata": {},
   "outputs": [],
   "source": [
    "#Siamese L1 Distance Class\n",
    "class L1Dist(Layer):\n",
    "    def __init__(self, **kwargs):\n",
    "        super().__init__()\n",
    "    \n",
    "    #important\n",
    "    #Similarity Calculation\n",
    "    def call(self, input_embedding, validation_embedding):\n",
    "        return tf.math.abs(input_embedding - validation_embedding)\n",
    "    "
   ]
  },
  {
   "cell_type": "code",
   "execution_count": 75,
   "id": "140876e5",
   "metadata": {},
   "outputs": [],
   "source": [
    "l1 = L1Dist()"
   ]
  },
  {
   "cell_type": "code",
   "execution_count": 86,
   "id": "5ea5cbd1",
   "metadata": {},
   "outputs": [],
   "source": [
    "input_image = Input(name='input_img', shape = (100,100,3))\n",
    "    \n",
    "#validation Img in the network\n",
    "validation_image = Input(name = 'validation_img', shape = (100,100,3))"
   ]
  },
  {
   "cell_type": "code",
   "execution_count": 87,
   "id": "3d373659",
   "metadata": {},
   "outputs": [],
   "source": [
    "inp_embedding = embedding(input_image)\n",
    "val_embedding = embedding(validation_image)"
   ]
  },
  {
   "cell_type": "markdown",
   "id": "17a3baad",
   "metadata": {},
   "source": [
    "### put the input and validation img into embedding function that we declared before, the img will be modified"
   ]
  },
  {
   "cell_type": "code",
   "execution_count": 88,
   "id": "f2354b6e",
   "metadata": {},
   "outputs": [
    {
     "data": {
      "text/plain": [
       "<KerasTensor: shape=(None, 4096) dtype=float32 (created by layer 'embedding')>"
      ]
     },
     "execution_count": 88,
     "metadata": {},
     "output_type": "execute_result"
    }
   ],
   "source": [
    "inp_embedding"
   ]
  },
  {
   "cell_type": "code",
   "execution_count": 89,
   "id": "9a672b9f",
   "metadata": {},
   "outputs": [],
   "source": [
    "siamese_layer = L1Dist()"
   ]
  },
  {
   "cell_type": "code",
   "execution_count": 95,
   "id": "4d546d10",
   "metadata": {},
   "outputs": [],
   "source": [
    "distances = siamese_layer(inp_embedding, val_embedding)"
   ]
  },
  {
   "cell_type": "code",
   "execution_count": 96,
   "id": "61822475",
   "metadata": {},
   "outputs": [],
   "source": [
    "classifier = Dense(1, activation='sigmoid')(distances)"
   ]
  },
  {
   "cell_type": "code",
   "execution_count": 97,
   "id": "fc742ee4",
   "metadata": {
    "scrolled": true
   },
   "outputs": [
    {
     "data": {
      "text/plain": [
       "<KerasTensor: shape=(None, 1) dtype=float32 (created by layer 'dense_4')>"
      ]
     },
     "execution_count": 97,
     "metadata": {},
     "output_type": "execute_result"
    }
   ],
   "source": [
    "classifier  #Shape 1"
   ]
  },
  {
   "cell_type": "code",
   "execution_count": 98,
   "id": "62d31e75",
   "metadata": {},
   "outputs": [],
   "source": [
    "siamese_network = Model(inputs=[input_image, validation_image], outputs=classifier, name='SiameseNetwork')"
   ]
  },
  {
   "cell_type": "code",
   "execution_count": 100,
   "id": "2808b4fe",
   "metadata": {
    "scrolled": false
   },
   "outputs": [
    {
     "name": "stdout",
     "output_type": "stream",
     "text": [
      "Model: \"SiameseNetwork\"\n",
      "__________________________________________________________________________________________________\n",
      " Layer (type)                   Output Shape         Param #     Connected to                     \n",
      "==================================================================================================\n",
      " input_img (InputLayer)         [(None, 100, 100, 3  0           []                               \n",
      "                                )]                                                                \n",
      "                                                                                                  \n",
      " validation_img (InputLayer)    [(None, 100, 100, 3  0           []                               \n",
      "                                )]                                                                \n",
      "                                                                                                  \n",
      " embedding (Functional)         (None, 4096)         38960448    ['input_img[0][0]',              \n",
      "                                                                  'validation_img[0][0]']         \n",
      "                                                                                                  \n",
      " l1_dist_3 (L1Dist)             (None, 4096)         0           ['embedding[3][0]',              \n",
      "                                                                  'embedding[4][0]']              \n",
      "                                                                                                  \n",
      " dense_4 (Dense)                (None, 1)            4097        ['l1_dist_3[2][0]']              \n",
      "                                                                                                  \n",
      "==================================================================================================\n",
      "Total params: 38,964,545\n",
      "Trainable params: 38,964,545\n",
      "Non-trainable params: 0\n",
      "__________________________________________________________________________________________________\n"
     ]
    }
   ],
   "source": [
    "siamese_network.summary()"
   ]
  },
  {
   "cell_type": "markdown",
   "id": "5eef2e63",
   "metadata": {},
   "source": [
    "### 1. input image validation image\n",
    "### 2. goes to embedding(function)  layer\n",
    "### 3. combined through L1Dist() layer\n",
    "### 4. output a single value (shape 1)"
   ]
  },
  {
   "cell_type": "markdown",
   "id": "52e28b8d",
   "metadata": {},
   "source": [
    "### 4096 = distance between inp_embedding and val_embedding"
   ]
  },
  {
   "cell_type": "markdown",
   "id": "1ea39773",
   "metadata": {},
   "source": [
    "## 3. Make Siamese Model"
   ]
  },
  {
   "cell_type": "code",
   "execution_count": 101,
   "id": "fff38884",
   "metadata": {},
   "outputs": [],
   "source": [
    "def make_siamese_model():\n",
    "    #Handle Anchor Inputs in the network\n",
    "    input_image = Input(name = 'input_img', shape = (100,100,3))\n",
    "    \n",
    "    #validation Img in the network\n",
    "    validation_iamge = Input(name = 'validation_img', shape = (100,100,3))\n",
    "    \n",
    "    #Combine siamese distance components\n",
    "    siamese_layer = L1Dist()\n",
    "    siamese_layer._name = 'distance'\n",
    "    distances = siamese_layer(embedding(input_image), embedding(validation_image))\n",
    "    \n",
    "    #classification Layer\n",
    "    classifier = Dense(1, activation='sigmoid')(distances)\n",
    "    \n",
    "    return Model(inputs=[input_image, validation_image], outputs=classifier, name='SiameseNetwork')\n",
    "    "
   ]
  },
  {
   "cell_type": "code",
   "execution_count": 103,
   "id": "1e82423c",
   "metadata": {},
   "outputs": [],
   "source": [
    "siamese_model = make_siamese_model()"
   ]
  },
  {
   "cell_type": "code",
   "execution_count": 104,
   "id": "c0fd9c3f",
   "metadata": {},
   "outputs": [
    {
     "name": "stdout",
     "output_type": "stream",
     "text": [
      "Model: \"SiameseNetwork\"\n",
      "__________________________________________________________________________________________________\n",
      " Layer (type)                   Output Shape         Param #     Connected to                     \n",
      "==================================================================================================\n",
      " input_img (InputLayer)         [(None, 100, 100, 3  0           []                               \n",
      "                                )]                                                                \n",
      "                                                                                                  \n",
      " validation_img (InputLayer)    [(None, 100, 100, 3  0           []                               \n",
      "                                )]                                                                \n",
      "                                                                                                  \n",
      " embedding (Functional)         (None, 4096)         38960448    ['input_img[0][0]',              \n",
      "                                                                  'validation_img[0][0]']         \n",
      "                                                                                                  \n",
      " distance (L1Dist)              (None, 4096)         0           ['embedding[7][0]',              \n",
      "                                                                  'embedding[8][0]']              \n",
      "                                                                                                  \n",
      " dense_6 (Dense)                (None, 1)            4097        ['distance[0][0]']               \n",
      "                                                                                                  \n",
      "==================================================================================================\n",
      "Total params: 38,964,545\n",
      "Trainable params: 38,964,545\n",
      "Non-trainable params: 0\n",
      "__________________________________________________________________________________________________\n"
     ]
    }
   ],
   "source": [
    "siamese_model.summary()"
   ]
  },
  {
   "cell_type": "markdown",
   "id": "f9c6d2ce",
   "metadata": {},
   "source": [
    "# Start To Training"
   ]
  },
  {
   "cell_type": "markdown",
   "id": "ab01f860",
   "metadata": {},
   "source": [
    "## 1. Set up Loss and Optimizer"
   ]
  },
  {
   "cell_type": "code",
   "execution_count": 105,
   "id": "681b2d7b",
   "metadata": {},
   "outputs": [],
   "source": [
    "binary_cross_loss = tf.losses.BinaryCrossentropy()"
   ]
  },
  {
   "cell_type": "code",
   "execution_count": 107,
   "id": "105a67a3",
   "metadata": {},
   "outputs": [],
   "source": [
    "#Find keras Adam optimizer\n",
    "opt = tf.keras.optimizers.Adam(1e-4)"
   ]
  },
  {
   "cell_type": "markdown",
   "id": "a2735279",
   "metadata": {},
   "source": [
    "## 2. Establish Checkpoints"
   ]
  },
  {
   "cell_type": "code",
   "execution_count": null,
   "id": "e134112f",
   "metadata": {},
   "outputs": [],
   "source": [
    "checkpoint_dir = './training_checkpoints'\n",
    "checkpoint_prefix = os.path.join(checkpoint_dir, 'ckpt')\n",
    "checkpoint = tf.train.Checkpoint(opt=opt, siamese_model = siamese_model)"
   ]
  },
  {
   "cell_type": "code",
   "execution_count": null,
   "id": "f06604e0",
   "metadata": {},
   "outputs": [],
   "source": []
  },
  {
   "cell_type": "code",
   "execution_count": null,
   "id": "20e9106e",
   "metadata": {},
   "outputs": [],
   "source": []
  },
  {
   "cell_type": "code",
   "execution_count": null,
   "id": "d906cc47",
   "metadata": {},
   "outputs": [],
   "source": []
  },
  {
   "cell_type": "code",
   "execution_count": null,
   "id": "f58d8328",
   "metadata": {},
   "outputs": [],
   "source": []
  },
  {
   "cell_type": "code",
   "execution_count": null,
   "id": "c9b66c14",
   "metadata": {},
   "outputs": [],
   "source": []
  },
  {
   "cell_type": "markdown",
   "id": "ca18385f",
   "metadata": {},
   "source": [
    "## 3. Build Train Step Function"
   ]
  },
  {
   "cell_type": "markdown",
   "id": "e38773ce",
   "metadata": {},
   "source": [
    "## 4. Build Training Loop"
   ]
  },
  {
   "cell_type": "markdown",
   "id": "672df161",
   "metadata": {},
   "source": [
    "## 5. Train the Model"
   ]
  },
  {
   "cell_type": "code",
   "execution_count": null,
   "id": "26e76642",
   "metadata": {},
   "outputs": [],
   "source": []
  },
  {
   "cell_type": "code",
   "execution_count": null,
   "id": "548edc3f",
   "metadata": {},
   "outputs": [],
   "source": []
  },
  {
   "cell_type": "code",
   "execution_count": null,
   "id": "c6c9332d",
   "metadata": {},
   "outputs": [],
   "source": []
  },
  {
   "cell_type": "code",
   "execution_count": null,
   "id": "595991bd",
   "metadata": {},
   "outputs": [],
   "source": []
  },
  {
   "cell_type": "code",
   "execution_count": null,
   "id": "313cb57e",
   "metadata": {},
   "outputs": [],
   "source": []
  },
  {
   "cell_type": "code",
   "execution_count": null,
   "id": "3f5be1a7",
   "metadata": {},
   "outputs": [],
   "source": []
  },
  {
   "cell_type": "code",
   "execution_count": null,
   "id": "e15a02ad",
   "metadata": {},
   "outputs": [],
   "source": []
  },
  {
   "cell_type": "code",
   "execution_count": null,
   "id": "2ebb5104",
   "metadata": {},
   "outputs": [],
   "source": []
  },
  {
   "cell_type": "code",
   "execution_count": null,
   "id": "e4a06b10",
   "metadata": {},
   "outputs": [],
   "source": []
  },
  {
   "cell_type": "code",
   "execution_count": null,
   "id": "67d8e921",
   "metadata": {},
   "outputs": [],
   "source": []
  },
  {
   "cell_type": "code",
   "execution_count": null,
   "id": "07b05cde",
   "metadata": {},
   "outputs": [],
   "source": []
  },
  {
   "cell_type": "code",
   "execution_count": null,
   "id": "ac76190a",
   "metadata": {},
   "outputs": [],
   "source": []
  },
  {
   "cell_type": "code",
   "execution_count": null,
   "id": "fd78f7de",
   "metadata": {},
   "outputs": [],
   "source": []
  },
  {
   "cell_type": "code",
   "execution_count": null,
   "id": "a98eaedd",
   "metadata": {},
   "outputs": [],
   "source": []
  },
  {
   "cell_type": "code",
   "execution_count": null,
   "id": "9391804c",
   "metadata": {},
   "outputs": [],
   "source": []
  },
  {
   "cell_type": "code",
   "execution_count": null,
   "id": "d184134f",
   "metadata": {},
   "outputs": [],
   "source": []
  },
  {
   "cell_type": "code",
   "execution_count": null,
   "id": "103bc567",
   "metadata": {},
   "outputs": [],
   "source": []
  },
  {
   "cell_type": "code",
   "execution_count": null,
   "id": "4c9358c1",
   "metadata": {},
   "outputs": [],
   "source": []
  },
  {
   "cell_type": "code",
   "execution_count": null,
   "id": "fbd84e25",
   "metadata": {},
   "outputs": [],
   "source": []
  },
  {
   "cell_type": "code",
   "execution_count": null,
   "id": "73635a7b",
   "metadata": {},
   "outputs": [],
   "source": []
  },
  {
   "cell_type": "code",
   "execution_count": null,
   "id": "10b237a9",
   "metadata": {},
   "outputs": [],
   "source": []
  },
  {
   "cell_type": "code",
   "execution_count": null,
   "id": "f3eed75f",
   "metadata": {},
   "outputs": [],
   "source": []
  },
  {
   "cell_type": "code",
   "execution_count": null,
   "id": "b26eff49",
   "metadata": {},
   "outputs": [],
   "source": []
  },
  {
   "cell_type": "code",
   "execution_count": null,
   "id": "5073b26c",
   "metadata": {},
   "outputs": [],
   "source": []
  },
  {
   "cell_type": "code",
   "execution_count": null,
   "id": "667d38fa",
   "metadata": {},
   "outputs": [],
   "source": []
  },
  {
   "cell_type": "code",
   "execution_count": null,
   "id": "0436a42c",
   "metadata": {},
   "outputs": [],
   "source": []
  },
  {
   "cell_type": "code",
   "execution_count": null,
   "id": "07969149",
   "metadata": {},
   "outputs": [],
   "source": []
  },
  {
   "cell_type": "code",
   "execution_count": null,
   "id": "aff8b20b",
   "metadata": {},
   "outputs": [],
   "source": []
  },
  {
   "cell_type": "code",
   "execution_count": null,
   "id": "7341aeeb",
   "metadata": {},
   "outputs": [],
   "source": []
  },
  {
   "cell_type": "code",
   "execution_count": null,
   "id": "08abcf7f",
   "metadata": {},
   "outputs": [],
   "source": []
  },
  {
   "cell_type": "code",
   "execution_count": null,
   "id": "c71989bf",
   "metadata": {},
   "outputs": [],
   "source": []
  },
  {
   "cell_type": "code",
   "execution_count": null,
   "id": "fe9dd4b6",
   "metadata": {},
   "outputs": [],
   "source": []
  },
  {
   "cell_type": "code",
   "execution_count": null,
   "id": "65bb6433",
   "metadata": {},
   "outputs": [],
   "source": []
  },
  {
   "cell_type": "code",
   "execution_count": null,
   "id": "ba41abfe",
   "metadata": {},
   "outputs": [],
   "source": []
  },
  {
   "cell_type": "code",
   "execution_count": null,
   "id": "94ea4b8b",
   "metadata": {},
   "outputs": [],
   "source": []
  },
  {
   "cell_type": "code",
   "execution_count": null,
   "id": "94f40e37",
   "metadata": {},
   "outputs": [],
   "source": []
  },
  {
   "cell_type": "code",
   "execution_count": null,
   "id": "603dd74d",
   "metadata": {},
   "outputs": [],
   "source": []
  },
  {
   "cell_type": "code",
   "execution_count": null,
   "id": "8fed1884",
   "metadata": {},
   "outputs": [],
   "source": []
  },
  {
   "cell_type": "code",
   "execution_count": null,
   "id": "78393b3c",
   "metadata": {},
   "outputs": [],
   "source": []
  },
  {
   "cell_type": "code",
   "execution_count": null,
   "id": "46013f66",
   "metadata": {},
   "outputs": [],
   "source": []
  }
 ],
 "metadata": {
  "kernelspec": {
   "display_name": "Python 3 (ipykernel)",
   "language": "python",
   "name": "python3"
  },
  "language_info": {
   "codemirror_mode": {
    "name": "ipython",
    "version": 3
   },
   "file_extension": ".py",
   "mimetype": "text/x-python",
   "name": "python",
   "nbconvert_exporter": "python",
   "pygments_lexer": "ipython3",
   "version": "3.10.11"
  }
 },
 "nbformat": 4,
 "nbformat_minor": 5
}
