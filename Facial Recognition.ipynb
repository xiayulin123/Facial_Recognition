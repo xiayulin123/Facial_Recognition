{
 "cells": [
  {
   "cell_type": "markdown",
   "id": "0302df6c",
   "metadata": {},
   "source": [
    "# Set Up"
   ]
  },
  {
   "cell_type": "code",
   "execution_count": 5,
   "id": "8b594c32",
   "metadata": {},
   "outputs": [
    {
     "name": "stdout",
     "output_type": "stream",
     "text": [
      "Collecting tensorflow==2.12.0\n",
      "  Using cached tensorflow-2.12.0-cp310-cp310-win_amd64.whl (1.9 kB)\n",
      "Collecting tensorflow-gpu==2.12.0\n",
      "  Downloading tensorflow-gpu-2.12.0.tar.gz (2.6 kB)\n",
      "  Preparing metadata (setup.py): started\n",
      "  Preparing metadata (setup.py): finished with status 'error'\n"
     ]
    },
    {
     "name": "stderr",
     "output_type": "stream",
     "text": [
      "  error: subprocess-exited-with-error\n",
      "  \n",
      "  python setup.py egg_info did not run successfully.\n",
      "  exit code: 1\n",
      "  \n",
      "  [39 lines of output]\n",
      "  Traceback (most recent call last):\n",
      "    File \"C:\\Users\\xiayu\\AppData\\Local\\Packages\\PythonSoftwareFoundation.Python.3.10_qbz5n2kfra8p0\\LocalCache\\local-packages\\Python310\\site-packages\\setuptools\\_vendor\\packaging\\requirements.py\", line 35, in __init__\n",
      "      parsed = _parse_requirement(requirement_string)\n",
      "    File \"C:\\Users\\xiayu\\AppData\\Local\\Packages\\PythonSoftwareFoundation.Python.3.10_qbz5n2kfra8p0\\LocalCache\\local-packages\\Python310\\site-packages\\setuptools\\_vendor\\packaging\\_parser.py\", line 64, in parse_requirement\n",
      "      return _parse_requirement(Tokenizer(source, rules=DEFAULT_RULES))\n",
      "    File \"C:\\Users\\xiayu\\AppData\\Local\\Packages\\PythonSoftwareFoundation.Python.3.10_qbz5n2kfra8p0\\LocalCache\\local-packages\\Python310\\site-packages\\setuptools\\_vendor\\packaging\\_parser.py\", line 82, in _parse_requirement\n",
      "      url, specifier, marker = _parse_requirement_details(tokenizer)\n",
      "    File \"C:\\Users\\xiayu\\AppData\\Local\\Packages\\PythonSoftwareFoundation.Python.3.10_qbz5n2kfra8p0\\LocalCache\\local-packages\\Python310\\site-packages\\setuptools\\_vendor\\packaging\\_parser.py\", line 126, in _parse_requirement_details\n",
      "      marker = _parse_requirement_marker(\n",
      "    File \"C:\\Users\\xiayu\\AppData\\Local\\Packages\\PythonSoftwareFoundation.Python.3.10_qbz5n2kfra8p0\\LocalCache\\local-packages\\Python310\\site-packages\\setuptools\\_vendor\\packaging\\_parser.py\", line 147, in _parse_requirement_marker\n",
      "      tokenizer.raise_syntax_error(\n",
      "    File \"C:\\Users\\xiayu\\AppData\\Local\\Packages\\PythonSoftwareFoundation.Python.3.10_qbz5n2kfra8p0\\LocalCache\\local-packages\\Python310\\site-packages\\setuptools\\_vendor\\packaging\\_tokenizer.py\", line 165, in raise_syntax_error\n",
      "      raise ParserSyntaxError(\n",
      "  setuptools.extern.packaging._tokenizer.ParserSyntaxError: Expected end or semicolon (after name and no valid version specifier)\n",
      "      python_version>\"3.7\"\n",
      "                    ^\n",
      "  \n",
      "  The above exception was the direct cause of the following exception:\n",
      "  \n",
      "  Traceback (most recent call last):\n",
      "    File \"<string>\", line 2, in <module>\n",
      "    File \"<pip-setuptools-caller>\", line 34, in <module>\n",
      "    File \"C:\\Users\\xiayu\\AppData\\Local\\Temp\\pip-install-hi6toh5j\\tensorflow-gpu_02a16b549f6144b0b9420b501a33fad2\\setup.py\", line 40, in <module>\n",
      "      setuptools.setup()\n",
      "    File \"C:\\Users\\xiayu\\AppData\\Local\\Packages\\PythonSoftwareFoundation.Python.3.10_qbz5n2kfra8p0\\LocalCache\\local-packages\\Python310\\site-packages\\setuptools\\__init__.py\", line 106, in setup\n",
      "      _install_setup_requires(attrs)\n",
      "    File \"C:\\Users\\xiayu\\AppData\\Local\\Packages\\PythonSoftwareFoundation.Python.3.10_qbz5n2kfra8p0\\LocalCache\\local-packages\\Python310\\site-packages\\setuptools\\__init__.py\", line 77, in _install_setup_requires\n",
      "      dist.parse_config_files(ignore_option_errors=True)\n",
      "    File \"C:\\Users\\xiayu\\AppData\\Local\\Packages\\PythonSoftwareFoundation.Python.3.10_qbz5n2kfra8p0\\LocalCache\\local-packages\\Python310\\site-packages\\setuptools\\dist.py\", line 900, in parse_config_files\n",
      "      self._finalize_requires()\n",
      "    File \"C:\\Users\\xiayu\\AppData\\Local\\Packages\\PythonSoftwareFoundation.Python.3.10_qbz5n2kfra8p0\\LocalCache\\local-packages\\Python310\\site-packages\\setuptools\\dist.py\", line 597, in _finalize_requires\n",
      "      self._move_install_requirements_markers()\n",
      "    File \"C:\\Users\\xiayu\\AppData\\Local\\Packages\\PythonSoftwareFoundation.Python.3.10_qbz5n2kfra8p0\\LocalCache\\local-packages\\Python310\\site-packages\\setuptools\\dist.py\", line 637, in _move_install_requirements_markers\n",
      "      inst_reqs = list(_reqs.parse(spec_inst_reqs))\n",
      "    File \"C:\\Users\\xiayu\\AppData\\Local\\Packages\\PythonSoftwareFoundation.Python.3.10_qbz5n2kfra8p0\\LocalCache\\local-packages\\Python310\\site-packages\\setuptools\\_vendor\\packaging\\requirements.py\", line 37, in __init__\n",
      "      raise InvalidRequirement(str(e)) from e\n",
      "  setuptools.extern.packaging.requirements.InvalidRequirement: Expected end or semicolon (after name and no valid version specifier)\n",
      "      python_version>\"3.7\"\n",
      "                    ^\n",
      "  [end of output]\n",
      "  \n",
      "  note: This error originates from a subprocess, and is likely not a problem with pip.\n",
      "error: metadata-generation-failed\n",
      "\n",
      "Encountered error while generating package metadata.\n",
      "\n",
      "See above for output.\n",
      "\n",
      "note: This is an issue with the package mentioned above, not pip.\n",
      "hint: See above for details.\n",
      "\n",
      "[notice] A new release of pip is available: 23.2 -> 23.2.1\n",
      "[notice] To update, run: C:\\Users\\xiayu\\AppData\\Local\\Microsoft\\WindowsApps\\PythonSoftwareFoundation.Python.3.10_qbz5n2kfra8p0\\python.exe -m pip install --upgrade pip\n"
     ]
    }
   ],
   "source": [
    "!pip install tensorflow==2.12.0 tensorflow-gpu==2.12.0 opencv-python matplotlib"
   ]
  },
  {
   "cell_type": "code",
   "execution_count": 2,
   "id": "afc80d62",
   "metadata": {},
   "outputs": [],
   "source": [
    "import cv2\n",
    "import os\n",
    "import random\n",
    "import numpy as np\n",
    "from matplotlib import pyplot as plt"
   ]
  },
  {
   "cell_type": "code",
   "execution_count": 3,
   "id": "0f64fece",
   "metadata": {},
   "outputs": [],
   "source": [
    "plt.imshow??"
   ]
  },
  {
   "cell_type": "code",
   "execution_count": 4,
   "id": "c3c718ff",
   "metadata": {},
   "outputs": [],
   "source": [
    "#functional api import \n",
    "from tensorflow.keras.models import Model\n",
    "from tensorflow.keras.layers import Layer, Conv2D, Dense, MaxPooling2D, Input, Flatten\n",
    "import tensorflow as tf"
   ]
  },
  {
   "cell_type": "markdown",
   "id": "405eaf57",
   "metadata": {},
   "source": [
    "# Folder Structures"
   ]
  },
  {
   "cell_type": "code",
   "execution_count": 5,
   "id": "a00ccc24",
   "metadata": {},
   "outputs": [],
   "source": [
    "POS_PATH = os.path.join('data', 'positive')\n",
    "NEG_PATH = os.path.join('data', 'negative')\n",
    "ANC_PATH = os.path.join('data', 'anchor')"
   ]
  },
  {
   "cell_type": "code",
   "execution_count": 6,
   "id": "5d39f0f1",
   "metadata": {},
   "outputs": [],
   "source": [
    "os.makedirs(POS_PATH, exist_ok = True)\n",
    "os.makedirs(NEG_PATH, exist_ok = True)\n",
    "os.makedirs(ANC_PATH, exist_ok = True)"
   ]
  },
  {
   "cell_type": "markdown",
   "id": "5b10230c",
   "metadata": {},
   "source": [
    "# Collect positive and anchors"
   ]
  },
  {
   "cell_type": "code",
   "execution_count": 7,
   "id": "1c8a5800",
   "metadata": {},
   "outputs": [],
   "source": [
    "#Uncompress the GZ file\n",
    "# !tar -xf lfw.tgz"
   ]
  },
  {
   "cell_type": "markdown",
   "id": "36b0f884",
   "metadata": {},
   "source": [
    "# Move the Images to data/negative"
   ]
  },
  {
   "cell_type": "code",
   "execution_count": 8,
   "id": "a5dbf08a",
   "metadata": {},
   "outputs": [],
   "source": [
    "# for directory in os.listdir('lfw'):\n",
    "#     directory_path = os.path.join('lfw', directory)\n",
    "#     for file in os.listdir(directory_path):\n",
    "#         EX_PATH = os.path.join('lfw', directory, file)\n",
    "#         NEW_PATH = os.path.join(NEG_PATH, file)\n",
    "#         os.replace(EX_PATH, NEW_PATH)"
   ]
  },
  {
   "cell_type": "markdown",
   "id": "4bddbd92",
   "metadata": {},
   "source": [
    "# Collect Positive and Anchor Classes"
   ]
  },
  {
   "cell_type": "code",
   "execution_count": 9,
   "id": "7bb67767",
   "metadata": {},
   "outputs": [],
   "source": [
    "#get unique id\n",
    "import uuid"
   ]
  },
  {
   "cell_type": "code",
   "execution_count": 10,
   "id": "0ce002e1",
   "metadata": {},
   "outputs": [
    {
     "data": {
      "text/plain": [
       "UUID('1875d551-31af-11ee-95ab-c4bde5784b6d')"
      ]
     },
     "execution_count": 10,
     "metadata": {},
     "output_type": "execute_result"
    }
   ],
   "source": [
    "uuid.uuid1()"
   ]
  },
  {
   "cell_type": "code",
   "execution_count": 11,
   "id": "a013299b",
   "metadata": {},
   "outputs": [],
   "source": [
    "cap = cv2.VideoCapture(0)\n",
    "while cap.isOpened():\n",
    "    ret, frame = cap.read()\n",
    "    #resize frame\n",
    "    frame = frame[100:120+250, 200:200+250, :]\n",
    "    \n",
    "    #collect anchors\n",
    "    if cv2.waitKey(1) & 0XFF == ord('a'):\n",
    "        #unique name\n",
    "        imgname = os.path.join(ANC_PATH, '{}.jpg'.format(uuid.uuid1()))\n",
    "        #write img\n",
    "        cv2.imwrite(imgname, frame)\n",
    "        \n",
    "        \n",
    "    #collect positives\n",
    "    if cv2.waitKey(1) & 0XFF == ord('p'):\n",
    "         imgname = os.path.join(POS_PATH, '{}.jpg'.format(uuid.uuid1()))\n",
    "         #write img\n",
    "         cv2.imwrite(imgname, frame)\n",
    "\n",
    "    cv2.imshow(\"Image Collection\", frame)\n",
    "    \n",
    "    if cv2.waitKey(1) & 0XFF == ord('q'):\n",
    "        break\n",
    "        \n",
    "#release webcam and close image show frame\n",
    "cap.release()\n",
    "cv2.destroyAllWindows()"
   ]
  },
  {
   "cell_type": "code",
   "execution_count": 12,
   "id": "59155c8f",
   "metadata": {},
   "outputs": [
    {
     "data": {
      "text/plain": [
       "(270, 250, 3)"
      ]
     },
     "execution_count": 12,
     "metadata": {},
     "output_type": "execute_result"
    }
   ],
   "source": [
    "frame.shape"
   ]
  },
  {
   "cell_type": "code",
   "execution_count": 13,
   "id": "54e349d1",
   "metadata": {},
   "outputs": [
    {
     "data": {
      "text/plain": [
       "<matplotlib.image.AxesImage at 0x24d6191a080>"
      ]
     },
     "execution_count": 13,
     "metadata": {},
     "output_type": "execute_result"
    },
    {
     "data": {
      "image/png": "[encoded data removed]",
      "text/plain": [
       "<Figure size 640x480 with 1 Axes>"
      ]
     },
     "metadata": {},
     "output_type": "display_data"
    }
   ],
   "source": [
    "plt.imshow(frame[100:120+250, 200:200+250, :])"
   ]
  },
  {
   "cell_type": "markdown",
   "id": "d5a3d0cc",
   "metadata": {},
   "source": [
    "# Get Image Directories"
   ]
  },
  {
   "cell_type": "code",
   "execution_count": 14,
   "id": "894c65e7",
   "metadata": {},
   "outputs": [],
   "source": [
    "anchor = tf.data.Dataset.list_files(ANC_PATH + '\\*.jpg').take(300)\n",
    "positive = tf.data.Dataset.list_files(POS_PATH + '\\*.jpg').take(300)\n",
    "negative = tf.data.Dataset.list_files(NEG_PATH + '\\*.jpg').take(300)"
   ]
  },
  {
   "cell_type": "code",
   "execution_count": 15,
   "id": "2932acfb",
   "metadata": {},
   "outputs": [],
   "source": [
    "dir_test = anchor.as_numpy_iterator()"
   ]
  },
  {
   "cell_type": "code",
   "execution_count": 16,
   "id": "6fdf88f5",
   "metadata": {},
   "outputs": [
    {
     "data": {
      "text/plain": [
       "b'data\\\\anchor\\\\2c81322d-3009-11ee-825f-c4bde5784b6d.jpg'"
      ]
     },
     "execution_count": 16,
     "metadata": {},
     "output_type": "execute_result"
    }
   ],
   "source": [
    "dir_test.next()"
   ]
  },
  {
   "cell_type": "markdown",
   "id": "78ed528e",
   "metadata": {},
   "source": [
    "# Preprocessing"
   ]
  },
  {
   "cell_type": "code",
   "execution_count": 17,
   "id": "ba886f5b",
   "metadata": {},
   "outputs": [],
   "source": [
    "def preprocess(file_path):\n",
    "    byte_img = tf.io.read_file(file_path)\n",
    "    img = tf.io.decode_jpeg(byte_img)\n",
    "    #Preprocessing resizing the image to be 100X100X3\n",
    "    img = tf.image.resize(img, (100,100))\n",
    "    #scale image to be between 0 and 1\n",
    "    img = img /255.0\n",
    "    return img"
   ]
  },
  {
   "cell_type": "code",
   "execution_count": 18,
   "id": "5fe7dc65",
   "metadata": {},
   "outputs": [],
   "source": [
    "img = preprocess('data\\\\anchor\\\\ffee009d-3008-11ee-9149-c4bde5784b6d.jpg')"
   ]
  },
  {
   "cell_type": "code",
   "execution_count": 19,
   "id": "e34964a6",
   "metadata": {},
   "outputs": [
    {
     "data": {
      "text/plain": [
       "0.8734313"
      ]
     },
     "execution_count": 19,
     "metadata": {},
     "output_type": "execute_result"
    }
   ],
   "source": [
    "img.numpy().max()"
   ]
  },
  {
   "cell_type": "code",
   "execution_count": 20,
   "id": "05650a83",
   "metadata": {},
   "outputs": [
    {
     "data": {
      "text/plain": [
       "<matplotlib.image.AxesImage at 0x24d6f088f40>"
      ]
     },
     "execution_count": 20,
     "metadata": {},
     "output_type": "execute_result"
    },
    {
     "data": {
      "image/png": "[encoded data removed]",
      "text/plain": [
       "<Figure size 640x480 with 1 Axes>"
      ]
     },
     "metadata": {},
     "output_type": "display_data"
    }
   ],
   "source": [
    "plt.imshow(img)"
   ]
  },
  {
   "cell_type": "markdown",
   "id": "24035edd",
   "metadata": {},
   "source": [
    "# Create Labelled Dataset"
   ]
  },
  {
   "cell_type": "code",
   "execution_count": 21,
   "id": "01a504ab",
   "metadata": {},
   "outputs": [],
   "source": [
    "# (anchor, positive) => 1,1,1,1\n",
    "# (anchor, negative) => 0,0,0,0"
   ]
  },
  {
   "cell_type": "code",
   "execution_count": 22,
   "id": "962632df",
   "metadata": {},
   "outputs": [],
   "source": [
    "positives = tf.data.Dataset.zip((anchor,positive, tf.data.Dataset.from_tensor_slices(tf.ones(len(anchor)))))\n",
    "negatives = tf.data.Dataset.zip((anchor,negative, tf.data.Dataset.from_tensor_slices(tf.zeros(len(anchor)))))\n",
    "data = positives.concatenate(negatives)"
   ]
  },
  {
   "cell_type": "code",
   "execution_count": 23,
   "id": "7fdee7c7",
   "metadata": {},
   "outputs": [
    {
     "data": {
      "text/plain": [
       "<tf.Tensor: shape=(300,), dtype=float32, numpy=\n",
       "array([1., 1., 1., 1., 1., 1., 1., 1., 1., 1., 1., 1., 1., 1., 1., 1., 1.,\n",
       "       1., 1., 1., 1., 1., 1., 1., 1., 1., 1., 1., 1., 1., 1., 1., 1., 1.,\n",
       "       1., 1., 1., 1., 1., 1., 1., 1., 1., 1., 1., 1., 1., 1., 1., 1., 1.,\n",
       "       1., 1., 1., 1., 1., 1., 1., 1., 1., 1., 1., 1., 1., 1., 1., 1., 1.,\n",
       "       1., 1., 1., 1., 1., 1., 1., 1., 1., 1., 1., 1., 1., 1., 1., 1., 1.,\n",
       "       1., 1., 1., 1., 1., 1., 1., 1., 1., 1., 1., 1., 1., 1., 1., 1., 1.,\n",
       "       1., 1., 1., 1., 1., 1., 1., 1., 1., 1., 1., 1., 1., 1., 1., 1., 1.,\n",
       "       1., 1., 1., 1., 1., 1., 1., 1., 1., 1., 1., 1., 1., 1., 1., 1., 1.,\n",
       "       1., 1., 1., 1., 1., 1., 1., 1., 1., 1., 1., 1., 1., 1., 1., 1., 1.,\n",
       "       1., 1., 1., 1., 1., 1., 1., 1., 1., 1., 1., 1., 1., 1., 1., 1., 1.,\n",
       "       1., 1., 1., 1., 1., 1., 1., 1., 1., 1., 1., 1., 1., 1., 1., 1., 1.,\n",
       "       1., 1., 1., 1., 1., 1., 1., 1., 1., 1., 1., 1., 1., 1., 1., 1., 1.,\n",
       "       1., 1., 1., 1., 1., 1., 1., 1., 1., 1., 1., 1., 1., 1., 1., 1., 1.,\n",
       "       1., 1., 1., 1., 1., 1., 1., 1., 1., 1., 1., 1., 1., 1., 1., 1., 1.,\n",
       "       1., 1., 1., 1., 1., 1., 1., 1., 1., 1., 1., 1., 1., 1., 1., 1., 1.,\n",
       "       1., 1., 1., 1., 1., 1., 1., 1., 1., 1., 1., 1., 1., 1., 1., 1., 1.,\n",
       "       1., 1., 1., 1., 1., 1., 1., 1., 1., 1., 1., 1., 1., 1., 1., 1., 1.,\n",
       "       1., 1., 1., 1., 1., 1., 1., 1., 1., 1., 1.], dtype=float32)>"
      ]
     },
     "execution_count": 23,
     "metadata": {},
     "output_type": "execute_result"
    }
   ],
   "source": [
    "tf.ones(len(anchor))"
   ]
  },
  {
   "cell_type": "code",
   "execution_count": 24,
   "id": "e95d1d6b",
   "metadata": {},
   "outputs": [],
   "source": [
    "example = data.as_numpy_iterator()"
   ]
  },
  {
   "cell_type": "code",
   "execution_count": 25,
   "id": "bec44580",
   "metadata": {},
   "outputs": [],
   "source": [
    "sample = example.next()"
   ]
  },
  {
   "cell_type": "markdown",
   "id": "53da49da",
   "metadata": {},
   "source": [
    "# Build Train and Test Partition"
   ]
  },
  {
   "cell_type": "code",
   "execution_count": 26,
   "id": "9852cc63",
   "metadata": {},
   "outputs": [],
   "source": [
    "def preprocess_twin(input_img, validation_img, label):\n",
    "    return(preprocess(input_img), preprocess(validation_img), label)"
   ]
  },
  {
   "cell_type": "code",
   "execution_count": 27,
   "id": "139181c7",
   "metadata": {
    "scrolled": true
   },
   "outputs": [],
   "source": [
    "res = preprocess_twin(*sample)"
   ]
  },
  {
   "cell_type": "code",
   "execution_count": 28,
   "id": "66a2bdea",
   "metadata": {},
   "outputs": [
    {
     "data": {
      "text/plain": [
       "<matplotlib.image.AxesImage at 0x24d6f0f82e0>"
      ]
     },
     "execution_count": 28,
     "metadata": {},
     "output_type": "execute_result"
    },
    {
     "data": {
      "image/png": "[encoded data removed]",
      "text/plain": [
       "<Figure size 640x480 with 1 Axes>"
      ]
     },
     "metadata": {},
     "output_type": "display_data"
    }
   ],
   "source": [
    "plt.imshow(res[0])"
   ]
  },
  {
   "cell_type": "code",
   "execution_count": 29,
   "id": "e4529e91",
   "metadata": {},
   "outputs": [
    {
     "data": {
      "text/plain": [
       "<matplotlib.image.AxesImage at 0x24d7518df60>"
      ]
     },
     "execution_count": 29,
     "metadata": {},
     "output_type": "execute_result"
    },
    {
     "data": {
      "image/png": "[encoded data removed]",
      "text/plain": [
       "<Figure size 640x480 with 1 Axes>"
      ]
     },
     "metadata": {},
     "output_type": "display_data"
    }
   ],
   "source": [
    "plt.imshow(res[1])"
   ]
  },
  {
   "cell_type": "code",
   "execution_count": 30,
   "id": "c8aa4e28",
   "metadata": {},
   "outputs": [
    {
     "data": {
      "text/plain": [
       "1.0"
      ]
     },
     "execution_count": 30,
     "metadata": {},
     "output_type": "execute_result"
    }
   ],
   "source": [
    "res[2]"
   ]
  },
  {
   "cell_type": "code",
   "execution_count": 31,
   "id": "c699bf5c",
   "metadata": {},
   "outputs": [],
   "source": [
    "#Build dataLoader Pipeline\n",
    "data = data.map(preprocess_twin)\n",
    "data = data.cache()\n",
    "data = data.shuffle(buffer_size=1024)"
   ]
  },
  {
   "cell_type": "code",
   "execution_count": 32,
   "id": "d7024931",
   "metadata": {},
   "outputs": [],
   "source": [
    "samples = data.as_numpy_iterator()"
   ]
  },
  {
   "cell_type": "code",
   "execution_count": 33,
   "id": "0a4b8555",
   "metadata": {
    "scrolled": true
   },
   "outputs": [],
   "source": [
    "sam = samples.next()"
   ]
  },
  {
   "cell_type": "code",
   "execution_count": 34,
   "id": "1b8d2598",
   "metadata": {},
   "outputs": [
    {
     "data": {
      "text/plain": [
       "3"
      ]
     },
     "execution_count": 34,
     "metadata": {},
     "output_type": "execute_result"
    }
   ],
   "source": [
    "len(sam)"
   ]
  },
  {
   "cell_type": "code",
   "execution_count": 35,
   "id": "0dedc35c",
   "metadata": {},
   "outputs": [
    {
     "data": {
      "text/plain": [
       "<matplotlib.image.AxesImage at 0x24d7605de40>"
      ]
     },
     "execution_count": 35,
     "metadata": {},
     "output_type": "execute_result"
    },
    {
     "data": {
      "image/png": "[encoded data removed]",
      "text/plain": [
       "<Figure size 640x480 with 1 Axes>"
      ]
     },
     "metadata": {},
     "output_type": "display_data"
    }
   ],
   "source": [
    "plt.imshow(sam[0])"
   ]
  },
  {
   "cell_type": "code",
   "execution_count": 36,
   "id": "10ba9b97",
   "metadata": {},
   "outputs": [
    {
     "data": {
      "text/plain": [
       "<matplotlib.image.AxesImage at 0x24d76126320>"
      ]
     },
     "execution_count": 36,
     "metadata": {},
     "output_type": "execute_result"
    },
    {
     "data": {
      "image/png": "[encoded data removed]",
      "text/plain": [
       "<Figure size 640x480 with 1 Axes>"
      ]
     },
     "metadata": {},
     "output_type": "display_data"
    }
   ],
   "source": [
    "plt.imshow(sam[1])"
   ]
  },
  {
   "cell_type": "code",
   "execution_count": 37,
   "id": "4994f3f1",
   "metadata": {},
   "outputs": [
    {
     "data": {
      "text/plain": [
       "0.0"
      ]
     },
     "execution_count": 37,
     "metadata": {},
     "output_type": "execute_result"
    }
   ],
   "source": [
    "sam[2]"
   ]
  },
  {
   "cell_type": "code",
   "execution_count": 38,
   "id": "c5bc66ff",
   "metadata": {},
   "outputs": [],
   "source": [
    "#Training Partition\n",
    "train_data = data.take(round(len(data)* .7))\n",
    "train_data = train_data.batch(16)\n",
    "train_data = train_data.prefetch(8)"
   ]
  },
  {
   "cell_type": "code",
   "execution_count": 39,
   "id": "66691fec",
   "metadata": {},
   "outputs": [
    {
     "data": {
      "text/plain": [
       "<ShuffleDataset element_spec=(TensorSpec(shape=(100, 100, None), dtype=tf.float32, name=None), TensorSpec(shape=(100, 100, None), dtype=tf.float32, name=None), TensorSpec(shape=(), dtype=tf.float32, name=None))>"
      ]
     },
     "execution_count": 39,
     "metadata": {},
     "output_type": "execute_result"
    }
   ],
   "source": [
    "data"
   ]
  },
  {
   "cell_type": "code",
   "execution_count": 40,
   "id": "ecff256c",
   "metadata": {},
   "outputs": [],
   "source": [
    "samples = train_data.as_numpy_iterator()"
   ]
  },
  {
   "cell_type": "code",
   "execution_count": 41,
   "id": "ef1acd9e",
   "metadata": {},
   "outputs": [],
   "source": [
    "sample = samples.next()"
   ]
  },
  {
   "cell_type": "code",
   "execution_count": 42,
   "id": "88189581",
   "metadata": {},
   "outputs": [
    {
     "data": {
      "text/plain": [
       "array([[[[0.77254903, 0.70980394, 0.5803922 ],\n",
       "         [0.7764706 , 0.7137255 , 0.58431375],\n",
       "         [0.7733823 , 0.7106372 , 0.57828426],\n",
       "         ...,\n",
       "         [0.7764706 , 0.7176471 , 0.59607846],\n",
       "         [0.78039217, 0.72156864, 0.6       ],\n",
       "         [0.78098035, 0.7221568 , 0.6005882 ]],\n",
       "\n",
       "        [[0.7717157 , 0.7111274 , 0.58171564],\n",
       "         [0.77387255, 0.7137255 , 0.58431375],\n",
       "         [0.76960784, 0.71210784, 0.58004904],\n",
       "         ...,\n",
       "         [0.7747059 , 0.72156864, 0.602549  ],\n",
       "         [0.7760294 , 0.7202451 , 0.602549  ],\n",
       "         [0.7764706 , 0.7198039 , 0.602549  ]],\n",
       "\n",
       "        [[0.76862746, 0.70980394, 0.5803922 ],\n",
       "         [0.77156866, 0.7147059 , 0.58431375],\n",
       "         [0.76862746, 0.7176471 , 0.58431375],\n",
       "         ...,\n",
       "         [0.7764706 , 0.72156864, 0.60784316],\n",
       "         [0.7764706 , 0.72156864, 0.60784316],\n",
       "         [0.7754902 , 0.7205882 , 0.6068627 ]],\n",
       "\n",
       "        ...,\n",
       "\n",
       "        [[0.5625    , 0.5389706 , 0.48995098],\n",
       "         [0.5862745 , 0.5627451 , 0.5137255 ],\n",
       "         [0.63186276, 0.60245097, 0.5504902 ],\n",
       "         ...,\n",
       "         [0.47254902, 0.48039216, 0.46715686],\n",
       "         [0.4747549 , 0.48259804, 0.4732843 ],\n",
       "         [0.4745098 , 0.47549018, 0.47058824]],\n",
       "\n",
       "        [[0.5531372 , 0.5256862 , 0.48647055],\n",
       "         [0.55696076, 0.53049016, 0.4893137 ],\n",
       "         [0.56926465, 0.54573524, 0.4927941 ],\n",
       "         ...,\n",
       "         [0.46539223, 0.4771078 , 0.4800001 ],\n",
       "         [0.46598032, 0.47681376, 0.48588246],\n",
       "         [0.48294103, 0.49039212, 0.50784314]],\n",
       "\n",
       "        [[0.5480392 , 0.51666665, 0.4735294 ],\n",
       "         [0.5516667 , 0.5222549 , 0.47784317],\n",
       "         [0.5601961 , 0.5366667 , 0.48176473],\n",
       "         ...,\n",
       "         [0.47073528, 0.47465685, 0.48446077],\n",
       "         [0.4805392 , 0.48446077, 0.50308824],\n",
       "         [0.4786765 , 0.4904412 , 0.51004905]]],\n",
       "\n",
       "\n",
       "       [[[0.7570098 , 0.7060294 , 0.5805392 ],\n",
       "         [0.7529412 , 0.70098037, 0.57843137],\n",
       "         [0.7525    , 0.69759804, 0.5897549 ],\n",
       "         ...,\n",
       "         [0.75686276, 0.71666664, 0.58235294],\n",
       "         [0.75784314, 0.7147059 , 0.595098  ],\n",
       "         [0.75803924, 0.714902  , 0.59725493]],\n",
       "\n",
       "        [[0.7519608 , 0.6988235 , 0.57980394],\n",
       "         [0.75509804, 0.7001961 , 0.58754903],\n",
       "         [0.75171566, 0.6968137 , 0.59004897],\n",
       "         ...,\n",
       "         [0.75941175, 0.7114216 , 0.58754903],\n",
       "         [0.76009804, 0.7153432 , 0.5973529 ],\n",
       "         [0.7629412 , 0.7198039 , 0.6021569 ]],\n",
       "\n",
       "        [[0.76004905, 0.7051471 , 0.59142154],\n",
       "         [0.75980395, 0.70490193, 0.59313726],\n",
       "         [0.7644608 , 0.70955884, 0.6066176 ],\n",
       "         ...,\n",
       "         [0.7615196 , 0.71838236, 0.6007353 ],\n",
       "         [0.76004905, 0.7169118 , 0.5992647 ],\n",
       "         [0.7656863 , 0.722549  , 0.60490197]],\n",
       "\n",
       "        ...,\n",
       "\n",
       "        [[0.10416666, 0.10416666, 0.0997549 ],\n",
       "         [0.10392157, 0.10392157, 0.09803922],\n",
       "         [0.09093137, 0.09166667, 0.08161765],\n",
       "         ...,\n",
       "         [0.3480392 , 0.28529412, 0.18333334],\n",
       "         [0.34779412, 0.28210783, 0.1742647 ],\n",
       "         [0.33382353, 0.26715687, 0.15735294]],\n",
       "\n",
       "        [[0.11406866, 0.11799023, 0.0923529 ],\n",
       "         [0.11156867, 0.11372549, 0.08666657],\n",
       "         [0.10122555, 0.10014714, 0.07274505],\n",
       "         ...,\n",
       "         [0.34941167, 0.28622538, 0.18338223],\n",
       "         [0.34725484, 0.2811274 , 0.17240188],\n",
       "         [0.33397055, 0.26730388, 0.15749997]],\n",
       "\n",
       "        [[0.12749995, 0.12749995, 0.09612741],\n",
       "         [0.12274505, 0.12274505, 0.08352936],\n",
       "         [0.11588231, 0.11588231, 0.07078426],\n",
       "         ...,\n",
       "         [0.34313726, 0.27941176, 0.1754902 ],\n",
       "         [0.3481373 , 0.28147063, 0.1716667 ],\n",
       "         [0.33960786, 0.2611765 , 0.15529414]]],\n",
       "\n",
       "\n",
       "       [[[0.7601961 , 0.70137256, 0.5876471 ],\n",
       "         [0.7607843 , 0.7019608 , 0.5882353 ],\n",
       "         [0.75828433, 0.6994608 , 0.5857353 ],\n",
       "         ...,\n",
       "         [0.7498529 , 0.7106372 , 0.60475487],\n",
       "         [0.7563235 , 0.7112255 , 0.60828435],\n",
       "         [0.75411767, 0.70705885, 0.60509807]],\n",
       "\n",
       "        [[0.75416666, 0.6975    , 0.5880882 ],\n",
       "         [0.7581862 , 0.7010784 , 0.59299016],\n",
       "         [0.7581862 , 0.6997549 , 0.59563726],\n",
       "         ...,\n",
       "         [0.75553924, 0.71504897, 0.5996078 ],\n",
       "         [0.75686276, 0.7137255 , 0.5996078 ],\n",
       "         [0.7590196 , 0.71588236, 0.6017647 ]],\n",
       "\n",
       "        [[0.75      , 0.69509804, 0.5892157 ],\n",
       "         [0.7536765 , 0.6987745 , 0.59387255],\n",
       "         [0.7561275 , 0.7012255 , 0.5992647 ],\n",
       "         ...,\n",
       "         [0.7629902 , 0.7198529 , 0.610049  ],\n",
       "         [0.75759804, 0.7144608 , 0.6046569 ],\n",
       "         [0.7647059 , 0.72156864, 0.6117647 ]],\n",
       "\n",
       "        ...,\n",
       "\n",
       "        [[0.10122549, 0.10122549, 0.10122549],\n",
       "         [0.09607843, 0.10392157, 0.1       ],\n",
       "         [0.08235294, 0.09019608, 0.08627451],\n",
       "         ...,\n",
       "         [0.35      , 0.2872549 , 0.18921569],\n",
       "         [0.34313726, 0.28039217, 0.17867647],\n",
       "         [0.34191176, 0.2752451 , 0.1732843 ]],\n",
       "\n",
       "        [[0.10882353, 0.10882353, 0.10529402],\n",
       "         [0.10612751, 0.10612751, 0.10612751],\n",
       "         [0.08686284, 0.08686284, 0.08686284],\n",
       "         ...,\n",
       "         [0.34607843, 0.28102937, 0.17553909],\n",
       "         [0.35034317, 0.27970582, 0.17230386],\n",
       "         [0.34661764, 0.2746567 , 0.16661754]],\n",
       "\n",
       "        [[0.10843135, 0.10843135, 0.10058821],\n",
       "         [0.12465686, 0.12465686, 0.1187745 ],\n",
       "         [0.11573526, 0.11573526, 0.1098529 ],\n",
       "         ...,\n",
       "         [0.34607843, 0.28235295, 0.18039216],\n",
       "         [0.34818625, 0.2815196 , 0.17367646],\n",
       "         [0.32848036, 0.26181367, 0.15200976]]],\n",
       "\n",
       "\n",
       "       ...,\n",
       "\n",
       "\n",
       "       [[[0.7504412 , 0.7112255 , 0.6131863 ],\n",
       "         [0.7527941 , 0.70573527, 0.6096568 ],\n",
       "         [0.75823534, 0.70529413, 0.60333335],\n",
       "         ...,\n",
       "         [0.7708333 , 0.7237745 , 0.56808823],\n",
       "         [0.76004905, 0.71254903, 0.56485295],\n",
       "         [0.7607843 , 0.72156864, 0.58098036]],\n",
       "\n",
       "        [[0.75455886, 0.70965683, 0.60338235],\n",
       "         [0.7646569 , 0.712402  , 0.60828435],\n",
       "         [0.76730394, 0.712402  , 0.6069608 ],\n",
       "         ...,\n",
       "         [0.6702941 , 0.615     , 0.4567647 ],\n",
       "         [0.7238235 , 0.66892153, 0.52029413],\n",
       "         [0.7509314 , 0.6995588 , 0.5570098 ]],\n",
       "\n",
       "        [[0.76862746, 0.7137255 , 0.6       ],\n",
       "         [0.7683824 , 0.7134804 , 0.5997549 ],\n",
       "         [0.7683824 , 0.7134804 , 0.5997549 ],\n",
       "         ...,\n",
       "         [0.5372549 , 0.4745098 , 0.34215686],\n",
       "         [0.60906863, 0.54632354, 0.41299018],\n",
       "         [0.67965686, 0.61691177, 0.48161766]],\n",
       "\n",
       "        ...,\n",
       "\n",
       "        [[0.7357843 , 0.7058824 , 0.6276961 ],\n",
       "         [0.74828434, 0.71617645, 0.6397059 ],\n",
       "         [0.7343137 , 0.7       , 0.6308824 ],\n",
       "         ...,\n",
       "         [0.42671567, 0.32377452, 0.2629902 ],\n",
       "         [0.41691175, 0.3240196 , 0.25808823],\n",
       "         [0.42303923, 0.33235294, 0.26544118]],\n",
       "\n",
       "        [[0.6094109 , 0.589411  , 0.5441169 ],\n",
       "         [0.657499  , 0.6379403 , 0.5884795 ],\n",
       "         [0.7362251 , 0.7083821 , 0.6529898 ],\n",
       "         ...,\n",
       "         [0.3951467 , 0.31240168, 0.2649508 ],\n",
       "         [0.45019627, 0.38009834, 0.321716  ],\n",
       "         [0.4988727 , 0.43980426, 0.37705916]],\n",
       "\n",
       "        [[0.5426961 , 0.534853  , 0.48387256],\n",
       "         [0.56254905, 0.54534316, 0.4950001 ],\n",
       "         [0.63102955, 0.6079413 , 0.5438728 ],\n",
       "         ...,\n",
       "         [0.49289212, 0.4304901 , 0.38985288],\n",
       "         [0.4836764 , 0.44279405, 0.39573523],\n",
       "         [0.48960787, 0.46024507, 0.40617645]]],\n",
       "\n",
       "\n",
       "       [[[0.7681863 , 0.7132843 , 0.59955883],\n",
       "         [0.7626961 , 0.7117157 , 0.5862255 ],\n",
       "         [0.7612255 , 0.71024513, 0.5847549 ],\n",
       "         ...,\n",
       "         [0.76485294, 0.7217157 , 0.60406864],\n",
       "         [0.76779413, 0.7246569 , 0.6070098 ],\n",
       "         [0.77254903, 0.7294118 , 0.61960787]],\n",
       "\n",
       "        [[0.7647059 , 0.7137255 , 0.5882353 ],\n",
       "         [0.7660294 , 0.71504897, 0.5895588 ],\n",
       "         [0.7612255 , 0.71024513, 0.5815196 ],\n",
       "         ...,\n",
       "         [0.7690196 , 0.71941173, 0.60499996],\n",
       "         [0.77411765, 0.7245098 , 0.6159804 ],\n",
       "         [0.7747059 , 0.725098  , 0.61745095]],\n",
       "\n",
       "        [[0.7644608 , 0.7134804 , 0.5879902 ],\n",
       "         [0.7639706 , 0.7129902 , 0.5855392 ],\n",
       "         [0.7627451 , 0.7117647 , 0.57843137],\n",
       "         ...,\n",
       "         [0.7754902 , 0.7245098 , 0.5990196 ],\n",
       "         [0.77181375, 0.71789217, 0.6012255 ],\n",
       "         [0.7754902 , 0.72083336, 0.60637254]],\n",
       "\n",
       "        ...,\n",
       "\n",
       "        [[0.55563724, 0.53112745, 0.46789217],\n",
       "         [0.5857843 , 0.55735296, 0.48578432],\n",
       "         [0.64460784, 0.6044118 , 0.525     ],\n",
       "         ...,\n",
       "         [0.47671568, 0.48431373, 0.4629902 ],\n",
       "         [0.48161766, 0.48553923, 0.46495098],\n",
       "         [0.48921567, 0.48553923, 0.46813726]],\n",
       "\n",
       "        [[0.53710777, 0.52318627, 0.4835785 ],\n",
       "         [0.54897046, 0.53088224, 0.48602936],\n",
       "         [0.57794106, 0.5442157 , 0.4979412 ],\n",
       "         ...,\n",
       "         [0.4850981 , 0.4872549 , 0.4623528 ],\n",
       "         [0.49406877, 0.48901966, 0.46705872],\n",
       "         [0.49539232, 0.48794124, 0.47049022]],\n",
       "\n",
       "        [[0.53764707, 0.5219608 , 0.48666668],\n",
       "         [0.54313725, 0.5245098 , 0.49019608],\n",
       "         [0.55093145, 0.5234805 , 0.48455885],\n",
       "         ...,\n",
       "         [0.48485297, 0.48794118, 0.4347059 ],\n",
       "         [0.49117646, 0.4862745 , 0.43681374],\n",
       "         [0.5342156 , 0.5263725 , 0.4787255 ]]],\n",
       "\n",
       "\n",
       "       [[[0.76980394, 0.7109804 , 0.58156866],\n",
       "         [0.77000004, 0.71313727, 0.58274513],\n",
       "         [0.75769603, 0.70671564, 0.5733823 ],\n",
       "         ...,\n",
       "         [0.78333336, 0.7207353 , 0.5888235 ],\n",
       "         [0.7865196 , 0.7285294 , 0.59745103],\n",
       "         [0.78142154, 0.722598  , 0.59436274]],\n",
       "\n",
       "        [[0.762549  , 0.70372546, 0.5743137 ],\n",
       "         [0.7611274 , 0.7042647 , 0.5738725 ],\n",
       "         [0.7637255 , 0.7127451 , 0.57941175],\n",
       "         ...,\n",
       "         [0.7497549 , 0.67387253, 0.54156864],\n",
       "         [0.7767157 , 0.70750004, 0.5770588 ],\n",
       "         [0.78049016, 0.71862745, 0.5855882 ]],\n",
       "\n",
       "        [[0.764951  , 0.70612746, 0.5767157 ],\n",
       "         [0.7676471 , 0.71666664, 0.5852941 ],\n",
       "         [0.7654412 , 0.7144608 , 0.5889706 ],\n",
       "         ...,\n",
       "         [0.6882353 , 0.5980392 , 0.47549018],\n",
       "         [0.73112744, 0.6497549 , 0.5262255 ],\n",
       "         [0.76911765, 0.69460785, 0.5681372 ]],\n",
       "\n",
       "        ...,\n",
       "\n",
       "        [[0.7519608 , 0.72156864, 0.6284314 ],\n",
       "         [0.73995095, 0.7105392 , 0.6213235 ],\n",
       "         [0.69754905, 0.67009807, 0.5985294 ],\n",
       "         ...,\n",
       "         [0.49436274, 0.44240198, 0.41004902],\n",
       "         [0.49436274, 0.4522059 , 0.41764706],\n",
       "         [0.49019608, 0.45563725, 0.4254902 ]],\n",
       "\n",
       "        [[0.6678424 , 0.63823456, 0.5609307 ],\n",
       "         [0.7213235 , 0.6938725 , 0.6211274 ],\n",
       "         [0.73245096, 0.705     , 0.6402941 ],\n",
       "         ...,\n",
       "         [0.4894117 , 0.45720592, 0.4371569 ],\n",
       "         [0.48799014, 0.46191186, 0.45014715],\n",
       "         [0.4791666 , 0.46372548, 0.44882357]],\n",
       "\n",
       "        [[0.58745116, 0.56392175, 0.50401974],\n",
       "         [0.5913726 , 0.5668628 , 0.5021569 ],\n",
       "         [0.69049054, 0.66303957, 0.59245133],\n",
       "         ...,\n",
       "         [0.4739216 , 0.46249998, 0.44499996],\n",
       "         [0.4732353 , 0.46725488, 0.46779412],\n",
       "         [0.47058824, 0.47058824, 0.47058824]]]], dtype=float32)"
      ]
     },
     "execution_count": 42,
     "metadata": {},
     "output_type": "execute_result"
    }
   ],
   "source": [
    "sample[0]"
   ]
  },
  {
   "cell_type": "code",
   "execution_count": 43,
   "id": "c45f14c7",
   "metadata": {},
   "outputs": [],
   "source": [
    "# test partition\n",
    "test_data = data.skip(round(len(data)* .7))\n",
    "test_data = test_data.take(round(len(data)* .3))\n",
    "test_data = test_data.batch(16)\n",
    "test_data = test_data.prefetch(8)"
   ]
  },
  {
   "cell_type": "markdown",
   "id": "c4c3215f",
   "metadata": {},
   "source": [
    "# Model Engineering"
   ]
  },
  {
   "cell_type": "markdown",
   "id": "b8959217",
   "metadata": {},
   "source": [
    "## 1. build embedding layer\n",
    "### Create a function"
   ]
  },
  {
   "cell_type": "code",
   "execution_count": 44,
   "id": "960f238c",
   "metadata": {
    "scrolled": true
   },
   "outputs": [],
   "source": [
    "inp = Input(shape=(105,105,3), name = 'input_image')"
   ]
  },
  {
   "cell_type": "code",
   "execution_count": 45,
   "id": "6c88748b",
   "metadata": {},
   "outputs": [
    {
     "data": {
      "text/plain": [
       "<KerasTensor: shape=(None, 105, 105, 3) dtype=float32 (created by layer 'input_image')>"
      ]
     },
     "execution_count": 45,
     "metadata": {},
     "output_type": "execute_result"
    }
   ],
   "source": [
    "inp"
   ]
  },
  {
   "cell_type": "code",
   "execution_count": 46,
   "id": "a45b57d5",
   "metadata": {},
   "outputs": [],
   "source": [
    "c1 = Conv2D(64,(10,10), activation='relu')(inp)"
   ]
  },
  {
   "cell_type": "code",
   "execution_count": 47,
   "id": "2766b3da",
   "metadata": {},
   "outputs": [
    {
     "data": {
      "text/plain": [
       "<KerasTensor: shape=(None, 96, 96, 64) dtype=float32 (created by layer 'conv2d')>"
      ]
     },
     "execution_count": 47,
     "metadata": {},
     "output_type": "execute_result"
    }
   ],
   "source": [
    "c1"
   ]
  },
  {
   "cell_type": "code",
   "execution_count": 48,
   "id": "fc2f35ed",
   "metadata": {},
   "outputs": [],
   "source": [
    "m1 = MaxPooling2D(64, (2,2), padding = \"same\")(c1)"
   ]
  },
  {
   "cell_type": "code",
   "execution_count": 49,
   "id": "d1262341",
   "metadata": {},
   "outputs": [
    {
     "data": {
      "text/plain": [
       "<KerasTensor: shape=(None, 48, 48, 64) dtype=float32 (created by layer 'max_pooling2d')>"
      ]
     },
     "execution_count": 49,
     "metadata": {},
     "output_type": "execute_result"
    }
   ],
   "source": [
    "m1"
   ]
  },
  {
   "cell_type": "code",
   "execution_count": 50,
   "id": "d59f15ef",
   "metadata": {},
   "outputs": [],
   "source": [
    "c2 = Conv2D(128,(7,7), activation='relu')(m1)\n",
    "m2 = MaxPooling2D(64, (2,2), padding = \"same\")(c2)\n",
    "c3 = Conv2D(128,(4,4), activation='relu')(m2)\n",
    "m3 = MaxPooling2D(64, (2,2), padding = \"same\")(c3)"
   ]
  },
  {
   "cell_type": "code",
   "execution_count": 51,
   "id": "0b77e410",
   "metadata": {
    "scrolled": true
   },
   "outputs": [
    {
     "data": {
      "text/plain": [
       "<KerasTensor: shape=(None, 9, 9, 128) dtype=float32 (created by layer 'max_pooling2d_2')>"
      ]
     },
     "execution_count": 51,
     "metadata": {},
     "output_type": "execute_result"
    }
   ],
   "source": [
    "m3"
   ]
  },
  {
   "cell_type": "code",
   "execution_count": 52,
   "id": "a40b2927",
   "metadata": {},
   "outputs": [],
   "source": [
    "c4 = Conv2D(256, (4,4), activation='relu')(m3)\n",
    "f1 = Flatten()(c4)\n",
    "d1 = Dense(4096, activation = 'sigmoid')(f1)"
   ]
  },
  {
   "cell_type": "code",
   "execution_count": 53,
   "id": "1266700a",
   "metadata": {},
   "outputs": [
    {
     "data": {
      "text/plain": [
       "<KerasTensor: shape=(None, 9216) dtype=float32 (created by layer 'flatten')>"
      ]
     },
     "execution_count": 53,
     "metadata": {},
     "output_type": "execute_result"
    }
   ],
   "source": [
    "f1"
   ]
  },
  {
   "cell_type": "markdown",
   "id": "c379a7bc",
   "metadata": {},
   "source": [
    "# By using function below the Model has build"
   ]
  },
  {
   "cell_type": "code",
   "execution_count": 56,
   "id": "1193c56e",
   "metadata": {},
   "outputs": [],
   "source": [
    "import tensorflow as tf\n",
    "import torch\n",
    "if torch.cuda.is_available():\n",
    "    device = torch.device('cuda:0')\n",
    "else:\n",
    "    device = torch.device('cpu')\n",
    "\n",
    "def make_embedding():\n",
    "    inp = Input(shape=(100,100,3), name = 'input_image')\n",
    "    \n",
    "    #first block\n",
    "    with tf.device('/GPU:0'):\n",
    "        c1 = Conv2D(64,(10,10), activation='relu')(inp)\n",
    "        m1 = MaxPooling2D(64, (2,2), padding = \"same\")(c1)\n",
    "    \n",
    "    #second\n",
    "    with tf.device('/GPU:0'):\n",
    "        c2 = Conv2D(128,(7,7), activation='relu')(m1)\n",
    "        m2 = MaxPooling2D(64, (2,2), padding = \"same\")(c2)\n",
    "    \n",
    "    #third\n",
    "    with tf.device('/GPU:0'):\n",
    "        c3 = Conv2D(128,(4,4), activation='relu')(m2)\n",
    "        m3 = MaxPooling2D(64, (2,2), padding = \"same\")(c3)\n",
    "    \n",
    "    #final embedding block\n",
    "    with tf.device('/GPU:0'):\n",
    "        c4 = Conv2D(256, (4,4), activation='relu')(m3)\n",
    "        f1 = Flatten()(c4)\n",
    "        d1 = Dense(4096, activation = 'sigmoid')(f1)\n",
    "    \n",
    "    return Model(inputs=[inp], outputs=[d1], name='embedding')"
   ]
  },
  {
   "cell_type": "code",
   "execution_count": 57,
   "id": "1fae8a4c",
   "metadata": {},
   "outputs": [],
   "source": [
    "embedding = make_embedding()"
   ]
  },
  {
   "cell_type": "code",
   "execution_count": 58,
   "id": "d7b28e5a",
   "metadata": {},
   "outputs": [
    {
     "name": "stdout",
     "output_type": "stream",
     "text": [
      "Model: \"embedding\"\n",
      "_________________________________________________________________\n",
      " Layer (type)                Output Shape              Param #   \n",
      "=================================================================\n",
      " input_image (InputLayer)    [(None, 100, 100, 3)]     0         \n",
      "                                                                 \n",
      " conv2d_4 (Conv2D)           (None, 91, 91, 64)        19264     \n",
      "                                                                 \n",
      " max_pooling2d_3 (MaxPooling  (None, 46, 46, 64)       0         \n",
      " 2D)                                                             \n",
      "                                                                 \n",
      " conv2d_5 (Conv2D)           (None, 40, 40, 128)       401536    \n",
      "                                                                 \n",
      " max_pooling2d_4 (MaxPooling  (None, 20, 20, 128)      0         \n",
      " 2D)                                                             \n",
      "                                                                 \n",
      " conv2d_6 (Conv2D)           (None, 17, 17, 128)       262272    \n",
      "                                                                 \n",
      " max_pooling2d_5 (MaxPooling  (None, 9, 9, 128)        0         \n",
      " 2D)                                                             \n",
      "                                                                 \n",
      " conv2d_7 (Conv2D)           (None, 6, 6, 256)         524544    \n",
      "                                                                 \n",
      " flatten_1 (Flatten)         (None, 9216)              0         \n",
      "                                                                 \n",
      " dense_1 (Dense)             (None, 4096)              37752832  \n",
      "                                                                 \n",
      "=================================================================\n",
      "Total params: 38,960,448\n",
      "Trainable params: 38,960,448\n",
      "Non-trainable params: 0\n",
      "_________________________________________________________________\n"
     ]
    }
   ],
   "source": [
    "embedding.summary()"
   ]
  },
  {
   "cell_type": "markdown",
   "id": "2cc06cc9",
   "metadata": {},
   "source": [
    "## 2. Build Distance Layer"
   ]
  },
  {
   "cell_type": "code",
   "execution_count": 59,
   "id": "ddbdd86d",
   "metadata": {},
   "outputs": [],
   "source": [
    "#Siamese L1 Distance Class\n",
    "class L1Dist(Layer):\n",
    "    def __init__(self, **kwargs):\n",
    "        super().__init__()\n",
    "    \n",
    "    #important\n",
    "    #Similarity Calculation\n",
    "    def call(self, input_embedding, validation_embedding):\n",
    "        return tf.math.abs(input_embedding - validation_embedding)\n",
    "    "
   ]
  },
  {
   "cell_type": "code",
   "execution_count": 60,
   "id": "140876e5",
   "metadata": {},
   "outputs": [],
   "source": [
    "l1 = L1Dist()"
   ]
  },
  {
   "cell_type": "code",
   "execution_count": 61,
   "id": "d1d69154",
   "metadata": {},
   "outputs": [],
   "source": [
    "input_image = Input(name='input_img', shape = (100,100,3))\n",
    "    \n",
    "#validation Img in the network\n",
    "validation_image = Input(name = 'validation_img', shape = (100,100,3))"
   ]
  },
  {
   "cell_type": "code",
   "execution_count": 62,
   "id": "3759965c",
   "metadata": {},
   "outputs": [],
   "source": [
    "inp_embedding = embedding(input_image)\n",
    "val_embedding = embedding(validation_image)"
   ]
  },
  {
   "cell_type": "markdown",
   "id": "9ad8356b",
   "metadata": {},
   "source": [
    "### put the input and validation img into embedding function that we declared before, the img will be modified"
   ]
  },
  {
   "cell_type": "code",
   "execution_count": 63,
   "id": "8e51a964",
   "metadata": {},
   "outputs": [
    {
     "data": {
      "text/plain": [
       "<KerasTensor: shape=(None, 4096) dtype=float32 (created by layer 'embedding')>"
      ]
     },
     "execution_count": 63,
     "metadata": {},
     "output_type": "execute_result"
    }
   ],
   "source": [
    "inp_embedding"
   ]
  },
  {
   "cell_type": "code",
   "execution_count": 64,
   "id": "fbdde516",
   "metadata": {},
   "outputs": [],
   "source": [
    "siamese_layer = L1Dist()"
   ]
  },
  {
   "cell_type": "code",
   "execution_count": 65,
   "id": "93d6dc69",
   "metadata": {},
   "outputs": [],
   "source": [
    "distances = siamese_layer(inp_embedding, val_embedding)"
   ]
  },
  {
   "cell_type": "code",
   "execution_count": 66,
   "id": "0faec078",
   "metadata": {},
   "outputs": [],
   "source": [
    "classifier = Dense(1, activation='sigmoid')(distances)"
   ]
  },
  {
   "cell_type": "code",
   "execution_count": 67,
   "id": "77bef4a3",
   "metadata": {
    "scrolled": true
   },
   "outputs": [
    {
     "data": {
      "text/plain": [
       "<KerasTensor: shape=(None, 1) dtype=float32 (created by layer 'dense_2')>"
      ]
     },
     "execution_count": 67,
     "metadata": {},
     "output_type": "execute_result"
    }
   ],
   "source": [
    "classifier  #Shape 1"
   ]
  },
  {
   "cell_type": "code",
   "execution_count": 68,
   "id": "848c4b87",
   "metadata": {},
   "outputs": [],
   "source": [
    "siamese_network = Model(inputs=[input_image, validation_image], outputs=classifier, name='SiameseNetwork')"
   ]
  },
  {
   "cell_type": "code",
   "execution_count": 69,
   "id": "31e6bfa9",
   "metadata": {
    "scrolled": false
   },
   "outputs": [
    {
     "name": "stdout",
     "output_type": "stream",
     "text": [
      "Model: \"SiameseNetwork\"\n",
      "__________________________________________________________________________________________________\n",
      " Layer (type)                   Output Shape         Param #     Connected to                     \n",
      "==================================================================================================\n",
      " input_img (InputLayer)         [(None, 100, 100, 3  0           []                               \n",
      "                                )]                                                                \n",
      "                                                                                                  \n",
      " validation_img (InputLayer)    [(None, 100, 100, 3  0           []                               \n",
      "                                )]                                                                \n",
      "                                                                                                  \n",
      " embedding (Functional)         (None, 4096)         38960448    ['input_img[0][0]',              \n",
      "                                                                  'validation_img[0][0]']         \n",
      "                                                                                                  \n",
      " l1_dist_1 (L1Dist)             (None, 4096)         0           ['embedding[0][0]',              \n",
      "                                                                  'embedding[1][0]']              \n",
      "                                                                                                  \n",
      " dense_2 (Dense)                (None, 1)            4097        ['l1_dist_1[0][0]']              \n",
      "                                                                                                  \n",
      "==================================================================================================\n",
      "Total params: 38,964,545\n",
      "Trainable params: 38,964,545\n",
      "Non-trainable params: 0\n",
      "__________________________________________________________________________________________________\n"
     ]
    }
   ],
   "source": [
    "siamese_network.summary()"
   ]
  },
  {
   "cell_type": "markdown",
   "id": "7ff39ab3",
   "metadata": {},
   "source": [
    "### 1. input image validation image\n",
    "### 2. goes to embedding(function)  layer\n",
    "### 3. combined through L1Dist() layer\n",
    "### 4. output a single value (shape 1)"
   ]
  },
  {
   "cell_type": "markdown",
   "id": "4a2afce0",
   "metadata": {},
   "source": [
    "### 4096 = distance between inp_embedding and val_embedding"
   ]
  },
  {
   "cell_type": "markdown",
   "id": "181aadbc",
   "metadata": {},
   "source": [
    "## 3. Make Siamese Model"
   ]
  },
  {
   "cell_type": "code",
   "execution_count": 70,
   "id": "fff38884",
   "metadata": {},
   "outputs": [],
   "source": [
    "def make_siamese_model():\n",
    "    #Handle Anchor Inputs in the network\n",
    "    input_image = Input(name = 'input_img', shape = (100,100,3))\n",
    "    \n",
    "    #validation Img in the network\n",
    "    validation_iamge = Input(name = 'validation_img', shape = (100,100,3))\n",
    "    \n",
    "    #Combine siamese distance components\n",
    "    siamese_layer = L1Dist()\n",
    "    siamese_layer._name = 'distance'\n",
    "    distances = siamese_layer(embedding(input_image), embedding(validation_image))\n",
    "    \n",
    "    #classification Layer\n",
    "    classifier = Dense(1, activation='sigmoid')(distances)\n",
    "    \n",
    "    return Model(inputs=[input_image, validation_image], outputs=classifier, name='SiameseNetwork')\n",
    "    "
   ]
  },
  {
   "cell_type": "code",
   "execution_count": 71,
   "id": "1e82423c",
   "metadata": {},
   "outputs": [],
   "source": [
    "siamese_model = make_siamese_model()"
   ]
  },
  {
   "cell_type": "code",
   "execution_count": 72,
   "id": "c0fd9c3f",
   "metadata": {},
   "outputs": [
    {
     "name": "stdout",
     "output_type": "stream",
     "text": [
      "Model: \"SiameseNetwork\"\n",
      "__________________________________________________________________________________________________\n",
      " Layer (type)                   Output Shape         Param #     Connected to                     \n",
      "==================================================================================================\n",
      " input_img (InputLayer)         [(None, 100, 100, 3  0           []                               \n",
      "                                )]                                                                \n",
      "                                                                                                  \n",
      " validation_img (InputLayer)    [(None, 100, 100, 3  0           []                               \n",
      "                                )]                                                                \n",
      "                                                                                                  \n",
      " embedding (Functional)         (None, 4096)         38960448    ['input_img[0][0]',              \n",
      "                                                                  'validation_img[0][0]']         \n",
      "                                                                                                  \n",
      " distance (L1Dist)              (None, 4096)         0           ['embedding[2][0]',              \n",
      "                                                                  'embedding[3][0]']              \n",
      "                                                                                                  \n",
      " dense_3 (Dense)                (None, 1)            4097        ['distance[0][0]']               \n",
      "                                                                                                  \n",
      "==================================================================================================\n",
      "Total params: 38,964,545\n",
      "Trainable params: 38,964,545\n",
      "Non-trainable params: 0\n",
      "__________________________________________________________________________________________________\n"
     ]
    }
   ],
   "source": [
    "siamese_model.summary()"
   ]
  },
  {
   "cell_type": "markdown",
   "id": "d2b6346a",
   "metadata": {},
   "source": [
    "# Start To Training"
   ]
  },
  {
   "cell_type": "markdown",
   "id": "6f444ea7",
   "metadata": {},
   "source": [
    "## 1. Set up Loss and Optimizer"
   ]
  },
  {
   "cell_type": "code",
   "execution_count": 73,
   "id": "a12e60db",
   "metadata": {},
   "outputs": [],
   "source": [
    "binary_cross_loss = tf.losses.BinaryCrossentropy()"
   ]
  },
  {
   "cell_type": "code",
   "execution_count": 74,
   "id": "61daf12a",
   "metadata": {},
   "outputs": [],
   "source": [
    "#Find keras Adam optimizer\n",
    "opt = tf.keras.optimizers.Adam(1e-4)"
   ]
  },
  {
   "cell_type": "markdown",
   "id": "0f039800",
   "metadata": {},
   "source": [
    "## 2. Establish Checkpoints"
   ]
  },
  {
   "cell_type": "code",
   "execution_count": 75,
   "id": "8ada6d63",
   "metadata": {},
   "outputs": [],
   "source": [
    "checkpoint_dir = './training_checkpoints'\n",
    "checkpoint_prefix = os.path.join(checkpoint_dir, 'ckpt')\n",
    "checkpoint = tf.train.Checkpoint(opt=opt, siamese_model = siamese_model)"
   ]
  },
  {
   "cell_type": "markdown",
   "id": "d5d3bf05",
   "metadata": {},
   "source": [
    "## 3. Build Train Step Function"
   ]
  },
  {
   "cell_type": "code",
   "execution_count": 76,
   "id": "03601a52",
   "metadata": {},
   "outputs": [],
   "source": [
    "test_batch = train_data.as_numpy_iterator()"
   ]
  },
  {
   "cell_type": "code",
   "execution_count": 77,
   "id": "6f0231be",
   "metadata": {},
   "outputs": [],
   "source": [
    "batch_1 = test_batch.next()"
   ]
  },
  {
   "cell_type": "code",
   "execution_count": 78,
   "id": "30cae3f2",
   "metadata": {},
   "outputs": [
    {
     "data": {
      "text/plain": [
       "3"
      ]
     },
     "execution_count": 78,
     "metadata": {},
     "output_type": "execute_result"
    }
   ],
   "source": [
    "len(batch_1)"
   ]
  },
  {
   "cell_type": "code",
   "execution_count": 79,
   "id": "4e83d5eb",
   "metadata": {},
   "outputs": [
    {
     "data": {
      "text/plain": [
       "16"
      ]
     },
     "execution_count": 79,
     "metadata": {},
     "output_type": "execute_result"
    }
   ],
   "source": [
    "len(batch_1[1]) #16 images in index"
   ]
  },
  {
   "cell_type": "code",
   "execution_count": 80,
   "id": "d87884af",
   "metadata": {
    "scrolled": true
   },
   "outputs": [
    {
     "data": {
      "text/plain": [
       "array([1., 0., 1., 0., 1., 0., 1., 0., 1., 0., 1., 1., 0., 0., 1., 1.],\n",
       "      dtype=float32)"
      ]
     },
     "execution_count": 80,
     "metadata": {},
     "output_type": "execute_result"
    }
   ],
   "source": [
    "batch_1[2] #all labels"
   ]
  },
  {
   "cell_type": "code",
   "execution_count": 81,
   "id": "0e52b96b",
   "metadata": {},
   "outputs": [],
   "source": [
    "X = batch_1[:2]"
   ]
  },
  {
   "cell_type": "code",
   "execution_count": 82,
   "id": "bda33cb1",
   "metadata": {},
   "outputs": [
    {
     "data": {
      "text/plain": [
       "(2, 16, 100, 100, 3)"
      ]
     },
     "execution_count": 82,
     "metadata": {},
     "output_type": "execute_result"
    }
   ],
   "source": [
    "np.array(X).shape #2 components 16 imgs each , 100 by 100 by 3"
   ]
  },
  {
   "cell_type": "code",
   "execution_count": 83,
   "id": "1f95103b",
   "metadata": {},
   "outputs": [],
   "source": [
    "y = batch_1[2]"
   ]
  },
  {
   "cell_type": "code",
   "execution_count": 84,
   "id": "050fed57",
   "metadata": {},
   "outputs": [],
   "source": [
    "tf.losses.BinaryCrossentropy??"
   ]
  },
  {
   "cell_type": "code",
   "execution_count": 85,
   "id": "524bb38d",
   "metadata": {},
   "outputs": [],
   "source": [
    "\n",
    "\n",
    "@tf.function #compiles a function into a callable TensorFlow graph\n",
    "def train_step(batch):\n",
    "    with tf.device('/GPU:0'):\n",
    "        with tf.GradientTape() as tape: #Record operation for automatic differention\n",
    "\n",
    "            #Get anchor and positive/negative image\n",
    "            X = batch[:2]\n",
    "            #Get Label\n",
    "            y = batch[2]\n",
    "\n",
    "            #Forward pass\n",
    "            yhat = siamese_model(X, training = True)\n",
    "\n",
    "            #calculate loss  bce(y_true, y_pred).numpy() \n",
    "            loss = binary_cross_loss(y,yhat)\n",
    "        print(loss)\n",
    "\n",
    "        #calculate gradients\n",
    "        grad = tape.gradient(loss, siamese_model.trainable_variables)\n",
    "\n",
    "        #calculate updated weights and apply to siamese model\n",
    "        opt.apply_gradients(zip(grad, siamese_model.trainable_variables))\n",
    "\n",
    "        #return loss\n",
    "        return loss"
   ]
  },
  {
   "cell_type": "code",
   "execution_count": 86,
   "id": "25506302",
   "metadata": {},
   "outputs": [
    {
     "data": {
      "text/plain": [
       "device(type='cuda', index=0)"
      ]
     },
     "execution_count": 86,
     "metadata": {},
     "output_type": "execute_result"
    }
   ],
   "source": [
    "device"
   ]
  },
  {
   "cell_type": "markdown",
   "id": "f908f832",
   "metadata": {},
   "source": [
    "## 4. Build Training Loop"
   ]
  },
  {
   "cell_type": "code",
   "execution_count": 87,
   "id": "be40c04c",
   "metadata": {},
   "outputs": [],
   "source": [
    "def train(data, EPOCHS):\n",
    "    #Loop through epochs\n",
    "    for epoch in range(1, EPOCHS + 1):\n",
    "        print('\\n Epoch{}/{}'.format(epoch, EPOCHS))\n",
    "        progbar = tf.keras.utils.Progbar(len(data))\n",
    "    \n",
    "        #Loop through each batch\n",
    "        for idx, batch in enumerate(data):\n",
    "            \n",
    "            #run the train step:\n",
    "            train_step(batch)\n",
    "            progbar.update(idx+1)\n",
    "        if epoch %10 == 0:\n",
    "            checkpoint.save(file_prefix = checkpoint_prefix)"
   ]
  },
  {
   "cell_type": "markdown",
   "id": "88d77715",
   "metadata": {},
   "source": [
    "## 5. Train the Model"
   ]
  },
  {
   "cell_type": "code",
   "execution_count": 88,
   "id": "26e76642",
   "metadata": {},
   "outputs": [],
   "source": [
    "EPOCHS = 50"
   ]
  },
  {
   "cell_type": "code",
   "execution_count": null,
   "id": "12e83f0b",
   "metadata": {},
   "outputs": [],
   "source": [
    "import tensorflow as tf\n",
    "gpus = tf.config.experimental.list_physical_devices('GPU')\n",
    "\n",
    "# 设置GPU可见性\n",
    "tf.config.experimental.set_visible_devices(gpus, 'GPU')\n",
    "\n",
    "for gpu in gpus:\n",
    "    print(gpu)\n",
    "    tf.config.experimental.set_memory_growth(gpu, True)"
   ]
  },
  {
   "cell_type": "code",
   "execution_count": null,
   "id": "2a3cb7d3",
   "metadata": {},
   "outputs": [],
   "source": [
    "import torch\n",
    "print(\"Num GPUs Available: \", torch.cuda.device_count())"
   ]
  },
  {
   "cell_type": "code",
   "execution_count": null,
   "id": "e7834af4",
   "metadata": {},
   "outputs": [],
   "source": [
    "torch.cuda.is_available()"
   ]
  },
  {
   "cell_type": "code",
   "execution_count": null,
   "id": "3786369a",
   "metadata": {
    "scrolled": true
   },
   "outputs": [
    {
     "name": "stdout",
     "output_type": "stream",
     "text": [
      "\n",
      " Epoch1/50\n",
      "Tensor(\"binary_crossentropy/weighted_loss/value:0\", shape=(), dtype=float32, device=/device:GPU:0)\n",
      "Tensor(\"binary_crossentropy/weighted_loss/value:0\", shape=(), dtype=float32, device=/device:GPU:0)\n",
      " 9/27 [=========>....................] - ETA: 4:51"
     ]
    }
   ],
   "source": [
    "train(train_data, EPOCHS)"
   ]
  },
  {
   "cell_type": "code",
   "execution_count": 2,
   "id": "2f5ec4ff",
   "metadata": {},
   "outputs": [
    {
     "name": "stdout",
     "output_type": "stream",
     "text": [
      "Wed Aug  2 23:49:37 2023       \n",
      "+-----------------------------------------------------------------------------+\n",
      "| NVIDIA-SMI 528.79       Driver Version: 528.79       CUDA Version: 12.0     |\n",
      "|-------------------------------+----------------------+----------------------+\n",
      "| GPU  Name            TCC/WDDM | Bus-Id        Disp.A | Volatile Uncorr. ECC |\n",
      "| Fan  Temp  Perf  Pwr:Usage/Cap|         Memory-Usage | GPU-Util  Compute M. |\n",
      "|                               |                      |               MIG M. |\n",
      "|===============================+======================+======================|\n",
      "|   0  NVIDIA GeForce ... WDDM  | 00000000:01:00.0  On |                  N/A |\n",
      "| N/A   59C    P8    16W /  90W |   3966MiB /  6144MiB |      2%      Default |\n",
      "|                               |                      |                  N/A |\n",
      "+-------------------------------+----------------------+----------------------+\n",
      "                                                                               \n",
      "+-----------------------------------------------------------------------------+\n",
      "| Processes:                                                                  |\n",
      "|  GPU   GI   CI        PID   Type   Process name                  GPU Memory |\n",
      "|        ID   ID                                                   Usage      |\n",
      "|=============================================================================|\n",
      "|    0   N/A  N/A      4816    C+G   ...n1h2txyewy\\SearchHost.exe    N/A      |\n",
      "|    0   N/A  N/A     14908    C+G   ...root\\Office16\\WINWORD.EXE    N/A      |\n",
      "|    0   N/A  N/A     16272    C+G   ...8bbwe\\WindowsTerminal.exe    N/A      |\n",
      "|    0   N/A  N/A     49528    C+G   ...t\\Teams\\current\\Teams.exe    N/A      |\n",
      "|    0   N/A  N/A     52236    C+G   C:\\Windows\\explorer.exe         N/A      |\n",
      "|    0   N/A  N/A     54092    C+G   ...artMenuExperienceHost.exe    N/A      |\n",
      "|    0   N/A  N/A     57060    C+G   ...e\\PhoneExperienceHost.exe    N/A      |\n",
      "|    0   N/A  N/A     57152    C+G   ...werToys.ColorPickerUI.exe    N/A      |\n",
      "|    0   N/A  N/A     57216    C+G   ...\\PowerToys.FancyZones.exe    N/A      |\n",
      "|    0   N/A  N/A     57324    C+G   ...eek\\PowerToys.Peek.UI.exe    N/A      |\n",
      "|    0   N/A  N/A     57412    C+G   ...werToys.PowerLauncher.exe    N/A      |\n",
      "|    0   N/A  N/A     57480    C+G   ...CR\\PowerToys.PowerOCR.exe    N/A      |\n",
      "|    0   N/A  N/A     58384    C+G   ...perience\\NVIDIA Share.exe    N/A      |\n",
      "|    0   N/A  N/A     58752    C+G   ...perience\\NVIDIA Share.exe    N/A      |\n",
      "|    0   N/A  N/A     61856    C+G   ...2txyewy\\TextInputHost.exe    N/A      |\n",
      "|    0   N/A  N/A     62228    C+G   ...\\app-1.0.9015\\Discord.exe    N/A      |\n",
      "|    0   N/A  N/A     63156    C+G   ...\\app-1.0.9015\\Discord.exe    N/A      |\n",
      "|    0   N/A  N/A     64176    C+G   ...01.188\\msedgewebview2.exe    N/A      |\n",
      "|    0   N/A  N/A     68156    C+G   ...t\\Teams\\current\\Teams.exe    N/A      |\n",
      "|    0   N/A  N/A     68180    C+G   ...8wekyb3d8bbwe\\Cortana.exe    N/A      |\n",
      "|    0   N/A  N/A     69880    C+G   ...4__htrsf667h5kn2\\AWCC.exe    N/A      |\n",
      "|    0   N/A  N/A     73200    C+G   ...icrosoft VS Code\\Code.exe    N/A      |\n",
      "|    0   N/A  N/A     76404    C+G   ...v1g1gvanyjgm\\WhatsApp.exe    N/A      |\n",
      "|    0   N/A  N/A     87964    C+G   ...me\\Application\\chrome.exe    N/A      |\n",
      "|    0   N/A  N/A     88332    C+G   ...wekyb3d8bbwe\\Video.UI.exe    N/A      |\n",
      "|    0   N/A  N/A     88340    C+G   ...8wekyb3d8bbwe\\GameBar.exe    N/A      |\n",
      "|    0   N/A  N/A     98328    C+G   ...lPanel\\SystemSettings.exe    N/A      |\n",
      "|    0   N/A  N/A     99076    C+G   ...ekyb3d8bbwe\\HxOutlook.exe    N/A      |\n",
      "|    0   N/A  N/A    100188    C+G   ...y\\ShellExperienceHost.exe    N/A      |\n",
      "|    0   N/A  N/A    100828    C+G   ...01.188\\msedgewebview2.exe    N/A      |\n",
      "|    0   N/A  N/A    115020    C+G   ...8bbwe\\WindowsTerminal.exe    N/A      |\n",
      "|    0   N/A  N/A    141472    C+G   ...ontend\\Docker Desktop.exe    N/A      |\n",
      "|    0   N/A  N/A    141728    C+G   ...cw5n1h2txyewy\\LockApp.exe    N/A      |\n",
      "|    0   N/A  N/A    151992    C+G   ...gs\\PowerToys.Settings.exe    N/A      |\n",
      "|    0   N/A  N/A    153360    C+G   ...ge\\Application\\msedge.exe    N/A      |\n",
      "+-----------------------------------------------------------------------------+\n"
     ]
    }
   ],
   "source": [
    "!nvidia-smi\n"
   ]
  },
  {
   "cell_type": "code",
   "execution_count": 3,
   "id": "699cd368",
   "metadata": {},
   "outputs": [
    {
     "name": "stdout",
     "output_type": "stream",
     "text": [
      "GPU Available:  []\n"
     ]
    }
   ],
   "source": [
    "import tensorflow as tf\n",
    "print(\"GPU Available: \", tf.config.list_physical_devices('GPU'))\n"
   ]
  },
  {
   "cell_type": "code",
   "execution_count": null,
   "id": "b76d1aa2",
   "metadata": {},
   "outputs": [],
   "source": []
  },
  {
   "cell_type": "code",
   "execution_count": null,
   "id": "70266d82",
   "metadata": {},
   "outputs": [],
   "source": []
  },
  {
   "cell_type": "code",
   "execution_count": null,
   "id": "81da4459",
   "metadata": {},
   "outputs": [],
   "source": []
  },
  {
   "cell_type": "code",
   "execution_count": null,
   "id": "dc317c31",
   "metadata": {},
   "outputs": [],
   "source": []
  },
  {
   "cell_type": "code",
   "execution_count": null,
   "id": "a96d8401",
   "metadata": {},
   "outputs": [],
   "source": []
  },
  {
   "cell_type": "code",
   "execution_count": null,
   "id": "648bd004",
   "metadata": {},
   "outputs": [],
   "source": []
  },
  {
   "cell_type": "code",
   "execution_count": null,
   "id": "fbed0c02",
   "metadata": {},
   "outputs": [],
   "source": []
  },
  {
   "cell_type": "code",
   "execution_count": null,
   "id": "dabebb47",
   "metadata": {},
   "outputs": [],
   "source": []
  },
  {
   "cell_type": "code",
   "execution_count": null,
   "id": "b21bdbd0",
   "metadata": {},
   "outputs": [],
   "source": []
  },
  {
   "cell_type": "code",
   "execution_count": null,
   "id": "f1792f15",
   "metadata": {},
   "outputs": [],
   "source": []
  },
  {
   "cell_type": "code",
   "execution_count": null,
   "id": "2af866cf",
   "metadata": {},
   "outputs": [],
   "source": []
  },
  {
   "cell_type": "code",
   "execution_count": null,
   "id": "f626547d",
   "metadata": {},
   "outputs": [],
   "source": []
  },
  {
   "cell_type": "code",
   "execution_count": null,
   "id": "b62e0507",
   "metadata": {},
   "outputs": [],
   "source": []
  },
  {
   "cell_type": "code",
   "execution_count": null,
   "id": "937e6c67",
   "metadata": {},
   "outputs": [],
   "source": []
  },
  {
   "cell_type": "code",
   "execution_count": null,
   "id": "08a9ec55",
   "metadata": {},
   "outputs": [],
   "source": []
  },
  {
   "cell_type": "code",
   "execution_count": null,
   "id": "618b1364",
   "metadata": {},
   "outputs": [],
   "source": []
  },
  {
   "cell_type": "code",
   "execution_count": null,
   "id": "ba7417e6",
   "metadata": {},
   "outputs": [],
   "source": []
  },
  {
   "cell_type": "code",
   "execution_count": null,
   "id": "de341861",
   "metadata": {},
   "outputs": [],
   "source": []
  },
  {
   "cell_type": "code",
   "execution_count": null,
   "id": "693d4d26",
   "metadata": {},
   "outputs": [],
   "source": []
  },
  {
   "cell_type": "code",
   "execution_count": null,
   "id": "2e828187",
   "metadata": {},
   "outputs": [],
   "source": []
  },
  {
   "cell_type": "code",
   "execution_count": null,
   "id": "b4bd0f50",
   "metadata": {},
   "outputs": [],
   "source": []
  },
  {
   "cell_type": "code",
   "execution_count": null,
   "id": "2e5cc926",
   "metadata": {},
   "outputs": [],
   "source": []
  },
  {
   "cell_type": "code",
   "execution_count": null,
   "id": "0828c33a",
   "metadata": {},
   "outputs": [],
   "source": []
  },
  {
   "cell_type": "code",
   "execution_count": null,
   "id": "6b166443",
   "metadata": {},
   "outputs": [],
   "source": []
  },
  {
   "cell_type": "code",
   "execution_count": null,
   "id": "23683866",
   "metadata": {},
   "outputs": [],
   "source": []
  },
  {
   "cell_type": "code",
   "execution_count": null,
   "id": "ada17de5",
   "metadata": {},
   "outputs": [],
   "source": []
  },
  {
   "cell_type": "code",
   "execution_count": null,
   "id": "c83a61b3",
   "metadata": {},
   "outputs": [],
   "source": []
  },
  {
   "cell_type": "code",
   "execution_count": null,
   "id": "b138c173",
   "metadata": {},
   "outputs": [],
   "source": []
  },
  {
   "cell_type": "code",
   "execution_count": null,
   "id": "2d029af3",
   "metadata": {},
   "outputs": [],
   "source": []
  },
  {
   "cell_type": "code",
   "execution_count": null,
   "id": "62999685",
   "metadata": {},
   "outputs": [],
   "source": []
  }
 ],
 "metadata": {
  "kernelspec": {
   "display_name": "Python 3 (ipykernel)",
   "language": "python",
   "name": "python3"
  },
  "language_info": {
   "codemirror_mode": {
    "name": "ipython",
    "version": 3
   },
   "file_extension": ".py",
   "mimetype": "text/x-python",
   "name": "python",
   "nbconvert_exporter": "python",
   "pygments_lexer": "ipython3",
   "version": "3.10.11"
  }
 },
 "nbformat": 4,
 "nbformat_minor": 5
}
