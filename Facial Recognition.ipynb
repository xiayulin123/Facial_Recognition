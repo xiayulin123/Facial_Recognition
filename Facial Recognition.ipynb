{
 "cells": [
  {
   "cell_type": "markdown",
   "id": "0302df6c",
   "metadata": {},
   "source": [
    "# Set Up"
   ]
  },
  {
   "cell_type": "code",
   "execution_count": 1,
   "id": "8b594c32",
   "metadata": {
    "collapsed": true
   },
   "outputs": [
    {
     "name": "stdout",
     "output_type": "stream",
     "text": [
      "Requirement already satisfied: tensorflow==2.8.0 in c:\\users\\xiayu\\appdata\\local\\packages\\pythonsoftwarefoundation.python.3.10_qbz5n2kfra8p0\\localcache\\local-packages\\python310\\site-packages (2.8.0)\n",
      "Requirement already satisfied: tensorflow-gpu==2.8.0 in c:\\users\\xiayu\\appdata\\local\\packages\\pythonsoftwarefoundation.python.3.10_qbz5n2kfra8p0\\localcache\\local-packages\\python310\\site-packages (2.8.0)\n",
      "Requirement already satisfied: opencv-python in c:\\users\\xiayu\\appdata\\local\\packages\\pythonsoftwarefoundation.python.3.10_qbz5n2kfra8p0\\localcache\\local-packages\\python310\\site-packages (4.7.0.72)\n",
      "Requirement already satisfied: matplotlib in c:\\users\\xiayu\\appdata\\local\\packages\\pythonsoftwarefoundation.python.3.10_qbz5n2kfra8p0\\localcache\\local-packages\\python310\\site-packages (3.7.2)\n",
      "Requirement already satisfied: absl-py>=0.4.0 in c:\\users\\xiayu\\appdata\\local\\packages\\pythonsoftwarefoundation.python.3.10_qbz5n2kfra8p0\\localcache\\local-packages\\python310\\site-packages (from tensorflow==2.8.0) (1.4.0)\n",
      "Requirement already satisfied: astunparse>=1.6.0 in c:\\users\\xiayu\\appdata\\local\\packages\\pythonsoftwarefoundation.python.3.10_qbz5n2kfra8p0\\localcache\\local-packages\\python310\\site-packages (from tensorflow==2.8.0) (1.6.3)\n",
      "Requirement already satisfied: flatbuffers>=1.12 in c:\\users\\xiayu\\appdata\\local\\packages\\pythonsoftwarefoundation.python.3.10_qbz5n2kfra8p0\\localcache\\local-packages\\python310\\site-packages (from tensorflow==2.8.0) (23.1.21)\n",
      "Requirement already satisfied: gast>=0.2.1 in c:\\users\\xiayu\\appdata\\local\\packages\\pythonsoftwarefoundation.python.3.10_qbz5n2kfra8p0\\localcache\\local-packages\\python310\\site-packages (from tensorflow==2.8.0) (0.4.0)\n",
      "Requirement already satisfied: google-pasta>=0.1.1 in c:\\users\\xiayu\\appdata\\local\\packages\\pythonsoftwarefoundation.python.3.10_qbz5n2kfra8p0\\localcache\\local-packages\\python310\\site-packages (from tensorflow==2.8.0) (0.2.0)\n",
      "Requirement already satisfied: h5py>=2.9.0 in c:\\users\\xiayu\\appdata\\local\\packages\\pythonsoftwarefoundation.python.3.10_qbz5n2kfra8p0\\localcache\\local-packages\\python310\\site-packages (from tensorflow==2.8.0) (3.8.0)\n",
      "Requirement already satisfied: keras-preprocessing>=1.1.1 in c:\\users\\xiayu\\appdata\\local\\packages\\pythonsoftwarefoundation.python.3.10_qbz5n2kfra8p0\\localcache\\local-packages\\python310\\site-packages (from tensorflow==2.8.0) (1.1.2)\n",
      "Requirement already satisfied: libclang>=9.0.1 in c:\\users\\xiayu\\appdata\\local\\packages\\pythonsoftwarefoundation.python.3.10_qbz5n2kfra8p0\\localcache\\local-packages\\python310\\site-packages (from tensorflow==2.8.0) (15.0.6.1)\n",
      "Requirement already satisfied: numpy>=1.20 in c:\\users\\xiayu\\appdata\\local\\packages\\pythonsoftwarefoundation.python.3.10_qbz5n2kfra8p0\\localcache\\local-packages\\python310\\site-packages (from tensorflow==2.8.0) (1.23.5)\n",
      "Requirement already satisfied: opt-einsum>=2.3.2 in c:\\users\\xiayu\\appdata\\local\\packages\\pythonsoftwarefoundation.python.3.10_qbz5n2kfra8p0\\localcache\\local-packages\\python310\\site-packages (from tensorflow==2.8.0) (3.3.0)\n",
      "Requirement already satisfied: protobuf>=3.9.2 in c:\\users\\xiayu\\appdata\\local\\packages\\pythonsoftwarefoundation.python.3.10_qbz5n2kfra8p0\\localcache\\local-packages\\python310\\site-packages (from tensorflow==2.8.0) (3.20.0)\n",
      "Requirement already satisfied: setuptools in c:\\users\\xiayu\\appdata\\local\\packages\\pythonsoftwarefoundation.python.3.10_qbz5n2kfra8p0\\localcache\\local-packages\\python310\\site-packages (from tensorflow==2.8.0) (68.0.0)\n",
      "Requirement already satisfied: six>=1.12.0 in c:\\users\\xiayu\\appdata\\local\\packages\\pythonsoftwarefoundation.python.3.10_qbz5n2kfra8p0\\localcache\\local-packages\\python310\\site-packages (from tensorflow==2.8.0) (1.16.0)\n",
      "Requirement already satisfied: termcolor>=1.1.0 in c:\\users\\xiayu\\appdata\\local\\packages\\pythonsoftwarefoundation.python.3.10_qbz5n2kfra8p0\\localcache\\local-packages\\python310\\site-packages (from tensorflow==2.8.0) (2.2.0)\n",
      "Requirement already satisfied: typing-extensions>=3.6.6 in c:\\users\\xiayu\\appdata\\local\\packages\\pythonsoftwarefoundation.python.3.10_qbz5n2kfra8p0\\localcache\\local-packages\\python310\\site-packages (from tensorflow==2.8.0) (4.7.1)\n",
      "Requirement already satisfied: wrapt>=1.11.0 in c:\\users\\xiayu\\appdata\\local\\packages\\pythonsoftwarefoundation.python.3.10_qbz5n2kfra8p0\\localcache\\local-packages\\python310\\site-packages (from tensorflow==2.8.0) (1.14.1)\n",
      "Requirement already satisfied: tensorboard<2.9,>=2.8 in c:\\users\\xiayu\\appdata\\local\\packages\\pythonsoftwarefoundation.python.3.10_qbz5n2kfra8p0\\localcache\\local-packages\\python310\\site-packages (from tensorflow==2.8.0) (2.8.0)\n",
      "Requirement already satisfied: tf-estimator-nightly==2.8.0.dev2021122109 in c:\\users\\xiayu\\appdata\\local\\packages\\pythonsoftwarefoundation.python.3.10_qbz5n2kfra8p0\\localcache\\local-packages\\python310\\site-packages (from tensorflow==2.8.0) (2.8.0.dev2021122109)\n",
      "Requirement already satisfied: keras<2.9,>=2.8.0rc0 in c:\\users\\xiayu\\appdata\\local\\packages\\pythonsoftwarefoundation.python.3.10_qbz5n2kfra8p0\\localcache\\local-packages\\python310\\site-packages (from tensorflow==2.8.0) (2.8.0)\n",
      "Requirement already satisfied: tensorflow-io-gcs-filesystem>=0.23.1 in c:\\users\\xiayu\\appdata\\local\\packages\\pythonsoftwarefoundation.python.3.10_qbz5n2kfra8p0\\localcache\\local-packages\\python310\\site-packages (from tensorflow==2.8.0) (0.30.0)\n",
      "Requirement already satisfied: grpcio<2.0,>=1.24.3 in c:\\users\\xiayu\\appdata\\local\\packages\\pythonsoftwarefoundation.python.3.10_qbz5n2kfra8p0\\localcache\\local-packages\\python310\\site-packages (from tensorflow==2.8.0) (1.51.1)\n",
      "Requirement already satisfied: contourpy>=1.0.1 in c:\\users\\xiayu\\appdata\\local\\packages\\pythonsoftwarefoundation.python.3.10_qbz5n2kfra8p0\\localcache\\local-packages\\python310\\site-packages (from matplotlib) (1.1.0)\n",
      "Requirement already satisfied: cycler>=0.10 in c:\\users\\xiayu\\appdata\\local\\packages\\pythonsoftwarefoundation.python.3.10_qbz5n2kfra8p0\\localcache\\local-packages\\python310\\site-packages (from matplotlib) (0.11.0)\n",
      "Requirement already satisfied: fonttools>=4.22.0 in c:\\users\\xiayu\\appdata\\local\\packages\\pythonsoftwarefoundation.python.3.10_qbz5n2kfra8p0\\localcache\\local-packages\\python310\\site-packages (from matplotlib) (4.40.0)\n",
      "Requirement already satisfied: kiwisolver>=1.0.1 in c:\\users\\xiayu\\appdata\\local\\packages\\pythonsoftwarefoundation.python.3.10_qbz5n2kfra8p0\\localcache\\local-packages\\python310\\site-packages (from matplotlib) (1.4.4)\n",
      "Requirement already satisfied: packaging>=20.0 in c:\\users\\xiayu\\appdata\\local\\packages\\pythonsoftwarefoundation.python.3.10_qbz5n2kfra8p0\\localcache\\local-packages\\python310\\site-packages (from matplotlib) (23.0)\n",
      "Requirement already satisfied: pillow>=6.2.0 in c:\\users\\xiayu\\appdata\\local\\packages\\pythonsoftwarefoundation.python.3.10_qbz5n2kfra8p0\\localcache\\local-packages\\python310\\site-packages (from matplotlib) (9.5.0)\n",
      "Requirement already satisfied: pyparsing<3.1,>=2.3.1 in c:\\users\\xiayu\\appdata\\local\\packages\\pythonsoftwarefoundation.python.3.10_qbz5n2kfra8p0\\localcache\\local-packages\\python310\\site-packages (from matplotlib) (3.0.9)\n",
      "Requirement already satisfied: python-dateutil>=2.7 in c:\\users\\xiayu\\appdata\\local\\packages\\pythonsoftwarefoundation.python.3.10_qbz5n2kfra8p0\\localcache\\local-packages\\python310\\site-packages (from matplotlib) (2.8.2)\n",
      "Requirement already satisfied: wheel<1.0,>=0.23.0 in c:\\users\\xiayu\\appdata\\local\\packages\\pythonsoftwarefoundation.python.3.10_qbz5n2kfra8p0\\localcache\\local-packages\\python310\\site-packages (from astunparse>=1.6.0->tensorflow==2.8.0) (0.38.4)\n",
      "Requirement already satisfied: google-auth<3,>=1.6.3 in c:\\users\\xiayu\\appdata\\local\\packages\\pythonsoftwarefoundation.python.3.10_qbz5n2kfra8p0\\localcache\\local-packages\\python310\\site-packages (from tensorboard<2.9,>=2.8->tensorflow==2.8.0) (2.22.0)\n",
      "Requirement already satisfied: google-auth-oauthlib<0.5,>=0.4.1 in c:\\users\\xiayu\\appdata\\local\\packages\\pythonsoftwarefoundation.python.3.10_qbz5n2kfra8p0\\localcache\\local-packages\\python310\\site-packages (from tensorboard<2.9,>=2.8->tensorflow==2.8.0) (0.4.6)\n",
      "Requirement already satisfied: markdown>=2.6.8 in c:\\users\\xiayu\\appdata\\local\\packages\\pythonsoftwarefoundation.python.3.10_qbz5n2kfra8p0\\localcache\\local-packages\\python310\\site-packages (from tensorboard<2.9,>=2.8->tensorflow==2.8.0) (3.4.1)\n",
      "Requirement already satisfied: requests<3,>=2.21.0 in c:\\users\\xiayu\\appdata\\local\\packages\\pythonsoftwarefoundation.python.3.10_qbz5n2kfra8p0\\localcache\\local-packages\\python310\\site-packages (from tensorboard<2.9,>=2.8->tensorflow==2.8.0) (2.31.0)\n",
      "Requirement already satisfied: tensorboard-data-server<0.7.0,>=0.6.0 in c:\\users\\xiayu\\appdata\\local\\packages\\pythonsoftwarefoundation.python.3.10_qbz5n2kfra8p0\\localcache\\local-packages\\python310\\site-packages (from tensorboard<2.9,>=2.8->tensorflow==2.8.0) (0.6.1)\n",
      "Requirement already satisfied: tensorboard-plugin-wit>=1.6.0 in c:\\users\\xiayu\\appdata\\local\\packages\\pythonsoftwarefoundation.python.3.10_qbz5n2kfra8p0\\localcache\\local-packages\\python310\\site-packages (from tensorboard<2.9,>=2.8->tensorflow==2.8.0) (1.8.1)\n",
      "Requirement already satisfied: werkzeug>=0.11.15 in c:\\users\\xiayu\\appdata\\local\\packages\\pythonsoftwarefoundation.python.3.10_qbz5n2kfra8p0\\localcache\\local-packages\\python310\\site-packages (from tensorboard<2.9,>=2.8->tensorflow==2.8.0) (2.2.2)\n",
      "Requirement already satisfied: cachetools<6.0,>=2.0.0 in c:\\users\\xiayu\\appdata\\local\\packages\\pythonsoftwarefoundation.python.3.10_qbz5n2kfra8p0\\localcache\\local-packages\\python310\\site-packages (from google-auth<3,>=1.6.3->tensorboard<2.9,>=2.8->tensorflow==2.8.0) (4.2.4)\n",
      "Requirement already satisfied: pyasn1-modules>=0.2.1 in c:\\users\\xiayu\\appdata\\local\\packages\\pythonsoftwarefoundation.python.3.10_qbz5n2kfra8p0\\localcache\\local-packages\\python310\\site-packages (from google-auth<3,>=1.6.3->tensorboard<2.9,>=2.8->tensorflow==2.8.0) (0.2.8)\n",
      "Requirement already satisfied: rsa<5,>=3.1.4 in c:\\users\\xiayu\\appdata\\local\\packages\\pythonsoftwarefoundation.python.3.10_qbz5n2kfra8p0\\localcache\\local-packages\\python310\\site-packages (from google-auth<3,>=1.6.3->tensorboard<2.9,>=2.8->tensorflow==2.8.0) (4.9)\n",
      "Requirement already satisfied: urllib3<2.0 in c:\\users\\xiayu\\appdata\\local\\packages\\pythonsoftwarefoundation.python.3.10_qbz5n2kfra8p0\\localcache\\local-packages\\python310\\site-packages (from google-auth<3,>=1.6.3->tensorboard<2.9,>=2.8->tensorflow==2.8.0) (1.26.13)\n",
      "Requirement already satisfied: requests-oauthlib>=0.7.0 in c:\\users\\xiayu\\appdata\\local\\packages\\pythonsoftwarefoundation.python.3.10_qbz5n2kfra8p0\\localcache\\local-packages\\python310\\site-packages (from google-auth-oauthlib<0.5,>=0.4.1->tensorboard<2.9,>=2.8->tensorflow==2.8.0) (1.3.1)\n",
      "Requirement already satisfied: charset-normalizer<4,>=2 in c:\\users\\xiayu\\appdata\\local\\packages\\pythonsoftwarefoundation.python.3.10_qbz5n2kfra8p0\\localcache\\local-packages\\python310\\site-packages (from requests<3,>=2.21.0->tensorboard<2.9,>=2.8->tensorflow==2.8.0) (2.1.1)\n",
      "Requirement already satisfied: idna<4,>=2.5 in c:\\users\\xiayu\\appdata\\local\\packages\\pythonsoftwarefoundation.python.3.10_qbz5n2kfra8p0\\localcache\\local-packages\\python310\\site-packages (from requests<3,>=2.21.0->tensorboard<2.9,>=2.8->tensorflow==2.8.0) (3.4)\n",
      "Requirement already satisfied: certifi>=2017.4.17 in c:\\users\\xiayu\\appdata\\local\\packages\\pythonsoftwarefoundation.python.3.10_qbz5n2kfra8p0\\localcache\\local-packages\\python310\\site-packages (from requests<3,>=2.21.0->tensorboard<2.9,>=2.8->tensorflow==2.8.0) (2022.12.7)\n",
      "Requirement already satisfied: MarkupSafe>=2.1.1 in c:\\users\\xiayu\\appdata\\local\\packages\\pythonsoftwarefoundation.python.3.10_qbz5n2kfra8p0\\localcache\\local-packages\\python310\\site-packages (from werkzeug>=0.11.15->tensorboard<2.9,>=2.8->tensorflow==2.8.0) (2.1.2)\n",
      "Requirement already satisfied: pyasn1<0.5.0,>=0.4.6 in c:\\users\\xiayu\\appdata\\local\\packages\\pythonsoftwarefoundation.python.3.10_qbz5n2kfra8p0\\localcache\\local-packages\\python310\\site-packages (from pyasn1-modules>=0.2.1->google-auth<3,>=1.6.3->tensorboard<2.9,>=2.8->tensorflow==2.8.0) (0.4.8)\n",
      "Requirement already satisfied: oauthlib>=3.0.0 in c:\\users\\xiayu\\appdata\\local\\packages\\pythonsoftwarefoundation.python.3.10_qbz5n2kfra8p0\\localcache\\local-packages\\python310\\site-packages (from requests-oauthlib>=0.7.0->google-auth-oauthlib<0.5,>=0.4.1->tensorboard<2.9,>=2.8->tensorflow==2.8.0) (3.2.2)\n"
     ]
    },
    {
     "name": "stderr",
     "output_type": "stream",
     "text": [
      "WARNING: Ignoring invalid distribution -rotobuf (c:\\users\\xiayu\\appdata\\local\\packages\\pythonsoftwarefoundation.python.3.10_qbz5n2kfra8p0\\localcache\\local-packages\\python310\\site-packages)\n",
      "WARNING: Ignoring invalid distribution -rotobuf (c:\\users\\xiayu\\appdata\\local\\packages\\pythonsoftwarefoundation.python.3.10_qbz5n2kfra8p0\\localcache\\local-packages\\python310\\site-packages)\n",
      "\n",
      "[notice] A new release of pip is available: 23.2 -> 23.2.1\n",
      "[notice] To update, run: C:\\Users\\xiayu\\AppData\\Local\\Microsoft\\WindowsApps\\PythonSoftwareFoundation.Python.3.10_qbz5n2kfra8p0\\python.exe -m pip install --upgrade pip\n"
     ]
    }
   ],
   "source": [
    "!pip install tensorflow==2.8.0 tensorflow-gpu==2.8.0 opencv-python matplotlib"
   ]
  },
  {
   "cell_type": "code",
   "execution_count": 2,
   "id": "6d7444eb",
   "metadata": {},
   "outputs": [],
   "source": [
    "# !python -m pip install tensorflow"
   ]
  },
  {
   "cell_type": "code",
   "execution_count": 3,
   "id": "a3866415",
   "metadata": {
    "scrolled": false
   },
   "outputs": [],
   "source": [
    "#!pip install tensorflow-gpu==2.12.0"
   ]
  },
  {
   "cell_type": "code",
   "execution_count": 4,
   "id": "737e1c18",
   "metadata": {},
   "outputs": [],
   "source": [
    "#!pip install protobuf==3.20.0"
   ]
  },
  {
   "cell_type": "code",
   "execution_count": 5,
   "id": "62b0b247",
   "metadata": {},
   "outputs": [],
   "source": [
    "#print(\"TensorFlow Version:\", tf.__version__)\n"
   ]
  },
  {
   "cell_type": "code",
   "execution_count": 6,
   "id": "9d503880",
   "metadata": {},
   "outputs": [],
   "source": [
    "# import tensorflow as tf\n",
    "\n",
    "# print(\"TensorFlow-GPU version:\", tf.__version__)\n"
   ]
  },
  {
   "cell_type": "code",
   "execution_count": 7,
   "id": "afc80d62",
   "metadata": {},
   "outputs": [],
   "source": [
    "import cv2\n",
    "import os\n",
    "import random\n",
    "import numpy as np\n",
    "from matplotlib import pyplot as plt"
   ]
  },
  {
   "cell_type": "code",
   "execution_count": 8,
   "id": "0f64fece",
   "metadata": {},
   "outputs": [],
   "source": [
    "plt.imshow??"
   ]
  },
  {
   "cell_type": "code",
   "execution_count": 9,
   "id": "c3c718ff",
   "metadata": {},
   "outputs": [],
   "source": [
    "#functional api import \n",
    "from tensorflow.keras.models import Model\n",
    "from tensorflow.keras.layers import Layer, Conv2D, Dense, MaxPooling2D, Input, Flatten\n",
    "import tensorflow as tf"
   ]
  },
  {
   "cell_type": "markdown",
   "id": "405eaf57",
   "metadata": {},
   "source": [
    "# Folder Structures"
   ]
  },
  {
   "cell_type": "code",
   "execution_count": 10,
   "id": "a00ccc24",
   "metadata": {},
   "outputs": [],
   "source": [
    "POS_PATH = os.path.join('data', 'positive')\n",
    "NEG_PATH = os.path.join('data', 'negative')\n",
    "ANC_PATH = os.path.join('data', 'anchor')"
   ]
  },
  {
   "cell_type": "code",
   "execution_count": 11,
   "id": "5d39f0f1",
   "metadata": {},
   "outputs": [],
   "source": [
    "os.makedirs(POS_PATH, exist_ok = True)\n",
    "os.makedirs(NEG_PATH, exist_ok = True)\n",
    "os.makedirs(ANC_PATH, exist_ok = True)"
   ]
  },
  {
   "cell_type": "markdown",
   "id": "5b10230c",
   "metadata": {},
   "source": [
    "# Collect positive and anchors"
   ]
  },
  {
   "cell_type": "code",
   "execution_count": 12,
   "id": "1c8a5800",
   "metadata": {},
   "outputs": [],
   "source": [
    "#Uncompress the GZ file\n",
    "# !tar -xf lfw.tgz"
   ]
  },
  {
   "cell_type": "markdown",
   "id": "36b0f884",
   "metadata": {},
   "source": [
    "# Move the Images to data/negative"
   ]
  },
  {
   "cell_type": "code",
   "execution_count": 13,
   "id": "a5dbf08a",
   "metadata": {},
   "outputs": [],
   "source": [
    "# for directory in os.listdir('lfw'):\n",
    "#     directory_path = os.path.join('lfw', directory)\n",
    "#     for file in os.listdir(directory_path):\n",
    "#         EX_PATH = os.path.join('lfw', directory, file)\n",
    "#         NEW_PATH = os.path.join(NEG_PATH, file)\n",
    "#         os.replace(EX_PATH, NEW_PATH)"
   ]
  },
  {
   "cell_type": "markdown",
   "id": "4bddbd92",
   "metadata": {},
   "source": [
    "# Collect Positive and Anchor Classes"
   ]
  },
  {
   "cell_type": "code",
   "execution_count": 14,
   "id": "7bb67767",
   "metadata": {},
   "outputs": [],
   "source": [
    "#get unique id\n",
    "import uuid"
   ]
  },
  {
   "cell_type": "code",
   "execution_count": 15,
   "id": "0ce002e1",
   "metadata": {},
   "outputs": [
    {
     "data": {
      "text/plain": [
       "UUID('4dab60c0-3230-11ee-9be8-c4bde5784b6d')"
      ]
     },
     "execution_count": 15,
     "metadata": {},
     "output_type": "execute_result"
    }
   ],
   "source": [
    "uuid.uuid1()"
   ]
  },
  {
   "cell_type": "code",
   "execution_count": 16,
   "id": "a013299b",
   "metadata": {},
   "outputs": [],
   "source": [
    "cap = cv2.VideoCapture(0)\n",
    "while cap.isOpened():\n",
    "    ret, frame = cap.read()\n",
    "    #resize frame\n",
    "    frame = frame[100:120+250, 200:200+250, :]\n",
    "    \n",
    "    #collect anchors\n",
    "    if cv2.waitKey(1) & 0XFF == ord('a'):\n",
    "        #unique name\n",
    "        imgname = os.path.join(ANC_PATH, '{}.jpg'.format(uuid.uuid1()))\n",
    "        #write img\n",
    "        cv2.imwrite(imgname, frame)\n",
    "        \n",
    "        \n",
    "    #collect positives\n",
    "    if cv2.waitKey(1) & 0XFF == ord('p'):\n",
    "         imgname = os.path.join(POS_PATH, '{}.jpg'.format(uuid.uuid1()))\n",
    "         #write img\n",
    "         cv2.imwrite(imgname, frame)\n",
    "\n",
    "    cv2.imshow(\"Image Collection\", frame)\n",
    "    \n",
    "    if cv2.waitKey(1) & 0XFF == ord('q'):\n",
    "        break\n",
    "        \n",
    "#release webcam and close image show frame\n",
    "cap.release()\n",
    "cv2.destroyAllWindows()"
   ]
  },
  {
   "cell_type": "code",
   "execution_count": 17,
   "id": "59155c8f",
   "metadata": {},
   "outputs": [
    {
     "data": {
      "text/plain": [
       "(270, 250, 3)"
      ]
     },
     "execution_count": 17,
     "metadata": {},
     "output_type": "execute_result"
    }
   ],
   "source": [
    "frame.shape"
   ]
  },
  {
   "cell_type": "code",
   "execution_count": 18,
   "id": "54e349d1",
   "metadata": {
    "collapsed": true
   },
   "outputs": [
    {
     "data": {
      "text/plain": [
       "<matplotlib.image.AxesImage at 0x1c959fbcf10>"
      ]
     },
     "execution_count": 18,
     "metadata": {},
     "output_type": "execute_result"
    },
    {
     "data": {
      "image/png": "[encoded data removed]",
      "text/plain": [
       "<Figure size 640x480 with 1 Axes>"
      ]
     },
     "metadata": {},
     "output_type": "display_data"
    }
   ],
   "source": [
    "plt.imshow(frame[100:120+250, 200:200+250, :])"
   ]
  },
  {
   "cell_type": "markdown",
   "id": "d5a3d0cc",
   "metadata": {},
   "source": [
    "# Get Image Directories"
   ]
  },
  {
   "cell_type": "code",
   "execution_count": 19,
   "id": "894c65e7",
   "metadata": {},
   "outputs": [],
   "source": [
    "anchor = tf.data.Dataset.list_files(ANC_PATH + '\\*.jpg').take(300)\n",
    "positive = tf.data.Dataset.list_files(POS_PATH + '\\*.jpg').take(300)\n",
    "negative = tf.data.Dataset.list_files(NEG_PATH + '\\*.jpg').take(300)"
   ]
  },
  {
   "cell_type": "code",
   "execution_count": 20,
   "id": "2932acfb",
   "metadata": {},
   "outputs": [],
   "source": [
    "dir_test = anchor.as_numpy_iterator()"
   ]
  },
  {
   "cell_type": "code",
   "execution_count": 21,
   "id": "6fdf88f5",
   "metadata": {},
   "outputs": [
    {
     "data": {
      "text/plain": [
       "b'data\\\\anchor\\\\2d273372-3009-11ee-97bd-c4bde5784b6d.jpg'"
      ]
     },
     "execution_count": 21,
     "metadata": {},
     "output_type": "execute_result"
    }
   ],
   "source": [
    "dir_test.next()"
   ]
  },
  {
   "cell_type": "markdown",
   "id": "78ed528e",
   "metadata": {},
   "source": [
    "# Preprocessing"
   ]
  },
  {
   "cell_type": "code",
   "execution_count": 22,
   "id": "ba886f5b",
   "metadata": {},
   "outputs": [],
   "source": [
    "def preprocess(file_path):\n",
    "    byte_img = tf.io.read_file(file_path)\n",
    "    img = tf.io.decode_jpeg(byte_img)\n",
    "    #Preprocessing resizing the image to be 100X100X3\n",
    "    img = tf.image.resize(img, (100,100))\n",
    "    #scale image to be between 0 and 1\n",
    "    img = img /255.0\n",
    "    return img"
   ]
  },
  {
   "cell_type": "code",
   "execution_count": 23,
   "id": "5fe7dc65",
   "metadata": {},
   "outputs": [],
   "source": [
    "img = preprocess('data\\\\anchor\\\\ffee009d-3008-11ee-9149-c4bde5784b6d.jpg')"
   ]
  },
  {
   "cell_type": "code",
   "execution_count": 24,
   "id": "e34964a6",
   "metadata": {},
   "outputs": [
    {
     "data": {
      "text/plain": [
       "0.8734313"
      ]
     },
     "execution_count": 24,
     "metadata": {},
     "output_type": "execute_result"
    }
   ],
   "source": [
    "img.numpy().max()"
   ]
  },
  {
   "cell_type": "code",
   "execution_count": 25,
   "id": "05650a83",
   "metadata": {},
   "outputs": [
    {
     "data": {
      "text/plain": [
       "<matplotlib.image.AxesImage at 0x1c9670f7cd0>"
      ]
     },
     "execution_count": 25,
     "metadata": {},
     "output_type": "execute_result"
    },
    {
     "data": {
      "image/png": "[encoded data removed]",
      "text/plain": [
       "<Figure size 640x480 with 1 Axes>"
      ]
     },
     "metadata": {},
     "output_type": "display_data"
    }
   ],
   "source": [
    "plt.imshow(img)"
   ]
  },
  {
   "cell_type": "markdown",
   "id": "24035edd",
   "metadata": {},
   "source": [
    "# Create Labelled Dataset"
   ]
  },
  {
   "cell_type": "code",
   "execution_count": 26,
   "id": "01a504ab",
   "metadata": {},
   "outputs": [],
   "source": [
    "# (anchor, positive) => 1,1,1,1\n",
    "# (anchor, negative) => 0,0,0,0"
   ]
  },
  {
   "cell_type": "code",
   "execution_count": 27,
   "id": "962632df",
   "metadata": {},
   "outputs": [],
   "source": [
    "positives = tf.data.Dataset.zip((anchor,positive, tf.data.Dataset.from_tensor_slices(tf.ones(len(anchor)))))\n",
    "negatives = tf.data.Dataset.zip((anchor,negative, tf.data.Dataset.from_tensor_slices(tf.zeros(len(anchor)))))\n",
    "data = positives.concatenate(negatives)"
   ]
  },
  {
   "cell_type": "code",
   "execution_count": 28,
   "id": "7fdee7c7",
   "metadata": {
    "collapsed": true
   },
   "outputs": [
    {
     "data": {
      "text/plain": [
       "<tf.Tensor: shape=(300,), dtype=float32, numpy=\n",
       "array([1., 1., 1., 1., 1., 1., 1., 1., 1., 1., 1., 1., 1., 1., 1., 1., 1.,\n",
       "       1., 1., 1., 1., 1., 1., 1., 1., 1., 1., 1., 1., 1., 1., 1., 1., 1.,\n",
       "       1., 1., 1., 1., 1., 1., 1., 1., 1., 1., 1., 1., 1., 1., 1., 1., 1.,\n",
       "       1., 1., 1., 1., 1., 1., 1., 1., 1., 1., 1., 1., 1., 1., 1., 1., 1.,\n",
       "       1., 1., 1., 1., 1., 1., 1., 1., 1., 1., 1., 1., 1., 1., 1., 1., 1.,\n",
       "       1., 1., 1., 1., 1., 1., 1., 1., 1., 1., 1., 1., 1., 1., 1., 1., 1.,\n",
       "       1., 1., 1., 1., 1., 1., 1., 1., 1., 1., 1., 1., 1., 1., 1., 1., 1.,\n",
       "       1., 1., 1., 1., 1., 1., 1., 1., 1., 1., 1., 1., 1., 1., 1., 1., 1.,\n",
       "       1., 1., 1., 1., 1., 1., 1., 1., 1., 1., 1., 1., 1., 1., 1., 1., 1.,\n",
       "       1., 1., 1., 1., 1., 1., 1., 1., 1., 1., 1., 1., 1., 1., 1., 1., 1.,\n",
       "       1., 1., 1., 1., 1., 1., 1., 1., 1., 1., 1., 1., 1., 1., 1., 1., 1.,\n",
       "       1., 1., 1., 1., 1., 1., 1., 1., 1., 1., 1., 1., 1., 1., 1., 1., 1.,\n",
       "       1., 1., 1., 1., 1., 1., 1., 1., 1., 1., 1., 1., 1., 1., 1., 1., 1.,\n",
       "       1., 1., 1., 1., 1., 1., 1., 1., 1., 1., 1., 1., 1., 1., 1., 1., 1.,\n",
       "       1., 1., 1., 1., 1., 1., 1., 1., 1., 1., 1., 1., 1., 1., 1., 1., 1.,\n",
       "       1., 1., 1., 1., 1., 1., 1., 1., 1., 1., 1., 1., 1., 1., 1., 1., 1.,\n",
       "       1., 1., 1., 1., 1., 1., 1., 1., 1., 1., 1., 1., 1., 1., 1., 1., 1.,\n",
       "       1., 1., 1., 1., 1., 1., 1., 1., 1., 1., 1.], dtype=float32)>"
      ]
     },
     "execution_count": 28,
     "metadata": {},
     "output_type": "execute_result"
    }
   ],
   "source": [
    "tf.ones(len(anchor))"
   ]
  },
  {
   "cell_type": "code",
   "execution_count": 29,
   "id": "e95d1d6b",
   "metadata": {},
   "outputs": [],
   "source": [
    "example = data.as_numpy_iterator()"
   ]
  },
  {
   "cell_type": "code",
   "execution_count": 30,
   "id": "bec44580",
   "metadata": {},
   "outputs": [],
   "source": [
    "sample = example.next()"
   ]
  },
  {
   "cell_type": "markdown",
   "id": "53da49da",
   "metadata": {},
   "source": [
    "# Build Train and Test Partition"
   ]
  },
  {
   "cell_type": "code",
   "execution_count": 31,
   "id": "9852cc63",
   "metadata": {},
   "outputs": [],
   "source": [
    "def preprocess_twin(input_img, validation_img, label):\n",
    "    return(preprocess(input_img), preprocess(validation_img), label)"
   ]
  },
  {
   "cell_type": "code",
   "execution_count": 32,
   "id": "139181c7",
   "metadata": {
    "scrolled": true
   },
   "outputs": [],
   "source": [
    "res = preprocess_twin(*sample)"
   ]
  },
  {
   "cell_type": "code",
   "execution_count": 33,
   "id": "66a2bdea",
   "metadata": {
    "collapsed": true
   },
   "outputs": [
    {
     "data": {
      "text/plain": [
       "<matplotlib.image.AxesImage at 0x1c96fc84c40>"
      ]
     },
     "execution_count": 33,
     "metadata": {},
     "output_type": "execute_result"
    },
    {
     "data": {
      "image/png": "[encoded data removed]",
      "text/plain": [
       "<Figure size 640x480 with 1 Axes>"
      ]
     },
     "metadata": {},
     "output_type": "display_data"
    }
   ],
   "source": [
    "plt.imshow(res[0])"
   ]
  },
  {
   "cell_type": "code",
   "execution_count": 34,
   "id": "e4529e91",
   "metadata": {
    "collapsed": true
   },
   "outputs": [
    {
     "data": {
      "text/plain": [
       "<matplotlib.image.AxesImage at 0x1c96fd0caf0>"
      ]
     },
     "execution_count": 34,
     "metadata": {},
     "output_type": "execute_result"
    },
    {
     "data": {
      "image/png": "[encoded data removed]",
      "text/plain": [
       "<Figure size 640x480 with 1 Axes>"
      ]
     },
     "metadata": {},
     "output_type": "display_data"
    }
   ],
   "source": [
    "plt.imshow(res[1])"
   ]
  },
  {
   "cell_type": "code",
   "execution_count": 35,
   "id": "c8aa4e28",
   "metadata": {},
   "outputs": [
    {
     "data": {
      "text/plain": [
       "1.0"
      ]
     },
     "execution_count": 35,
     "metadata": {},
     "output_type": "execute_result"
    }
   ],
   "source": [
    "res[2]"
   ]
  },
  {
   "cell_type": "code",
   "execution_count": 36,
   "id": "c699bf5c",
   "metadata": {},
   "outputs": [],
   "source": [
    "#Build dataLoader Pipeline\n",
    "data = data.map(preprocess_twin)\n",
    "data = data.cache()\n",
    "data = data.shuffle(buffer_size=1024)"
   ]
  },
  {
   "cell_type": "code",
   "execution_count": 37,
   "id": "d7024931",
   "metadata": {},
   "outputs": [],
   "source": [
    "samples = data.as_numpy_iterator()"
   ]
  },
  {
   "cell_type": "code",
   "execution_count": 38,
   "id": "0a4b8555",
   "metadata": {
    "scrolled": true
   },
   "outputs": [],
   "source": [
    "sam = samples.next()"
   ]
  },
  {
   "cell_type": "code",
   "execution_count": 39,
   "id": "1b8d2598",
   "metadata": {},
   "outputs": [
    {
     "data": {
      "text/plain": [
       "3"
      ]
     },
     "execution_count": 39,
     "metadata": {},
     "output_type": "execute_result"
    }
   ],
   "source": [
    "len(sam)"
   ]
  },
  {
   "cell_type": "code",
   "execution_count": 40,
   "id": "0dedc35c",
   "metadata": {
    "collapsed": true
   },
   "outputs": [
    {
     "data": {
      "text/plain": [
       "<matplotlib.image.AxesImage at 0x1c96fd8df00>"
      ]
     },
     "execution_count": 40,
     "metadata": {},
     "output_type": "execute_result"
    },
    {
     "data": {
      "image/png": "[encoded data removed]",
      "text/plain": [
       "<Figure size 640x480 with 1 Axes>"
      ]
     },
     "metadata": {},
     "output_type": "display_data"
    }
   ],
   "source": [
    "plt.imshow(sam[0])"
   ]
  },
  {
   "cell_type": "code",
   "execution_count": 41,
   "id": "10ba9b97",
   "metadata": {
    "collapsed": true
   },
   "outputs": [
    {
     "data": {
      "text/plain": [
       "<matplotlib.image.AxesImage at 0x1c97006b430>"
      ]
     },
     "execution_count": 41,
     "metadata": {},
     "output_type": "execute_result"
    },
    {
     "data": {
      "image/png": "[encoded data removed]",
      "text/plain": [
       "<Figure size 640x480 with 1 Axes>"
      ]
     },
     "metadata": {},
     "output_type": "display_data"
    }
   ],
   "source": [
    "plt.imshow(sam[1])"
   ]
  },
  {
   "cell_type": "code",
   "execution_count": 42,
   "id": "4994f3f1",
   "metadata": {},
   "outputs": [
    {
     "data": {
      "text/plain": [
       "1.0"
      ]
     },
     "execution_count": 42,
     "metadata": {},
     "output_type": "execute_result"
    }
   ],
   "source": [
    "sam[2]"
   ]
  },
  {
   "cell_type": "code",
   "execution_count": 43,
   "id": "c5bc66ff",
   "metadata": {},
   "outputs": [],
   "source": [
    "#Training Partition\n",
    "train_data = data.take(round(len(data)* .7))\n",
    "train_data = train_data.batch(16)\n",
    "train_data = train_data.prefetch(8)"
   ]
  },
  {
   "cell_type": "code",
   "execution_count": 44,
   "id": "66691fec",
   "metadata": {
    "collapsed": true
   },
   "outputs": [
    {
     "data": {
      "text/plain": [
       "<ShuffleDataset element_spec=(TensorSpec(shape=(100, 100, None), dtype=tf.float32, name=None), TensorSpec(shape=(100, 100, None), dtype=tf.float32, name=None), TensorSpec(shape=(), dtype=tf.float32, name=None))>"
      ]
     },
     "execution_count": 44,
     "metadata": {},
     "output_type": "execute_result"
    }
   ],
   "source": [
    "data"
   ]
  },
  {
   "cell_type": "code",
   "execution_count": 45,
   "id": "ecff256c",
   "metadata": {},
   "outputs": [],
   "source": [
    "samples = train_data.as_numpy_iterator()"
   ]
  },
  {
   "cell_type": "code",
   "execution_count": 46,
   "id": "ef1acd9e",
   "metadata": {},
   "outputs": [],
   "source": [
    "sample = samples.next()"
   ]
  },
  {
   "cell_type": "code",
   "execution_count": 47,
   "id": "88189581",
   "metadata": {
    "collapsed": true
   },
   "outputs": [
    {
     "data": {
      "text/plain": [
       "array([[[[0.7739706 , 0.7151471 , 0.5857353 ],\n",
       "         [0.76862746, 0.7107843 , 0.57941175],\n",
       "         [0.76612747, 0.7112255 , 0.5739706 ],\n",
       "         ...,\n",
       "         [0.76862746, 0.7254902 , 0.6156863 ],\n",
       "         [0.77156866, 0.72843134, 0.6186274 ],\n",
       "         [0.76921564, 0.7254902 , 0.6168628 ]],\n",
       "\n",
       "        [[0.76632357, 0.7148039 , 0.59093136],\n",
       "         [0.7681863 , 0.7172059 , 0.58818626],\n",
       "         [0.7617647 , 0.7107843 , 0.577451  ],\n",
       "         ...,\n",
       "         [0.7764706 , 0.7237255 , 0.6035294 ],\n",
       "         [0.7764706 , 0.7237255 , 0.6035294 ],\n",
       "         [0.77254903, 0.7198039 , 0.5996078 ]],\n",
       "\n",
       "        [[0.76862746, 0.7137255 , 0.6       ],\n",
       "         [0.76691175, 0.7129902 , 0.59632355],\n",
       "         [0.7647059 , 0.7137255 , 0.5882353 ],\n",
       "         ...,\n",
       "         [0.7732843 , 0.71936274, 0.60269606],\n",
       "         [0.7732843 , 0.7223039 , 0.59681374],\n",
       "         [0.77254903, 0.72156864, 0.59607846]],\n",
       "\n",
       "        ...,\n",
       "\n",
       "        [[0.57034314, 0.5382353 , 0.49460784],\n",
       "         [0.5889706 , 0.5593137 , 0.5026961 ],\n",
       "         [0.61789215, 0.5875    , 0.5122549 ],\n",
       "         ...,\n",
       "         [0.4745098 , 0.47843137, 0.44705883],\n",
       "         [0.47377452, 0.48063725, 0.4404412 ],\n",
       "         [0.49093136, 0.49485293, 0.46348038]],\n",
       "\n",
       "        [[0.5525489 , 0.53039217, 0.49725485],\n",
       "         [0.56102926, 0.5374509 , 0.4954901 ],\n",
       "         [0.5815194 , 0.5526469 , 0.4963725 ],\n",
       "         ...,\n",
       "         [0.47745097, 0.48137254, 0.4596079 ],\n",
       "         [0.4830393 , 0.48431373, 0.45779425],\n",
       "         [0.51039225, 0.50906867, 0.48058844]],\n",
       "\n",
       "        [[0.5363726 , 0.5246079 , 0.4971569 ],\n",
       "         [0.54901963, 0.53039217, 0.49411765],\n",
       "         [0.56220585, 0.5385294 , 0.4917647 ],\n",
       "         ...,\n",
       "         [0.4745098 , 0.4745098 , 0.46666667],\n",
       "         [0.479951  , 0.4828922 , 0.4662255 ],\n",
       "         [0.5062745 , 0.50235295, 0.48666668]]],\n",
       "\n",
       "\n",
       "       [[[0.7647059 , 0.7137255 , 0.5882353 ],\n",
       "         [0.7652941 , 0.7143137 , 0.58098036],\n",
       "         [0.76485294, 0.71387255, 0.5805392 ],\n",
       "         ...,\n",
       "         [0.7705882 , 0.7245098 , 0.6156863 ],\n",
       "         [0.7770588 , 0.7221568 , 0.61039215],\n",
       "         [0.7770588 , 0.7221568 , 0.60843134]],\n",
       "\n",
       "        [[0.7651471 , 0.7141667 , 0.5886765 ],\n",
       "         [0.7629412 , 0.7119608 , 0.5845098 ],\n",
       "         [0.7647059 , 0.7137255 , 0.5803922 ],\n",
       "         ...,\n",
       "         [0.7764706 , 0.72156864, 0.6137255 ],\n",
       "         [0.7763235 , 0.7198039 , 0.60607845],\n",
       "         [0.77686274, 0.7198039 , 0.60607845]],\n",
       "\n",
       "        [[0.7647059 , 0.7137255 , 0.5882353 ],\n",
       "         [0.7676471 , 0.71666664, 0.59117645],\n",
       "         [0.7654412 , 0.7144608 , 0.5830882 ],\n",
       "         ...,\n",
       "         [0.78137255, 0.7254902 , 0.6117647 ],\n",
       "         [0.785049  , 0.7262255 , 0.6066176 ],\n",
       "         [0.7872549 , 0.72843134, 0.6068627 ]],\n",
       "\n",
       "        ...,\n",
       "\n",
       "        [[0.5833333 , 0.5686275 , 0.51715684],\n",
       "         [0.6372549 , 0.6139706 , 0.55490196],\n",
       "         [0.7012255 , 0.6757353 , 0.60318625],\n",
       "         ...,\n",
       "         [0.47745097, 0.48431373, 0.44411764],\n",
       "         [0.4745098 , 0.48137254, 0.44117647],\n",
       "         [0.4745098 , 0.48137254, 0.44117647]],\n",
       "\n",
       "        [[0.55181366, 0.54004896, 0.50563717],\n",
       "         [0.5671076 , 0.5529901 , 0.50799006],\n",
       "         [0.5902938 , 0.5644116 , 0.5120096 ],\n",
       "         ...,\n",
       "         [0.47745097, 0.48485294, 0.43980402],\n",
       "         [0.4745098 , 0.48102936, 0.4407844 ],\n",
       "         [0.47627455, 0.48279414, 0.44254917]],\n",
       "\n",
       "        [[0.53622556, 0.53622556, 0.504853  ],\n",
       "         [0.5456373 , 0.5328922 , 0.49848038],\n",
       "         [0.554853  , 0.53916675, 0.49632356],\n",
       "         ...,\n",
       "         [0.47534314, 0.48514706, 0.4586765 ],\n",
       "         [0.47843137, 0.48235294, 0.45882353],\n",
       "         [0.47901958, 0.48294115, 0.45941174]]],\n",
       "\n",
       "\n",
       "       [[[0.7562745 , 0.70137256, 0.5994118 ],\n",
       "         [0.7529412 , 0.69803923, 0.59607846],\n",
       "         [0.7503922 , 0.70137256, 0.5994118 ],\n",
       "         ...,\n",
       "         [0.76862746, 0.7137255 , 0.6       ],\n",
       "         [0.76862746, 0.7137255 , 0.6       ],\n",
       "         [0.7731372 , 0.71823525, 0.6045098 ]],\n",
       "\n",
       "        [[0.7486274 , 0.7001961 , 0.5921569 ],\n",
       "         [0.749902  , 0.7027941 , 0.59431374],\n",
       "         [0.74563724, 0.6995588 , 0.59563726],\n",
       "         ...,\n",
       "         [0.7647059 , 0.71941173, 0.6139216 ],\n",
       "         [0.7613235 , 0.7160294 , 0.6105392 ],\n",
       "         [0.7647059 , 0.72156864, 0.61088234]],\n",
       "\n",
       "        [[0.7490196 , 0.7058824 , 0.5882353 ],\n",
       "         [0.7529412 , 0.70980394, 0.59411764],\n",
       "         [0.7470588 , 0.70980394, 0.59705883],\n",
       "         ...,\n",
       "         [0.7610294 , 0.72181374, 0.6159314 ],\n",
       "         [0.7617647 , 0.722549  , 0.6166667 ],\n",
       "         [0.7607843 , 0.72156864, 0.6156863 ]],\n",
       "\n",
       "        ...,\n",
       "\n",
       "        [[0.11053921, 0.11053921, 0.1120098 ],\n",
       "         [0.10784314, 0.10784314, 0.10784314],\n",
       "         [0.09191176, 0.09191176, 0.08995098],\n",
       "         ...,\n",
       "         [0.3389706 , 0.2840686 , 0.18039216],\n",
       "         [0.34215686, 0.28137255, 0.17843138],\n",
       "         [0.33431372, 0.27156863, 0.16960785]],\n",
       "\n",
       "        [[0.12019617, 0.12411774, 0.13980402],\n",
       "         [0.11083344, 0.11607858, 0.13024525],\n",
       "         [0.09872556, 0.1039707 , 0.11137264],\n",
       "         ...,\n",
       "         [0.34421566, 0.28058818, 0.18299016],\n",
       "         [0.34553924, 0.27897057, 0.17843138],\n",
       "         [0.324951  , 0.25828433, 0.15632354]],\n",
       "\n",
       "        [[0.13098037, 0.13098037, 0.13882351],\n",
       "         [0.12651956, 0.12955882, 0.14568625],\n",
       "         [0.11235292, 0.11333331, 0.12313723],\n",
       "         ...,\n",
       "         [0.34117648, 0.2784314 , 0.17941177],\n",
       "         [0.34509805, 0.27941176, 0.17745098],\n",
       "         [0.32843137, 0.2617647 , 0.15980393]]],\n",
       "\n",
       "\n",
       "       ...,\n",
       "\n",
       "\n",
       "       [[[0.7609314 , 0.7060294 , 0.59230393],\n",
       "         [0.7570098 , 0.70210785, 0.5903432 ],\n",
       "         [0.7570098 , 0.70210785, 0.5962255 ],\n",
       "         ...,\n",
       "         [0.7584314 , 0.7152941 , 0.60549015],\n",
       "         [0.7647059 , 0.72156864, 0.6117647 ],\n",
       "         [0.7647059 , 0.72156864, 0.6039216 ]],\n",
       "\n",
       "        [[0.752549  , 0.70411766, 0.592549  ],\n",
       "         [0.7512255 , 0.7022549 , 0.5952941 ],\n",
       "         [0.752549  , 0.7019608 , 0.5982353 ],\n",
       "         ...,\n",
       "         [0.7594608 , 0.71632355, 0.60651964],\n",
       "         [0.7637255 , 0.7205882 , 0.6107843 ],\n",
       "         [0.7607843 , 0.7176471 , 0.6       ]],\n",
       "\n",
       "        [[0.7490196 , 0.7019608 , 0.6       ],\n",
       "         [0.7490196 , 0.7019608 , 0.6       ],\n",
       "         [0.7487745 , 0.7017157 , 0.60563725],\n",
       "         ...,\n",
       "         [0.7637255 , 0.7205882 , 0.6107843 ],\n",
       "         [0.7607843 , 0.7176471 , 0.60784316],\n",
       "         [0.7607843 , 0.7176471 , 0.60784316]],\n",
       "\n",
       "        ...,\n",
       "\n",
       "        [[0.11053921, 0.11053921, 0.10269608],\n",
       "         [0.10392157, 0.10392157, 0.09607843],\n",
       "         [0.09117647, 0.09117647, 0.08333334],\n",
       "         ...,\n",
       "         [0.35318628, 0.29117647, 0.19460784],\n",
       "         [0.3529412 , 0.2901961 , 0.18848039],\n",
       "         [0.34117648, 0.27450982, 0.16617647]],\n",
       "\n",
       "        [[0.11058828, 0.11235303, 0.09921564],\n",
       "         [0.11058828, 0.11450985, 0.09490201],\n",
       "         [0.10308832, 0.10700989, 0.08607848],\n",
       "         ...,\n",
       "         [0.35632354, 0.2843626 , 0.17632344],\n",
       "         [0.35416672, 0.2764706 , 0.16607833],\n",
       "         [0.33901966, 0.26098034, 0.14156853]],\n",
       "\n",
       "        [[0.11627448, 0.12019605, 0.10058821],\n",
       "         [0.12274505, 0.12666662, 0.10313721],\n",
       "         [0.11936271, 0.12328428, 0.09975487],\n",
       "         ...,\n",
       "         [0.35392156, 0.27941176, 0.16176471],\n",
       "         [0.35686275, 0.2764706 , 0.15588236],\n",
       "         [0.34073532, 0.25838238, 0.13681374]]],\n",
       "\n",
       "\n",
       "       [[[0.75671566, 0.6978921 , 0.5684804 ],\n",
       "         [0.75686276, 0.69803923, 0.5755882 ],\n",
       "         [0.7612255 , 0.702402  , 0.5867157 ],\n",
       "         ...,\n",
       "         [0.7562745 , 0.71313727, 0.60333335],\n",
       "         [0.75686276, 0.7137255 , 0.6039216 ],\n",
       "         [0.7536765 , 0.7105392 , 0.6007353 ]],\n",
       "\n",
       "        [[0.7637255 , 0.70490193, 0.5876471 ],\n",
       "         [0.76034313, 0.7015196 , 0.5877941 ],\n",
       "         [0.7590196 , 0.7001961 , 0.5864706 ],\n",
       "         ...,\n",
       "         [0.76598036, 0.712402  , 0.6017647 ],\n",
       "         [0.75985295, 0.71024513, 0.5982843 ],\n",
       "         [0.76117647, 0.7115686 , 0.5996078 ]],\n",
       "\n",
       "        [[0.7588235 , 0.7       , 0.57843137],\n",
       "         [0.7607843 , 0.7019608 , 0.5803922 ],\n",
       "         [0.7637255 , 0.70490193, 0.5833333 ],\n",
       "         ...,\n",
       "         [0.76960784, 0.7147059 , 0.6009804 ],\n",
       "         [0.76642156, 0.7115196 , 0.5977941 ],\n",
       "         [0.76862746, 0.7137255 , 0.6       ]],\n",
       "\n",
       "        ...,\n",
       "\n",
       "        [[0.09803922, 0.10588235, 0.09411765],\n",
       "         [0.09705883, 0.10490196, 0.09313726],\n",
       "         [0.08357843, 0.09142157, 0.07965686],\n",
       "         ...,\n",
       "         [0.37941176, 0.29485294, 0.19558823],\n",
       "         [0.36568627, 0.28333333, 0.1754902 ],\n",
       "         [0.35539216, 0.2615196 , 0.1509804 ]],\n",
       "\n",
       "        [[0.10112754, 0.10544117, 0.09544121],\n",
       "         [0.09926476, 0.1035784 , 0.09357844],\n",
       "         [0.09372558, 0.09612756, 0.08377452],\n",
       "         ...,\n",
       "         [0.36735278, 0.29049012, 0.19431368],\n",
       "         [0.3654411 , 0.28431374, 0.18357849],\n",
       "         [0.34333327, 0.2627451 , 0.16039225]],\n",
       "\n",
       "        [[0.11235292, 0.10843135, 0.08965684],\n",
       "         [0.122598  , 0.11867643, 0.09990192],\n",
       "         [0.11627448, 0.11279408, 0.09186276],\n",
       "         ...,\n",
       "         [0.3494118 , 0.2847059 , 0.18470591],\n",
       "         [0.35627455, 0.28568628, 0.19156866],\n",
       "         [0.33607846, 0.26549023, 0.17137259]]],\n",
       "\n",
       "\n",
       "       [[[0.7607843 , 0.7019608 , 0.5882353 ],\n",
       "         [0.7609314 , 0.70210785, 0.58838236],\n",
       "         [0.7545098 , 0.6956862 , 0.58196074],\n",
       "         ...,\n",
       "         [0.7515686 , 0.71235293, 0.6064706 ],\n",
       "         [0.75495094, 0.71573526, 0.6098529 ],\n",
       "         [0.75235295, 0.71313727, 0.6072549 ]],\n",
       "\n",
       "        [[0.75372547, 0.6988235 , 0.595098  ],\n",
       "         [0.75686276, 0.7019608 , 0.59607846],\n",
       "         [0.75509804, 0.7001961 , 0.5907843 ],\n",
       "         ...,\n",
       "         [0.75377446, 0.712402  , 0.6043628 ],\n",
       "         [0.7527941 , 0.7114216 , 0.60338235],\n",
       "         [0.75509804, 0.7137255 , 0.60568625]],\n",
       "\n",
       "        [[0.74509805, 0.69803923, 0.59607846],\n",
       "         [0.74607843, 0.6990196 , 0.59705883],\n",
       "         [0.75490195, 0.7019608 , 0.6       ],\n",
       "         ...,\n",
       "         [0.75759804, 0.7144608 , 0.6046569 ],\n",
       "         [0.7529412 , 0.70980394, 0.6       ],\n",
       "         [0.7509804 , 0.7078431 , 0.5980392 ]],\n",
       "\n",
       "        ...,\n",
       "\n",
       "        [[0.10196079, 0.10196079, 0.10196079],\n",
       "         [0.09289216, 0.10073529, 0.09681372],\n",
       "         [0.08014706, 0.08799019, 0.08406863],\n",
       "         ...,\n",
       "         [0.34215686, 0.2872549 , 0.18529412],\n",
       "         [0.34411764, 0.28333333, 0.18333334],\n",
       "         [0.33137256, 0.26862746, 0.16666667]],\n",
       "\n",
       "        [[0.10196079, 0.10196079, 0.10980392],\n",
       "         [0.10058833, 0.10014714, 0.10931385],\n",
       "         [0.09230401, 0.09053925, 0.10367665],\n",
       "         ...,\n",
       "         [0.33235294, 0.28235295, 0.19186282],\n",
       "         [0.34215686, 0.28495094, 0.18990204],\n",
       "         [0.33230382, 0.26955873, 0.1715195 ]],\n",
       "\n",
       "        [[0.10897058, 0.10897058, 0.10897058],\n",
       "         [0.1296078 , 0.1296078 , 0.13745093],\n",
       "         [0.1168627 , 0.1168627 , 0.12470584],\n",
       "         ...,\n",
       "         [0.33671567, 0.28671566, 0.20142154],\n",
       "         [0.34367648, 0.2819118 , 0.19367649],\n",
       "         [0.32058823, 0.25784314, 0.16764706]]]], dtype=float32)"
      ]
     },
     "execution_count": 47,
     "metadata": {},
     "output_type": "execute_result"
    }
   ],
   "source": [
    "sample[0]"
   ]
  },
  {
   "cell_type": "code",
   "execution_count": 48,
   "id": "c45f14c7",
   "metadata": {},
   "outputs": [],
   "source": [
    "# test partition\n",
    "test_data = data.skip(round(len(data)* .7))\n",
    "test_data = test_data.take(round(len(data)* .3))\n",
    "test_data = test_data.batch(16)\n",
    "test_data = test_data.prefetch(8)"
   ]
  },
  {
   "cell_type": "markdown",
   "id": "c4c3215f",
   "metadata": {},
   "source": [
    "# Model Engineering"
   ]
  },
  {
   "cell_type": "markdown",
   "id": "b8959217",
   "metadata": {},
   "source": [
    "## 1. build embedding layer\n",
    "### Create a function"
   ]
  },
  {
   "cell_type": "code",
   "execution_count": 49,
   "id": "960f238c",
   "metadata": {
    "scrolled": true
   },
   "outputs": [],
   "source": [
    "inp = Input(shape=(105,105,3), name = 'input_image')"
   ]
  },
  {
   "cell_type": "code",
   "execution_count": 50,
   "id": "6c88748b",
   "metadata": {},
   "outputs": [
    {
     "data": {
      "text/plain": [
       "<KerasTensor: shape=(None, 105, 105, 3) dtype=float32 (created by layer 'input_image')>"
      ]
     },
     "execution_count": 50,
     "metadata": {},
     "output_type": "execute_result"
    }
   ],
   "source": [
    "inp"
   ]
  },
  {
   "cell_type": "code",
   "execution_count": 51,
   "id": "a45b57d5",
   "metadata": {},
   "outputs": [],
   "source": [
    "c1 = Conv2D(64,(10,10), activation='relu')(inp)"
   ]
  },
  {
   "cell_type": "code",
   "execution_count": 52,
   "id": "2766b3da",
   "metadata": {
    "collapsed": true
   },
   "outputs": [
    {
     "data": {
      "text/plain": [
       "<KerasTensor: shape=(None, 96, 96, 64) dtype=float32 (created by layer 'conv2d')>"
      ]
     },
     "execution_count": 52,
     "metadata": {},
     "output_type": "execute_result"
    }
   ],
   "source": [
    "c1"
   ]
  },
  {
   "cell_type": "code",
   "execution_count": 53,
   "id": "fc2f35ed",
   "metadata": {},
   "outputs": [],
   "source": [
    "m1 = MaxPooling2D(64, (2,2), padding = \"same\")(c1)"
   ]
  },
  {
   "cell_type": "code",
   "execution_count": 54,
   "id": "d1262341",
   "metadata": {
    "collapsed": true
   },
   "outputs": [
    {
     "data": {
      "text/plain": [
       "<KerasTensor: shape=(None, 48, 48, 64) dtype=float32 (created by layer 'max_pooling2d')>"
      ]
     },
     "execution_count": 54,
     "metadata": {},
     "output_type": "execute_result"
    }
   ],
   "source": [
    "m1"
   ]
  },
  {
   "cell_type": "code",
   "execution_count": 55,
   "id": "d59f15ef",
   "metadata": {},
   "outputs": [],
   "source": [
    "c2 = Conv2D(128,(7,7), activation='relu')(m1)\n",
    "m2 = MaxPooling2D(64, (2,2), padding = \"same\")(c2)\n",
    "c3 = Conv2D(128,(4,4), activation='relu')(m2)\n",
    "m3 = MaxPooling2D(64, (2,2), padding = \"same\")(c3)"
   ]
  },
  {
   "cell_type": "code",
   "execution_count": 56,
   "id": "0b77e410",
   "metadata": {
    "collapsed": true
   },
   "outputs": [
    {
     "data": {
      "text/plain": [
       "<KerasTensor: shape=(None, 9, 9, 128) dtype=float32 (created by layer 'max_pooling2d_2')>"
      ]
     },
     "execution_count": 56,
     "metadata": {},
     "output_type": "execute_result"
    }
   ],
   "source": [
    "m3"
   ]
  },
  {
   "cell_type": "code",
   "execution_count": 57,
   "id": "a40b2927",
   "metadata": {},
   "outputs": [],
   "source": [
    "c4 = Conv2D(256, (4,4), activation='relu')(m3)\n",
    "f1 = Flatten()(c4)\n",
    "d1 = Dense(4096, activation = 'sigmoid')(f1)"
   ]
  },
  {
   "cell_type": "code",
   "execution_count": 58,
   "id": "1266700a",
   "metadata": {
    "collapsed": true
   },
   "outputs": [
    {
     "data": {
      "text/plain": [
       "<KerasTensor: shape=(None, 9216) dtype=float32 (created by layer 'flatten')>"
      ]
     },
     "execution_count": 58,
     "metadata": {},
     "output_type": "execute_result"
    }
   ],
   "source": [
    "f1"
   ]
  },
  {
   "cell_type": "markdown",
   "id": "c379a7bc",
   "metadata": {},
   "source": [
    "# By using function below the Model has build"
   ]
  },
  {
   "cell_type": "code",
   "execution_count": 59,
   "id": "1193c56e",
   "metadata": {},
   "outputs": [],
   "source": [
    "import tensorflow as tf\n",
    "import torch\n",
    "# if torch.cuda.is_available():\n",
    "#     device = torch.device('cuda:0')\n",
    "# else:\n",
    "#     device = torch.device('cpu')\n",
    "\n",
    "def make_embedding():\n",
    "    inp = Input(shape=(100,100,3), name = 'input_image')\n",
    "    \n",
    "    #first block\n",
    "#     with tf.device('/GPU:0'):\n",
    "    c1 = Conv2D(64,(10,10), activation='relu')(inp)\n",
    "    m1 = MaxPooling2D(64, (2,2), padding = \"same\")(c1)\n",
    "    \n",
    "    #second\n",
    "#     with tf.device('/GPU:0'):\n",
    "    c2 = Conv2D(128,(7,7), activation='relu')(m1)\n",
    "    m2 = MaxPooling2D(64, (2,2), padding = \"same\")(c2)\n",
    "    \n",
    "    #third\n",
    "#     with tf.device('/GPU:0'):\n",
    "    c3 = Conv2D(128,(4,4), activation='relu')(m2)\n",
    "    m3 = MaxPooling2D(64, (2,2), padding = \"same\")(c3)\n",
    "    \n",
    "    #final embedding block\n",
    "#     with tf.device('/GPU:0'):\n",
    "    c4 = Conv2D(256, (4,4), activation='relu')(m3)\n",
    "    f1 = Flatten()(c4)\n",
    "    d1 = Dense(4096, activation = 'sigmoid')(f1)\n",
    "    \n",
    "    return Model(inputs=[inp], outputs=[d1], name='embedding')"
   ]
  },
  {
   "cell_type": "code",
   "execution_count": 60,
   "id": "1fae8a4c",
   "metadata": {},
   "outputs": [],
   "source": [
    "embedding = make_embedding()"
   ]
  },
  {
   "cell_type": "code",
   "execution_count": 61,
   "id": "d7b28e5a",
   "metadata": {
    "collapsed": true
   },
   "outputs": [
    {
     "name": "stdout",
     "output_type": "stream",
     "text": [
      "Model: \"embedding\"\n",
      "_________________________________________________________________\n",
      " Layer (type)                Output Shape              Param #   \n",
      "=================================================================\n",
      " input_image (InputLayer)    [(None, 100, 100, 3)]     0         \n",
      "                                                                 \n",
      " conv2d_4 (Conv2D)           (None, 91, 91, 64)        19264     \n",
      "                                                                 \n",
      " max_pooling2d_3 (MaxPooling  (None, 46, 46, 64)       0         \n",
      " 2D)                                                             \n",
      "                                                                 \n",
      " conv2d_5 (Conv2D)           (None, 40, 40, 128)       401536    \n",
      "                                                                 \n",
      " max_pooling2d_4 (MaxPooling  (None, 20, 20, 128)      0         \n",
      " 2D)                                                             \n",
      "                                                                 \n",
      " conv2d_6 (Conv2D)           (None, 17, 17, 128)       262272    \n",
      "                                                                 \n",
      " max_pooling2d_5 (MaxPooling  (None, 9, 9, 128)        0         \n",
      " 2D)                                                             \n",
      "                                                                 \n",
      " conv2d_7 (Conv2D)           (None, 6, 6, 256)         524544    \n",
      "                                                                 \n",
      " flatten_1 (Flatten)         (None, 9216)              0         \n",
      "                                                                 \n",
      " dense_1 (Dense)             (None, 4096)              37752832  \n",
      "                                                                 \n",
      "=================================================================\n",
      "Total params: 38,960,448\n",
      "Trainable params: 38,960,448\n",
      "Non-trainable params: 0\n",
      "_________________________________________________________________\n"
     ]
    }
   ],
   "source": [
    "embedding.summary()"
   ]
  },
  {
   "cell_type": "markdown",
   "id": "2cc06cc9",
   "metadata": {},
   "source": [
    "## 2. Build Distance Layer"
   ]
  },
  {
   "cell_type": "code",
   "execution_count": 62,
   "id": "ddbdd86d",
   "metadata": {},
   "outputs": [],
   "source": [
    "#Siamese L1 Distance Class\n",
    "class L1Dist(Layer):\n",
    "    def __init__(self, **kwargs):\n",
    "        super().__init__()\n",
    "    \n",
    "    #important\n",
    "    #Similarity Calculation\n",
    "    def call(self, input_embedding, validation_embedding):\n",
    "        return tf.math.abs(input_embedding - validation_embedding)\n",
    "    "
   ]
  },
  {
   "cell_type": "code",
   "execution_count": 63,
   "id": "140876e5",
   "metadata": {},
   "outputs": [],
   "source": [
    "l1 = L1Dist()"
   ]
  },
  {
   "cell_type": "code",
   "execution_count": 64,
   "id": "d1d69154",
   "metadata": {},
   "outputs": [],
   "source": [
    "input_image = Input(name='input_img', shape = (100,100,3))\n",
    "    \n",
    "#validation Img in the network\n",
    "validation_image = Input(name = 'validation_img', shape = (100,100,3))"
   ]
  },
  {
   "cell_type": "code",
   "execution_count": 65,
   "id": "3759965c",
   "metadata": {},
   "outputs": [],
   "source": [
    "inp_embedding = embedding(input_image)\n",
    "val_embedding = embedding(validation_image)"
   ]
  },
  {
   "cell_type": "markdown",
   "id": "9ad8356b",
   "metadata": {},
   "source": [
    "### put the input and validation img into embedding function that we declared before, the img will be modified"
   ]
  },
  {
   "cell_type": "code",
   "execution_count": 66,
   "id": "8e51a964",
   "metadata": {
    "collapsed": true
   },
   "outputs": [
    {
     "data": {
      "text/plain": [
       "<KerasTensor: shape=(None, 4096) dtype=float32 (created by layer 'embedding')>"
      ]
     },
     "execution_count": 66,
     "metadata": {},
     "output_type": "execute_result"
    }
   ],
   "source": [
    "inp_embedding"
   ]
  },
  {
   "cell_type": "code",
   "execution_count": 67,
   "id": "fbdde516",
   "metadata": {},
   "outputs": [],
   "source": [
    "siamese_layer = L1Dist()"
   ]
  },
  {
   "cell_type": "code",
   "execution_count": 68,
   "id": "93d6dc69",
   "metadata": {},
   "outputs": [],
   "source": [
    "distances = siamese_layer(inp_embedding, val_embedding)"
   ]
  },
  {
   "cell_type": "code",
   "execution_count": 69,
   "id": "0faec078",
   "metadata": {},
   "outputs": [],
   "source": [
    "classifier = Dense(1, activation='sigmoid')(distances)"
   ]
  },
  {
   "cell_type": "code",
   "execution_count": 70,
   "id": "77bef4a3",
   "metadata": {
    "collapsed": true
   },
   "outputs": [
    {
     "data": {
      "text/plain": [
       "<KerasTensor: shape=(None, 1) dtype=float32 (created by layer 'dense_2')>"
      ]
     },
     "execution_count": 70,
     "metadata": {},
     "output_type": "execute_result"
    }
   ],
   "source": [
    "classifier  #Shape 1"
   ]
  },
  {
   "cell_type": "code",
   "execution_count": 71,
   "id": "848c4b87",
   "metadata": {},
   "outputs": [],
   "source": [
    "siamese_network = Model(inputs=[input_image, validation_image], outputs=classifier, name='SiameseNetwork')"
   ]
  },
  {
   "cell_type": "code",
   "execution_count": 72,
   "id": "31e6bfa9",
   "metadata": {
    "collapsed": true
   },
   "outputs": [
    {
     "name": "stdout",
     "output_type": "stream",
     "text": [
      "Model: \"SiameseNetwork\"\n",
      "__________________________________________________________________________________________________\n",
      " Layer (type)                   Output Shape         Param #     Connected to                     \n",
      "==================================================================================================\n",
      " input_img (InputLayer)         [(None, 100, 100, 3  0           []                               \n",
      "                                )]                                                                \n",
      "                                                                                                  \n",
      " validation_img (InputLayer)    [(None, 100, 100, 3  0           []                               \n",
      "                                )]                                                                \n",
      "                                                                                                  \n",
      " embedding (Functional)         (None, 4096)         38960448    ['input_img[0][0]',              \n",
      "                                                                  'validation_img[0][0]']         \n",
      "                                                                                                  \n",
      " l1_dist_1 (L1Dist)             (None, 4096)         0           ['embedding[0][0]',              \n",
      "                                                                  'embedding[1][0]']              \n",
      "                                                                                                  \n",
      " dense_2 (Dense)                (None, 1)            4097        ['l1_dist_1[0][0]']              \n",
      "                                                                                                  \n",
      "==================================================================================================\n",
      "Total params: 38,964,545\n",
      "Trainable params: 38,964,545\n",
      "Non-trainable params: 0\n",
      "__________________________________________________________________________________________________\n"
     ]
    }
   ],
   "source": [
    "siamese_network.summary()"
   ]
  },
  {
   "cell_type": "markdown",
   "id": "7ff39ab3",
   "metadata": {},
   "source": [
    "### 1. input image validation image\n",
    "### 2. goes to embedding(function)  layer\n",
    "### 3. combined through L1Dist() layer\n",
    "### 4. output a single value (shape 1)"
   ]
  },
  {
   "cell_type": "markdown",
   "id": "4a2afce0",
   "metadata": {},
   "source": [
    "### 4096 = distance between inp_embedding and val_embedding"
   ]
  },
  {
   "cell_type": "markdown",
   "id": "181aadbc",
   "metadata": {},
   "source": [
    "## 3. Make Siamese Model"
   ]
  },
  {
   "cell_type": "code",
   "execution_count": 73,
   "id": "fff38884",
   "metadata": {},
   "outputs": [],
   "source": [
    "def make_siamese_model():\n",
    "    #Handle Anchor Inputs in the network\n",
    "    input_image = Input(name = 'input_img', shape = (100,100,3))\n",
    "    \n",
    "    #validation Img in the network\n",
    "    validation_iamge = Input(name = 'validation_img', shape = (100,100,3))\n",
    "    \n",
    "    #Combine siamese distance components\n",
    "    siamese_layer = L1Dist()\n",
    "    siamese_layer._name = 'distance'\n",
    "    distances = siamese_layer(embedding(input_image), embedding(validation_image))\n",
    "    \n",
    "    #classification Layer\n",
    "    classifier = Dense(1, activation='sigmoid')(distances)\n",
    "    \n",
    "    return Model(inputs=[input_image, validation_image], outputs=classifier, name='SiameseNetwork')\n",
    "    "
   ]
  },
  {
   "cell_type": "code",
   "execution_count": 74,
   "id": "1e82423c",
   "metadata": {},
   "outputs": [],
   "source": [
    "siamese_model = make_siamese_model()"
   ]
  },
  {
   "cell_type": "code",
   "execution_count": 75,
   "id": "c0fd9c3f",
   "metadata": {
    "collapsed": true
   },
   "outputs": [
    {
     "name": "stdout",
     "output_type": "stream",
     "text": [
      "Model: \"SiameseNetwork\"\n",
      "__________________________________________________________________________________________________\n",
      " Layer (type)                   Output Shape         Param #     Connected to                     \n",
      "==================================================================================================\n",
      " input_img (InputLayer)         [(None, 100, 100, 3  0           []                               \n",
      "                                )]                                                                \n",
      "                                                                                                  \n",
      " validation_img (InputLayer)    [(None, 100, 100, 3  0           []                               \n",
      "                                )]                                                                \n",
      "                                                                                                  \n",
      " embedding (Functional)         (None, 4096)         38960448    ['input_img[0][0]',              \n",
      "                                                                  'validation_img[0][0]']         \n",
      "                                                                                                  \n",
      " distance (L1Dist)              (None, 4096)         0           ['embedding[2][0]',              \n",
      "                                                                  'embedding[3][0]']              \n",
      "                                                                                                  \n",
      " dense_3 (Dense)                (None, 1)            4097        ['distance[0][0]']               \n",
      "                                                                                                  \n",
      "==================================================================================================\n",
      "Total params: 38,964,545\n",
      "Trainable params: 38,964,545\n",
      "Non-trainable params: 0\n",
      "__________________________________________________________________________________________________\n"
     ]
    }
   ],
   "source": [
    "siamese_model.summary()"
   ]
  },
  {
   "cell_type": "markdown",
   "id": "d2b6346a",
   "metadata": {},
   "source": [
    "# Start To Training"
   ]
  },
  {
   "cell_type": "markdown",
   "id": "6f444ea7",
   "metadata": {},
   "source": [
    "## 1. Set up Loss and Optimizer"
   ]
  },
  {
   "cell_type": "code",
   "execution_count": 76,
   "id": "a12e60db",
   "metadata": {},
   "outputs": [],
   "source": [
    "binary_cross_loss = tf.losses.BinaryCrossentropy()"
   ]
  },
  {
   "cell_type": "code",
   "execution_count": 77,
   "id": "61daf12a",
   "metadata": {},
   "outputs": [],
   "source": [
    "#Find keras Adam optimizer\n",
    "opt = tf.keras.optimizers.Adam(1e-4)"
   ]
  },
  {
   "cell_type": "markdown",
   "id": "0f039800",
   "metadata": {},
   "source": [
    "## 2. Establish Checkpoints"
   ]
  },
  {
   "cell_type": "code",
   "execution_count": 78,
   "id": "8ada6d63",
   "metadata": {},
   "outputs": [],
   "source": [
    "checkpoint_dir = './training_checkpoints'\n",
    "checkpoint_prefix = os.path.join(checkpoint_dir, 'ckpt')\n",
    "checkpoint = tf.train.Checkpoint(opt=opt, siamese_model = siamese_model)"
   ]
  },
  {
   "cell_type": "markdown",
   "id": "d5d3bf05",
   "metadata": {},
   "source": [
    "## 3. Build Train Step Function"
   ]
  },
  {
   "cell_type": "code",
   "execution_count": 79,
   "id": "03601a52",
   "metadata": {},
   "outputs": [],
   "source": [
    "test_batch = train_data.as_numpy_iterator()"
   ]
  },
  {
   "cell_type": "code",
   "execution_count": 80,
   "id": "6f0231be",
   "metadata": {},
   "outputs": [],
   "source": [
    "batch_1 = test_batch.next()"
   ]
  },
  {
   "cell_type": "code",
   "execution_count": 81,
   "id": "30cae3f2",
   "metadata": {
    "collapsed": true
   },
   "outputs": [
    {
     "data": {
      "text/plain": [
       "3"
      ]
     },
     "execution_count": 81,
     "metadata": {},
     "output_type": "execute_result"
    }
   ],
   "source": [
    "len(batch_1)"
   ]
  },
  {
   "cell_type": "code",
   "execution_count": 82,
   "id": "4e83d5eb",
   "metadata": {
    "collapsed": true
   },
   "outputs": [
    {
     "data": {
      "text/plain": [
       "16"
      ]
     },
     "execution_count": 82,
     "metadata": {},
     "output_type": "execute_result"
    }
   ],
   "source": [
    "len(batch_1[1]) #16 images in index"
   ]
  },
  {
   "cell_type": "code",
   "execution_count": 83,
   "id": "d87884af",
   "metadata": {
    "collapsed": true
   },
   "outputs": [
    {
     "data": {
      "text/plain": [
       "array([1., 0., 0., 1., 1., 1., 0., 1., 1., 1., 1., 0., 0., 1., 0., 1.],\n",
       "      dtype=float32)"
      ]
     },
     "execution_count": 83,
     "metadata": {},
     "output_type": "execute_result"
    }
   ],
   "source": [
    "batch_1[2] #all labels"
   ]
  },
  {
   "cell_type": "code",
   "execution_count": 84,
   "id": "0e52b96b",
   "metadata": {},
   "outputs": [],
   "source": [
    "X = batch_1[:2]"
   ]
  },
  {
   "cell_type": "code",
   "execution_count": 85,
   "id": "bda33cb1",
   "metadata": {
    "collapsed": true
   },
   "outputs": [
    {
     "data": {
      "text/plain": [
       "(2, 16, 100, 100, 3)"
      ]
     },
     "execution_count": 85,
     "metadata": {},
     "output_type": "execute_result"
    }
   ],
   "source": [
    "np.array(X).shape #2 components 16 imgs each , 100 by 100 by 3"
   ]
  },
  {
   "cell_type": "code",
   "execution_count": 86,
   "id": "1f95103b",
   "metadata": {},
   "outputs": [],
   "source": [
    "y = batch_1[2]"
   ]
  },
  {
   "cell_type": "code",
   "execution_count": 87,
   "id": "050fed57",
   "metadata": {},
   "outputs": [],
   "source": [
    "tf.losses.BinaryCrossentropy??"
   ]
  },
  {
   "cell_type": "code",
   "execution_count": 88,
   "id": "524bb38d",
   "metadata": {},
   "outputs": [],
   "source": [
    "\n",
    "\n",
    "@tf.function #compiles a function into a callable TensorFlow graph\n",
    "def train_step(batch):\n",
    "    with tf.device('/GPU:0'):\n",
    "        with tf.GradientTape() as tape: #Record operation for automatic differention\n",
    "\n",
    "            #Get anchor and positive/negative image\n",
    "            X = batch[:2]\n",
    "            #Get Label\n",
    "            y = batch[2]\n",
    "\n",
    "            #Forward pass\n",
    "            yhat = siamese_model(X, training = True)\n",
    "\n",
    "            #calculate loss  bce(y_true, y_pred).numpy() \n",
    "            loss = binary_cross_loss(y,yhat)\n",
    "        print(loss)\n",
    "\n",
    "        #calculate gradients\n",
    "        grad = tape.gradient(loss, siamese_model.trainable_variables)\n",
    "\n",
    "        #calculate updated weights and apply to siamese model\n",
    "        opt.apply_gradients(zip(grad, siamese_model.trainable_variables))\n",
    "\n",
    "        #return loss\n",
    "        return loss"
   ]
  },
  {
   "cell_type": "code",
   "execution_count": null,
   "id": "25506302",
   "metadata": {},
   "outputs": [],
   "source": []
  },
  {
   "cell_type": "markdown",
   "id": "f908f832",
   "metadata": {},
   "source": [
    "## 4. Build Training Loop"
   ]
  },
  {
   "cell_type": "code",
   "execution_count": 89,
   "id": "be40c04c",
   "metadata": {},
   "outputs": [],
   "source": [
    "def train(data, EPOCHS):\n",
    "    #Loop through epochs\n",
    "    for epoch in range(1, EPOCHS + 1):\n",
    "        print('\\n Epoch{}/{}'.format(epoch, EPOCHS))\n",
    "        progbar = tf.keras.utils.Progbar(len(data))\n",
    "    \n",
    "        #Loop through each batch\n",
    "        for idx, batch in enumerate(data):\n",
    "            \n",
    "            #run the train step:\n",
    "            train_step(batch)\n",
    "            progbar.update(idx+1)\n",
    "        if epoch %10 == 0:\n",
    "            checkpoint.save(file_prefix = checkpoint_prefix)"
   ]
  },
  {
   "cell_type": "markdown",
   "id": "88d77715",
   "metadata": {},
   "source": [
    "## 5. Train the Model"
   ]
  },
  {
   "cell_type": "code",
   "execution_count": 90,
   "id": "26e76642",
   "metadata": {},
   "outputs": [],
   "source": [
    "EPOCHS = 1"
   ]
  },
  {
   "cell_type": "code",
   "execution_count": 91,
   "id": "12e83f0b",
   "metadata": {},
   "outputs": [],
   "source": [
    "# import tensorflow as tf\n",
    "# gpus = tf.config.experimental.list_physical_devices('GPU')\n",
    "\n",
    "# # 设置GPU可见性\n",
    "# tf.config.experimental.set_visible_devices(gpus, 'GPU')\n",
    "\n",
    "# for gpu in gpus:\n",
    "#     print(gpu)\n",
    "#     tf.config.experimental.set_memory_growth(gpu, True)"
   ]
  },
  {
   "cell_type": "code",
   "execution_count": 92,
   "id": "2a3cb7d3",
   "metadata": {},
   "outputs": [],
   "source": [
    "# import torch\n",
    "# print(\"Num GPUs Available: \", torch.cuda.device_count())"
   ]
  },
  {
   "cell_type": "code",
   "execution_count": 93,
   "id": "e7834af4",
   "metadata": {},
   "outputs": [],
   "source": [
    "# torch.cuda.is_available()"
   ]
  },
  {
   "cell_type": "code",
   "execution_count": 94,
   "id": "3786369a",
   "metadata": {
    "collapsed": true
   },
   "outputs": [
    {
     "name": "stdout",
     "output_type": "stream",
     "text": [
      "\n",
      " Epoch1/1\n",
      "Tensor(\"binary_crossentropy/weighted_loss/value:0\", shape=(), dtype=float32, device=/device:GPU:0)\n",
      "Tensor(\"binary_crossentropy/weighted_loss/value:0\", shape=(), dtype=float32, device=/device:GPU:0)\n",
      "26/27 [===========================>..] - ETA: 16sTensor(\"binary_crossentropy/weighted_loss/value:0\", shape=(), dtype=float32, device=/device:GPU:0)\n",
      "27/27 [==============================] - 429s 16s/step\n"
     ]
    }
   ],
   "source": [
    "train(train_data, EPOCHS)"
   ]
  },
  {
   "cell_type": "markdown",
   "id": "bd34d2ba",
   "metadata": {},
   "source": [
    "# Evaluate Model"
   ]
  },
  {
   "cell_type": "markdown",
   "id": "a2c59f19",
   "metadata": {},
   "source": [
    "## 1. import metric"
   ]
  },
  {
   "cell_type": "code",
   "execution_count": 95,
   "id": "70266d82",
   "metadata": {},
   "outputs": [],
   "source": [
    "# Import metric calculatrions\n",
    "from tensorflow.keras.metrics import Precision, Recall"
   ]
  },
  {
   "cell_type": "markdown",
   "id": "85b97a85",
   "metadata": {},
   "source": [
    "## 2. Make Predictions"
   ]
  },
  {
   "cell_type": "code",
   "execution_count": 96,
   "id": "81da4459",
   "metadata": {},
   "outputs": [],
   "source": [
    "test_input, test_val, y_true = test_data.as_numpy_iterator().next()"
   ]
  },
  {
   "cell_type": "code",
   "execution_count": 97,
   "id": "dc317c31",
   "metadata": {},
   "outputs": [],
   "source": [
    "test_var = test_data.as_numpy_iterator().next()"
   ]
  },
  {
   "cell_type": "code",
   "execution_count": 98,
   "id": "a96d8401",
   "metadata": {
    "collapsed": true
   },
   "outputs": [
    {
     "data": {
      "text/plain": [
       "3"
      ]
     },
     "execution_count": 98,
     "metadata": {},
     "output_type": "execute_result"
    }
   ],
   "source": [
    "len(test_var)"
   ]
  },
  {
   "cell_type": "code",
   "execution_count": 99,
   "id": "648bd004",
   "metadata": {
    "collapsed": true
   },
   "outputs": [
    {
     "data": {
      "text/plain": [
       "16"
      ]
     },
     "execution_count": 99,
     "metadata": {},
     "output_type": "execute_result"
    }
   ],
   "source": [
    "len(test_var[0])"
   ]
  },
  {
   "cell_type": "code",
   "execution_count": 100,
   "id": "fbed0c02",
   "metadata": {
    "collapsed": true
   },
   "outputs": [
    {
     "data": {
      "text/plain": [
       "array([[0.6598476 ],\n",
       "       [0.6014508 ],\n",
       "       [0.06406048],\n",
       "       [0.65979296],\n",
       "       [0.628752  ],\n",
       "       [0.7370783 ],\n",
       "       [0.08079287],\n",
       "       [0.0150699 ],\n",
       "       [0.01464134],\n",
       "       [0.00385022],\n",
       "       [0.5957486 ],\n",
       "       [0.5881327 ],\n",
       "       [0.6772343 ],\n",
       "       [0.80895436],\n",
       "       [0.749667  ],\n",
       "       [0.0492298 ]], dtype=float32)"
      ]
     },
     "execution_count": 100,
     "metadata": {},
     "output_type": "execute_result"
    }
   ],
   "source": [
    "y_hat = predictions = siamese_model.predict([test_input, test_val])\n",
    "y_hat"
   ]
  },
  {
   "cell_type": "code",
   "execution_count": 101,
   "id": "dabebb47",
   "metadata": {
    "collapsed": true
   },
   "outputs": [
    {
     "data": {
      "text/plain": [
       "[1, 1, 0, 1, 1, 1, 0, 0, 0, 0, 1, 1, 1, 1, 1, 0]"
      ]
     },
     "execution_count": 101,
     "metadata": {},
     "output_type": "execute_result"
    }
   ],
   "source": [
    "# post processing the results\n",
    "[1 if prediction > 0.5 else 0 for prediction in y_hat]"
   ]
  },
  {
   "cell_type": "code",
   "execution_count": 102,
   "id": "b21bdbd0",
   "metadata": {
    "collapsed": true
   },
   "outputs": [
    {
     "data": {
      "text/plain": [
       "array([1., 1., 0., 1., 1., 1., 0., 0., 0., 0., 1., 1., 1., 1., 1., 0.],\n",
       "      dtype=float32)"
      ]
     },
     "execution_count": 102,
     "metadata": {},
     "output_type": "execute_result"
    }
   ],
   "source": [
    "y_true"
   ]
  },
  {
   "cell_type": "markdown",
   "id": "254165f0",
   "metadata": {},
   "source": [
    "## 3. Calculate Metrics"
   ]
  },
  {
   "cell_type": "code",
   "execution_count": 103,
   "id": "f1792f15",
   "metadata": {
    "collapsed": true
   },
   "outputs": [
    {
     "data": {
      "text/plain": [
       "1.0"
      ]
     },
     "execution_count": 103,
     "metadata": {},
     "output_type": "execute_result"
    }
   ],
   "source": [
    "#creating a metric object\n",
    "m = Precision()\n",
    "\n",
    "#Calculating the recall value\n",
    "m.update_state(y_true, y_hat)\n",
    "\n",
    "#return Recall Result\n",
    "m.result().numpy()"
   ]
  },
  {
   "cell_type": "markdown",
   "id": "2c8fbf53",
   "metadata": {},
   "source": [
    "## 4. Viz Results"
   ]
  },
  {
   "cell_type": "code",
   "execution_count": 104,
   "id": "f626547d",
   "metadata": {
    "collapsed": true
   },
   "outputs": [
    {
     "data": {
      "image/png": "[encoded data removed]",
      "text/plain": [
       "<Figure size 1800x800 with 2 Axes>"
      ]
     },
     "metadata": {},
     "output_type": "display_data"
    }
   ],
   "source": [
    "#set plot size\n",
    "plt.figure(figsize = (18,8))\n",
    "\n",
    "#set first subplot\n",
    "plt.subplot(1,2,1)\n",
    "plt.imshow(test_input[3])\n",
    "plt.subplot(1,2,2)\n",
    "plt.imshow(test_val[3])\n",
    "plt.show()"
   ]
  },
  {
   "cell_type": "markdown",
   "id": "d12aa117",
   "metadata": {},
   "source": [
    "# Save Model"
   ]
  },
  {
   "cell_type": "code",
   "execution_count": 105,
   "id": "937e6c67",
   "metadata": {},
   "outputs": [
    {
     "name": "stdout",
     "output_type": "stream",
     "text": [
      "WARNING:tensorflow:Compiled the loaded model, but the compiled metrics have yet to be built. `model.compile_metrics` will be empty until you train or evaluate the model.\n"
     ]
    }
   ],
   "source": [
    "# Save weights\n",
    "siamese_model.save('SiameseModel.h5')"
   ]
  },
  {
   "cell_type": "code",
   "execution_count": 106,
   "id": "08a9ec55",
   "metadata": {},
   "outputs": [
    {
     "name": "stdout",
     "output_type": "stream",
     "text": [
      "WARNING:tensorflow:No training configuration found in the save file, so the model was *not* compiled. Compile it manually.\n"
     ]
    }
   ],
   "source": [
    "#Reload Model\n",
    "model = tf.keras.models.load_model('SiameseModel.h5', custom_objects = {'L1Dist': L1Dist, 'BinaryCrossentropy': tf.losses.BinaryCrossentropy})"
   ]
  },
  {
   "cell_type": "code",
   "execution_count": 107,
   "id": "618b1364",
   "metadata": {},
   "outputs": [],
   "source": [
    "tf.keras.models.load_model??"
   ]
  },
  {
   "cell_type": "code",
   "execution_count": 108,
   "id": "e7415836",
   "metadata": {
    "collapsed": true
   },
   "outputs": [
    {
     "data": {
      "text/plain": [
       "array([[0.6598476 ],\n",
       "       [0.6014508 ],\n",
       "       [0.06406048],\n",
       "       [0.65979296],\n",
       "       [0.628752  ],\n",
       "       [0.7370783 ],\n",
       "       [0.08079287],\n",
       "       [0.0150699 ],\n",
       "       [0.01464134],\n",
       "       [0.00385022],\n",
       "       [0.5957486 ],\n",
       "       [0.5881327 ],\n",
       "       [0.6772343 ],\n",
       "       [0.80895436],\n",
       "       [0.749667  ],\n",
       "       [0.0492298 ]], dtype=float32)"
      ]
     },
     "execution_count": 108,
     "metadata": {},
     "output_type": "execute_result"
    }
   ],
   "source": [
    "#make predictions with reloaded model\n",
    "model.predict([test_input, test_val])"
   ]
  },
  {
   "cell_type": "code",
   "execution_count": 109,
   "id": "0730eba6",
   "metadata": {
    "collapsed": true
   },
   "outputs": [
    {
     "name": "stdout",
     "output_type": "stream",
     "text": [
      "Model: \"SiameseNetwork\"\n",
      "__________________________________________________________________________________________________\n",
      " Layer (type)                   Output Shape         Param #     Connected to                     \n",
      "==================================================================================================\n",
      " input_img (InputLayer)         [(None, 100, 100, 3  0           []                               \n",
      "                                )]                                                                \n",
      "                                                                                                  \n",
      " validation_img (InputLayer)    [(None, 100, 100, 3  0           []                               \n",
      "                                )]                                                                \n",
      "                                                                                                  \n",
      " embedding (Functional)         (None, 4096)         38960448    ['input_img[0][0]',              \n",
      "                                                                  'validation_img[0][0]']         \n",
      "                                                                                                  \n",
      " l1_dist_3 (L1Dist)             (None, 4096)         0           ['embedding[0][0]',              \n",
      "                                                                  'embedding[1][0]']              \n",
      "                                                                                                  \n",
      " dense_3 (Dense)                (None, 1)            4097        ['l1_dist_3[0][0]']              \n",
      "                                                                                                  \n",
      "==================================================================================================\n",
      "Total params: 38,964,545\n",
      "Trainable params: 38,964,545\n",
      "Non-trainable params: 0\n",
      "__________________________________________________________________________________________________\n"
     ]
    }
   ],
   "source": [
    "#View Model\n",
    "model.summary()"
   ]
  },
  {
   "cell_type": "markdown",
   "id": "a2ab11f6",
   "metadata": {},
   "source": [
    "# Real Time Test"
   ]
  },
  {
   "cell_type": "markdown",
   "id": "d1c7f4b6",
   "metadata": {},
   "source": [
    "## 1. Verification function"
   ]
  },
  {
   "cell_type": "code",
   "execution_count": 110,
   "id": "396c95e9",
   "metadata": {},
   "outputs": [],
   "source": [
    "def verify(model, detection_threshold, verification_threshold):\n",
    "    results = []\n",
    "    for img in os.listdir(os.path.join('application_data', 'verification_images')):\n",
    "        input_img = preprocess(os.path.join('application_data', 'input_image', 'input_image.jpg'))\n",
    "        validation_img = preprocess(os.path.join('application_data', 'verification_images', img))\n",
    "        \n",
    "        #make predictions\n",
    "        result = model.predict(list(np.expand_dims([input_img, validation_img], axis = 1)))\n",
    "        results.append(result)\n",
    "    \n",
    "    #Detection threshold: Metric above which a prediction is considered positive\n",
    "    detection = np.sum(np.array(results) > detection_threshold)\n",
    "    \n",
    "    #Verification threshold:proportion of positive predictions / total positive samples\n",
    "    verification = detection / len(os.listdir(os.path.join('application_data', 'verification_images')))\n",
    "    verified = verification > verification_threshold\n",
    "\n",
    "    \n",
    "    \n",
    "    return results, verified\n",
    "    "
   ]
  },
  {
   "cell_type": "markdown",
   "id": "d0c8d2f0",
   "metadata": {},
   "source": [
    "## 2. OpenCV Real Time Verification"
   ]
  },
  {
   "cell_type": "code",
   "execution_count": 115,
   "id": "2e828187",
   "metadata": {},
   "outputs": [
    {
     "name": "stdout",
     "output_type": "stream",
     "text": [
      "False\n"
     ]
    }
   ],
   "source": [
    "cap = cv2.VideoCapture(0)\n",
    "while cap.isOpened():\n",
    "    ret, frame = cap.read()\n",
    "    frame = frame[120:120+250, 200:200+250, :]\n",
    "    cv2.imshow('Facial Detection', frame)\n",
    "    \n",
    "    #verification trigger\n",
    "    if cv2.waitKey(10) & 0XFF == ord('v'):\n",
    "        #save input image to input_image folder\n",
    "        cv2.imwrite(os.path.join('application_data', 'input_image','input_image.jpg'), frame)\n",
    "        \n",
    "        #run verification\n",
    "        results, verified = verify(model, 0.5,0.5)\n",
    "        print(verified)\n",
    "    if cv2.waitKey(10) & 0XFF == ord('q'):\n",
    "        break\n",
    "cap.release()\n",
    "cv2.destroyAllWindows()"
   ]
  },
  {
   "cell_type": "code",
   "execution_count": 113,
   "id": "b4bd0f50",
   "metadata": {
    "collapsed": true
   },
   "outputs": [
    {
     "data": {
      "text/plain": [
       "[array([[0.00642481]], dtype=float32),\n",
       " array([[0.00526354]], dtype=float32),\n",
       " array([[0.00539231]], dtype=float32),\n",
       " array([[0.00563395]], dtype=float32),\n",
       " array([[0.00553638]], dtype=float32),\n",
       " array([[0.00575194]], dtype=float32),\n",
       " array([[0.00734487]], dtype=float32),\n",
       " array([[0.0116002]], dtype=float32),\n",
       " array([[0.00788677]], dtype=float32),\n",
       " array([[0.00622696]], dtype=float32),\n",
       " array([[0.00689501]], dtype=float32),\n",
       " array([[0.00573903]], dtype=float32),\n",
       " array([[0.00564876]], dtype=float32),\n",
       " array([[0.00594509]], dtype=float32),\n",
       " array([[0.00590658]], dtype=float32),\n",
       " array([[0.00635046]], dtype=float32),\n",
       " array([[0.00664559]], dtype=float32),\n",
       " array([[0.00543335]], dtype=float32),\n",
       " array([[0.00570124]], dtype=float32),\n",
       " array([[0.00530913]], dtype=float32),\n",
       " array([[0.0048635]], dtype=float32),\n",
       " array([[0.00563493]], dtype=float32),\n",
       " array([[0.00674218]], dtype=float32),\n",
       " array([[0.00707975]], dtype=float32),\n",
       " array([[0.00545901]], dtype=float32),\n",
       " array([[0.00472265]], dtype=float32),\n",
       " array([[0.00545859]], dtype=float32),\n",
       " array([[0.00950038]], dtype=float32),\n",
       " array([[0.00936577]], dtype=float32),\n",
       " array([[0.0113253]], dtype=float32),\n",
       " array([[0.00770104]], dtype=float32),\n",
       " array([[0.0060699]], dtype=float32),\n",
       " array([[0.00626665]], dtype=float32),\n",
       " array([[0.00554866]], dtype=float32),\n",
       " array([[0.00571594]], dtype=float32),\n",
       " array([[0.00551045]], dtype=float32),\n",
       " array([[0.00531182]], dtype=float32),\n",
       " array([[0.00557166]], dtype=float32),\n",
       " array([[0.00588661]], dtype=float32),\n",
       " array([[0.00572768]], dtype=float32),\n",
       " array([[0.00601777]], dtype=float32),\n",
       " array([[0.00564721]], dtype=float32),\n",
       " array([[0.00583836]], dtype=float32),\n",
       " array([[0.0078997]], dtype=float32),\n",
       " array([[0.00795025]], dtype=float32),\n",
       " array([[0.01081428]], dtype=float32),\n",
       " array([[0.01100335]], dtype=float32),\n",
       " array([[0.00768343]], dtype=float32)]"
      ]
     },
     "execution_count": 113,
     "metadata": {},
     "output_type": "execute_result"
    }
   ],
   "source": [
    "results"
   ]
  },
  {
   "cell_type": "code",
   "execution_count": 116,
   "id": "2e5cc926",
   "metadata": {},
   "outputs": [
    {
     "data": {
      "text/plain": [
       "array([False, False, False, False, False, False, False, False, False,\n",
       "       False, False,  True,  True,  True, False,  True, False, False,\n",
       "       False, False, False, False, False,  True,  True,  True, False,\n",
       "        True, False,  True,  True,  True, False, False, False, False,\n",
       "       False, False,  True,  True, False, False, False, False, False,\n",
       "       False, False, False])"
      ]
     },
     "execution_count": 116,
     "metadata": {},
     "output_type": "execute_result"
    }
   ],
   "source": [
    "np.squeeze(results) > 0.5"
   ]
  }
 ],
 "metadata": {
  "kernelspec": {
   "display_name": "Python 3 (ipykernel)",
   "language": "python",
   "name": "python3"
  },
  "language_info": {
   "codemirror_mode": {
    "name": "ipython",
    "version": 3
   },
   "file_extension": ".py",
   "mimetype": "text/x-python",
   "name": "python",
   "nbconvert_exporter": "python",
   "pygments_lexer": "ipython3",
   "version": "3.10.11"
  }
 },
 "nbformat": 4,
 "nbformat_minor": 5
}
