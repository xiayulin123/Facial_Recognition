{
 "cells": [
  {
   "cell_type": "markdown",
   "id": "0302df6c",
   "metadata": {},
   "source": [
    "# Set Up"
   ]
  },
  {
   "cell_type": "code",
   "execution_count": 1,
   "id": "8b594c32",
   "metadata": {
    "scrolled": true
   },
   "outputs": [
    {
     "name": "stdout",
     "output_type": "stream",
     "text": [
      "Requirement already satisfied: tensorflow==2.8.0 in c:\\users\\xiayu\\appdata\\local\\packages\\pythonsoftwarefoundation.python.3.10_qbz5n2kfra8p0\\localcache\\local-packages\\python310\\site-packages (2.8.0)\n",
      "Requirement already satisfied: tensorflow-gpu==2.8.0 in c:\\users\\xiayu\\appdata\\local\\packages\\pythonsoftwarefoundation.python.3.10_qbz5n2kfra8p0\\localcache\\local-packages\\python310\\site-packages (2.8.0)\n",
      "Requirement already satisfied: opencv-python in c:\\users\\xiayu\\appdata\\local\\packages\\pythonsoftwarefoundation.python.3.10_qbz5n2kfra8p0\\localcache\\local-packages\\python310\\site-packages (4.7.0.72)\n",
      "Requirement already satisfied: matplotlib in c:\\users\\xiayu\\appdata\\local\\packages\\pythonsoftwarefoundation.python.3.10_qbz5n2kfra8p0\\localcache\\local-packages\\python310\\site-packages (3.7.2)\n",
      "Requirement already satisfied: absl-py>=0.4.0 in c:\\users\\xiayu\\appdata\\local\\packages\\pythonsoftwarefoundation.python.3.10_qbz5n2kfra8p0\\localcache\\local-packages\\python310\\site-packages (from tensorflow==2.8.0) (1.4.0)\n",
      "Requirement already satisfied: astunparse>=1.6.0 in c:\\users\\xiayu\\appdata\\local\\packages\\pythonsoftwarefoundation.python.3.10_qbz5n2kfra8p0\\localcache\\local-packages\\python310\\site-packages (from tensorflow==2.8.0) (1.6.3)\n",
      "Requirement already satisfied: flatbuffers>=1.12 in c:\\users\\xiayu\\appdata\\local\\packages\\pythonsoftwarefoundation.python.3.10_qbz5n2kfra8p0\\localcache\\local-packages\\python310\\site-packages (from tensorflow==2.8.0) (23.1.21)\n",
      "Requirement already satisfied: gast>=0.2.1 in c:\\users\\xiayu\\appdata\\local\\packages\\pythonsoftwarefoundation.python.3.10_qbz5n2kfra8p0\\localcache\\local-packages\\python310\\site-packages (from tensorflow==2.8.0) (0.4.0)\n",
      "Requirement already satisfied: google-pasta>=0.1.1 in c:\\users\\xiayu\\appdata\\local\\packages\\pythonsoftwarefoundation.python.3.10_qbz5n2kfra8p0\\localcache\\local-packages\\python310\\site-packages (from tensorflow==2.8.0) (0.2.0)\n",
      "Requirement already satisfied: h5py>=2.9.0 in c:\\users\\xiayu\\appdata\\local\\packages\\pythonsoftwarefoundation.python.3.10_qbz5n2kfra8p0\\localcache\\local-packages\\python310\\site-packages (from tensorflow==2.8.0) (3.8.0)\n",
      "Requirement already satisfied: keras-preprocessing>=1.1.1 in c:\\users\\xiayu\\appdata\\local\\packages\\pythonsoftwarefoundation.python.3.10_qbz5n2kfra8p0\\localcache\\local-packages\\python310\\site-packages (from tensorflow==2.8.0) (1.1.2)\n",
      "Requirement already satisfied: libclang>=9.0.1 in c:\\users\\xiayu\\appdata\\local\\packages\\pythonsoftwarefoundation.python.3.10_qbz5n2kfra8p0\\localcache\\local-packages\\python310\\site-packages (from tensorflow==2.8.0) (15.0.6.1)\n",
      "Requirement already satisfied: numpy>=1.20 in c:\\users\\xiayu\\appdata\\local\\packages\\pythonsoftwarefoundation.python.3.10_qbz5n2kfra8p0\\localcache\\local-packages\\python310\\site-packages (from tensorflow==2.8.0) (1.23.5)\n",
      "Requirement already satisfied: opt-einsum>=2.3.2 in c:\\users\\xiayu\\appdata\\local\\packages\\pythonsoftwarefoundation.python.3.10_qbz5n2kfra8p0\\localcache\\local-packages\\python310\\site-packages (from tensorflow==2.8.0) (3.3.0)\n",
      "Requirement already satisfied: protobuf>=3.9.2 in c:\\users\\xiayu\\appdata\\local\\packages\\pythonsoftwarefoundation.python.3.10_qbz5n2kfra8p0\\localcache\\local-packages\\python310\\site-packages (from tensorflow==2.8.0) (3.20.0)\n",
      "Requirement already satisfied: setuptools in c:\\users\\xiayu\\appdata\\local\\packages\\pythonsoftwarefoundation.python.3.10_qbz5n2kfra8p0\\localcache\\local-packages\\python310\\site-packages (from tensorflow==2.8.0) (68.0.0)\n",
      "Requirement already satisfied: six>=1.12.0 in c:\\users\\xiayu\\appdata\\local\\packages\\pythonsoftwarefoundation.python.3.10_qbz5n2kfra8p0\\localcache\\local-packages\\python310\\site-packages (from tensorflow==2.8.0) (1.16.0)\n",
      "Requirement already satisfied: termcolor>=1.1.0 in c:\\users\\xiayu\\appdata\\local\\packages\\pythonsoftwarefoundation.python.3.10_qbz5n2kfra8p0\\localcache\\local-packages\\python310\\site-packages (from tensorflow==2.8.0) (2.2.0)\n",
      "Requirement already satisfied: typing-extensions>=3.6.6 in c:\\users\\xiayu\\appdata\\local\\packages\\pythonsoftwarefoundation.python.3.10_qbz5n2kfra8p0\\localcache\\local-packages\\python310\\site-packages (from tensorflow==2.8.0) (4.7.1)\n",
      "Requirement already satisfied: wrapt>=1.11.0 in c:\\users\\xiayu\\appdata\\local\\packages\\pythonsoftwarefoundation.python.3.10_qbz5n2kfra8p0\\localcache\\local-packages\\python310\\site-packages (from tensorflow==2.8.0) (1.14.1)\n",
      "Requirement already satisfied: tensorboard<2.9,>=2.8 in c:\\users\\xiayu\\appdata\\local\\packages\\pythonsoftwarefoundation.python.3.10_qbz5n2kfra8p0\\localcache\\local-packages\\python310\\site-packages (from tensorflow==2.8.0) (2.8.0)\n",
      "Requirement already satisfied: tf-estimator-nightly==2.8.0.dev2021122109 in c:\\users\\xiayu\\appdata\\local\\packages\\pythonsoftwarefoundation.python.3.10_qbz5n2kfra8p0\\localcache\\local-packages\\python310\\site-packages (from tensorflow==2.8.0) (2.8.0.dev2021122109)\n",
      "Requirement already satisfied: keras<2.9,>=2.8.0rc0 in c:\\users\\xiayu\\appdata\\local\\packages\\pythonsoftwarefoundation.python.3.10_qbz5n2kfra8p0\\localcache\\local-packages\\python310\\site-packages (from tensorflow==2.8.0) (2.8.0)\n",
      "Requirement already satisfied: tensorflow-io-gcs-filesystem>=0.23.1 in c:\\users\\xiayu\\appdata\\local\\packages\\pythonsoftwarefoundation.python.3.10_qbz5n2kfra8p0\\localcache\\local-packages\\python310\\site-packages (from tensorflow==2.8.0) (0.30.0)\n",
      "Requirement already satisfied: grpcio<2.0,>=1.24.3 in c:\\users\\xiayu\\appdata\\local\\packages\\pythonsoftwarefoundation.python.3.10_qbz5n2kfra8p0\\localcache\\local-packages\\python310\\site-packages (from tensorflow==2.8.0) (1.51.1)\n",
      "Requirement already satisfied: contourpy>=1.0.1 in c:\\users\\xiayu\\appdata\\local\\packages\\pythonsoftwarefoundation.python.3.10_qbz5n2kfra8p0\\localcache\\local-packages\\python310\\site-packages (from matplotlib) (1.1.0)\n",
      "Requirement already satisfied: cycler>=0.10 in c:\\users\\xiayu\\appdata\\local\\packages\\pythonsoftwarefoundation.python.3.10_qbz5n2kfra8p0\\localcache\\local-packages\\python310\\site-packages (from matplotlib) (0.11.0)\n",
      "Requirement already satisfied: fonttools>=4.22.0 in c:\\users\\xiayu\\appdata\\local\\packages\\pythonsoftwarefoundation.python.3.10_qbz5n2kfra8p0\\localcache\\local-packages\\python310\\site-packages (from matplotlib) (4.40.0)\n",
      "Requirement already satisfied: kiwisolver>=1.0.1 in c:\\users\\xiayu\\appdata\\local\\packages\\pythonsoftwarefoundation.python.3.10_qbz5n2kfra8p0\\localcache\\local-packages\\python310\\site-packages (from matplotlib) (1.4.4)\n",
      "Requirement already satisfied: packaging>=20.0 in c:\\users\\xiayu\\appdata\\local\\packages\\pythonsoftwarefoundation.python.3.10_qbz5n2kfra8p0\\localcache\\local-packages\\python310\\site-packages (from matplotlib) (23.0)\n",
      "Requirement already satisfied: pillow>=6.2.0 in c:\\users\\xiayu\\appdata\\local\\packages\\pythonsoftwarefoundation.python.3.10_qbz5n2kfra8p0\\localcache\\local-packages\\python310\\site-packages (from matplotlib) (9.5.0)\n",
      "Requirement already satisfied: pyparsing<3.1,>=2.3.1 in c:\\users\\xiayu\\appdata\\local\\packages\\pythonsoftwarefoundation.python.3.10_qbz5n2kfra8p0\\localcache\\local-packages\\python310\\site-packages (from matplotlib) (3.0.9)\n",
      "Requirement already satisfied: python-dateutil>=2.7 in c:\\users\\xiayu\\appdata\\local\\packages\\pythonsoftwarefoundation.python.3.10_qbz5n2kfra8p0\\localcache\\local-packages\\python310\\site-packages (from matplotlib) (2.8.2)\n",
      "Requirement already satisfied: wheel<1.0,>=0.23.0 in c:\\users\\xiayu\\appdata\\local\\packages\\pythonsoftwarefoundation.python.3.10_qbz5n2kfra8p0\\localcache\\local-packages\\python310\\site-packages (from astunparse>=1.6.0->tensorflow==2.8.0) (0.38.4)\n",
      "Requirement already satisfied: google-auth<3,>=1.6.3 in c:\\users\\xiayu\\appdata\\local\\packages\\pythonsoftwarefoundation.python.3.10_qbz5n2kfra8p0\\localcache\\local-packages\\python310\\site-packages (from tensorboard<2.9,>=2.8->tensorflow==2.8.0) (2.22.0)\n",
      "Requirement already satisfied: google-auth-oauthlib<0.5,>=0.4.1 in c:\\users\\xiayu\\appdata\\local\\packages\\pythonsoftwarefoundation.python.3.10_qbz5n2kfra8p0\\localcache\\local-packages\\python310\\site-packages (from tensorboard<2.9,>=2.8->tensorflow==2.8.0) (0.4.6)\n",
      "Requirement already satisfied: markdown>=2.6.8 in c:\\users\\xiayu\\appdata\\local\\packages\\pythonsoftwarefoundation.python.3.10_qbz5n2kfra8p0\\localcache\\local-packages\\python310\\site-packages (from tensorboard<2.9,>=2.8->tensorflow==2.8.0) (3.4.1)\n",
      "Requirement already satisfied: requests<3,>=2.21.0 in c:\\users\\xiayu\\appdata\\local\\packages\\pythonsoftwarefoundation.python.3.10_qbz5n2kfra8p0\\localcache\\local-packages\\python310\\site-packages (from tensorboard<2.9,>=2.8->tensorflow==2.8.0) (2.31.0)\n",
      "Requirement already satisfied: tensorboard-data-server<0.7.0,>=0.6.0 in c:\\users\\xiayu\\appdata\\local\\packages\\pythonsoftwarefoundation.python.3.10_qbz5n2kfra8p0\\localcache\\local-packages\\python310\\site-packages (from tensorboard<2.9,>=2.8->tensorflow==2.8.0) (0.6.1)\n",
      "Requirement already satisfied: tensorboard-plugin-wit>=1.6.0 in c:\\users\\xiayu\\appdata\\local\\packages\\pythonsoftwarefoundation.python.3.10_qbz5n2kfra8p0\\localcache\\local-packages\\python310\\site-packages (from tensorboard<2.9,>=2.8->tensorflow==2.8.0) (1.8.1)\n",
      "Requirement already satisfied: werkzeug>=0.11.15 in c:\\users\\xiayu\\appdata\\local\\packages\\pythonsoftwarefoundation.python.3.10_qbz5n2kfra8p0\\localcache\\local-packages\\python310\\site-packages (from tensorboard<2.9,>=2.8->tensorflow==2.8.0) (2.2.2)\n",
      "Requirement already satisfied: cachetools<6.0,>=2.0.0 in c:\\users\\xiayu\\appdata\\local\\packages\\pythonsoftwarefoundation.python.3.10_qbz5n2kfra8p0\\localcache\\local-packages\\python310\\site-packages (from google-auth<3,>=1.6.3->tensorboard<2.9,>=2.8->tensorflow==2.8.0) (4.2.4)\n",
      "Requirement already satisfied: pyasn1-modules>=0.2.1 in c:\\users\\xiayu\\appdata\\local\\packages\\pythonsoftwarefoundation.python.3.10_qbz5n2kfra8p0\\localcache\\local-packages\\python310\\site-packages (from google-auth<3,>=1.6.3->tensorboard<2.9,>=2.8->tensorflow==2.8.0) (0.2.8)\n",
      "Requirement already satisfied: rsa<5,>=3.1.4 in c:\\users\\xiayu\\appdata\\local\\packages\\pythonsoftwarefoundation.python.3.10_qbz5n2kfra8p0\\localcache\\local-packages\\python310\\site-packages (from google-auth<3,>=1.6.3->tensorboard<2.9,>=2.8->tensorflow==2.8.0) (4.9)\n",
      "Requirement already satisfied: urllib3<2.0 in c:\\users\\xiayu\\appdata\\local\\packages\\pythonsoftwarefoundation.python.3.10_qbz5n2kfra8p0\\localcache\\local-packages\\python310\\site-packages (from google-auth<3,>=1.6.3->tensorboard<2.9,>=2.8->tensorflow==2.8.0) (1.26.13)\n",
      "Requirement already satisfied: requests-oauthlib>=0.7.0 in c:\\users\\xiayu\\appdata\\local\\packages\\pythonsoftwarefoundation.python.3.10_qbz5n2kfra8p0\\localcache\\local-packages\\python310\\site-packages (from google-auth-oauthlib<0.5,>=0.4.1->tensorboard<2.9,>=2.8->tensorflow==2.8.0) (1.3.1)\n",
      "Requirement already satisfied: charset-normalizer<4,>=2 in c:\\users\\xiayu\\appdata\\local\\packages\\pythonsoftwarefoundation.python.3.10_qbz5n2kfra8p0\\localcache\\local-packages\\python310\\site-packages (from requests<3,>=2.21.0->tensorboard<2.9,>=2.8->tensorflow==2.8.0) (2.1.1)\n",
      "Requirement already satisfied: idna<4,>=2.5 in c:\\users\\xiayu\\appdata\\local\\packages\\pythonsoftwarefoundation.python.3.10_qbz5n2kfra8p0\\localcache\\local-packages\\python310\\site-packages (from requests<3,>=2.21.0->tensorboard<2.9,>=2.8->tensorflow==2.8.0) (3.4)\n",
      "Requirement already satisfied: certifi>=2017.4.17 in c:\\users\\xiayu\\appdata\\local\\packages\\pythonsoftwarefoundation.python.3.10_qbz5n2kfra8p0\\localcache\\local-packages\\python310\\site-packages (from requests<3,>=2.21.0->tensorboard<2.9,>=2.8->tensorflow==2.8.0) (2022.12.7)\n",
      "Requirement already satisfied: MarkupSafe>=2.1.1 in c:\\users\\xiayu\\appdata\\local\\packages\\pythonsoftwarefoundation.python.3.10_qbz5n2kfra8p0\\localcache\\local-packages\\python310\\site-packages (from werkzeug>=0.11.15->tensorboard<2.9,>=2.8->tensorflow==2.8.0) (2.1.2)\n",
      "Requirement already satisfied: pyasn1<0.5.0,>=0.4.6 in c:\\users\\xiayu\\appdata\\local\\packages\\pythonsoftwarefoundation.python.3.10_qbz5n2kfra8p0\\localcache\\local-packages\\python310\\site-packages (from pyasn1-modules>=0.2.1->google-auth<3,>=1.6.3->tensorboard<2.9,>=2.8->tensorflow==2.8.0) (0.4.8)\n",
      "Requirement already satisfied: oauthlib>=3.0.0 in c:\\users\\xiayu\\appdata\\local\\packages\\pythonsoftwarefoundation.python.3.10_qbz5n2kfra8p0\\localcache\\local-packages\\python310\\site-packages (from requests-oauthlib>=0.7.0->google-auth-oauthlib<0.5,>=0.4.1->tensorboard<2.9,>=2.8->tensorflow==2.8.0) (3.2.2)\n"
     ]
    },
    {
     "name": "stderr",
     "output_type": "stream",
     "text": [
      "WARNING: Ignoring invalid distribution -rotobuf (c:\\users\\xiayu\\appdata\\local\\packages\\pythonsoftwarefoundation.python.3.10_qbz5n2kfra8p0\\localcache\\local-packages\\python310\\site-packages)\n",
      "WARNING: Ignoring invalid distribution -rotobuf (c:\\users\\xiayu\\appdata\\local\\packages\\pythonsoftwarefoundation.python.3.10_qbz5n2kfra8p0\\localcache\\local-packages\\python310\\site-packages)\n",
      "\n",
      "[notice] A new release of pip is available: 23.2 -> 23.2.1\n",
      "[notice] To update, run: C:\\Users\\xiayu\\AppData\\Local\\Microsoft\\WindowsApps\\PythonSoftwareFoundation.Python.3.10_qbz5n2kfra8p0\\python.exe -m pip install --upgrade pip\n"
     ]
    }
   ],
   "source": [
    "!pip install tensorflow==2.8.0 tensorflow-gpu==2.8.0 opencv-python matplotlib"
   ]
  },
  {
   "cell_type": "code",
   "execution_count": 2,
   "id": "6d7444eb",
   "metadata": {},
   "outputs": [],
   "source": [
    "# !python -m pip install tensorflow"
   ]
  },
  {
   "cell_type": "code",
   "execution_count": 3,
   "id": "a3866415",
   "metadata": {
    "scrolled": false
   },
   "outputs": [],
   "source": [
    "#!pip install tensorflow-gpu==2.12.0"
   ]
  },
  {
   "cell_type": "code",
   "execution_count": 4,
   "id": "737e1c18",
   "metadata": {},
   "outputs": [],
   "source": [
    "#!pip install protobuf==3.20.0"
   ]
  },
  {
   "cell_type": "code",
   "execution_count": 5,
   "id": "62b0b247",
   "metadata": {},
   "outputs": [],
   "source": [
    "#print(\"TensorFlow Version:\", tf.__version__)\n"
   ]
  },
  {
   "cell_type": "code",
   "execution_count": 6,
   "id": "9d503880",
   "metadata": {},
   "outputs": [],
   "source": [
    "# import tensorflow as tf\n",
    "\n",
    "# print(\"TensorFlow-GPU version:\", tf.__version__)\n"
   ]
  },
  {
   "cell_type": "code",
   "execution_count": 7,
   "id": "afc80d62",
   "metadata": {},
   "outputs": [],
   "source": [
    "import cv2\n",
    "import os\n",
    "import random\n",
    "import numpy as np\n",
    "from matplotlib import pyplot as plt"
   ]
  },
  {
   "cell_type": "code",
   "execution_count": 8,
   "id": "0f64fece",
   "metadata": {},
   "outputs": [],
   "source": [
    "plt.imshow??"
   ]
  },
  {
   "cell_type": "code",
   "execution_count": 9,
   "id": "c3c718ff",
   "metadata": {},
   "outputs": [],
   "source": [
    "#functional api import \n",
    "from tensorflow.keras.models import Model\n",
    "from tensorflow.keras.layers import Layer, Conv2D, Dense, MaxPooling2D, Input, Flatten\n",
    "import tensorflow as tf"
   ]
  },
  {
   "cell_type": "markdown",
   "id": "405eaf57",
   "metadata": {},
   "source": [
    "# Folder Structures"
   ]
  },
  {
   "cell_type": "code",
   "execution_count": 10,
   "id": "a00ccc24",
   "metadata": {},
   "outputs": [],
   "source": [
    "POS_PATH = os.path.join('data', 'positive')\n",
    "NEG_PATH = os.path.join('data', 'negative')\n",
    "ANC_PATH = os.path.join('data', 'anchor')"
   ]
  },
  {
   "cell_type": "code",
   "execution_count": 11,
   "id": "5d39f0f1",
   "metadata": {},
   "outputs": [],
   "source": [
    "os.makedirs(POS_PATH, exist_ok = True)\n",
    "os.makedirs(NEG_PATH, exist_ok = True)\n",
    "os.makedirs(ANC_PATH, exist_ok = True)"
   ]
  },
  {
   "cell_type": "markdown",
   "id": "5b10230c",
   "metadata": {},
   "source": [
    "# Collect positive and anchors"
   ]
  },
  {
   "cell_type": "code",
   "execution_count": 12,
   "id": "1c8a5800",
   "metadata": {},
   "outputs": [],
   "source": [
    "#Uncompress the GZ file\n",
    "# !tar -xf lfw.tgz"
   ]
  },
  {
   "cell_type": "markdown",
   "id": "36b0f884",
   "metadata": {},
   "source": [
    "# Move the Images to data/negative"
   ]
  },
  {
   "cell_type": "code",
   "execution_count": 13,
   "id": "a5dbf08a",
   "metadata": {},
   "outputs": [],
   "source": [
    "# for directory in os.listdir('lfw'):\n",
    "#     directory_path = os.path.join('lfw', directory)\n",
    "#     for file in os.listdir(directory_path):\n",
    "#         EX_PATH = os.path.join('lfw', directory, file)\n",
    "#         NEW_PATH = os.path.join(NEG_PATH, file)\n",
    "#         os.replace(EX_PATH, NEW_PATH)"
   ]
  },
  {
   "cell_type": "markdown",
   "id": "4bddbd92",
   "metadata": {},
   "source": [
    "# Collect Positive and Anchor Classes"
   ]
  },
  {
   "cell_type": "code",
   "execution_count": 14,
   "id": "7bb67767",
   "metadata": {},
   "outputs": [],
   "source": [
    "#get unique id\n",
    "import uuid"
   ]
  },
  {
   "cell_type": "code",
   "execution_count": 15,
   "id": "0ce002e1",
   "metadata": {},
   "outputs": [
    {
     "data": {
      "text/plain": [
       "UUID('3bbaf984-3213-11ee-b153-c4bde5784b6d')"
      ]
     },
     "execution_count": 15,
     "metadata": {},
     "output_type": "execute_result"
    }
   ],
   "source": [
    "uuid.uuid1()"
   ]
  },
  {
   "cell_type": "code",
   "execution_count": 16,
   "id": "a013299b",
   "metadata": {},
   "outputs": [],
   "source": [
    "cap = cv2.VideoCapture(0)\n",
    "while cap.isOpened():\n",
    "    ret, frame = cap.read()\n",
    "    #resize frame\n",
    "    frame = frame[100:120+250, 200:200+250, :]\n",
    "    \n",
    "    #collect anchors\n",
    "    if cv2.waitKey(1) & 0XFF == ord('a'):\n",
    "        #unique name\n",
    "        imgname = os.path.join(ANC_PATH, '{}.jpg'.format(uuid.uuid1()))\n",
    "        #write img\n",
    "        cv2.imwrite(imgname, frame)\n",
    "        \n",
    "        \n",
    "    #collect positives\n",
    "    if cv2.waitKey(1) & 0XFF == ord('p'):\n",
    "         imgname = os.path.join(POS_PATH, '{}.jpg'.format(uuid.uuid1()))\n",
    "         #write img\n",
    "         cv2.imwrite(imgname, frame)\n",
    "\n",
    "    cv2.imshow(\"Image Collection\", frame)\n",
    "    \n",
    "    if cv2.waitKey(1) & 0XFF == ord('q'):\n",
    "        break\n",
    "        \n",
    "#release webcam and close image show frame\n",
    "cap.release()\n",
    "cv2.destroyAllWindows()"
   ]
  },
  {
   "cell_type": "code",
   "execution_count": 17,
   "id": "59155c8f",
   "metadata": {},
   "outputs": [
    {
     "data": {
      "text/plain": [
       "(270, 250, 3)"
      ]
     },
     "execution_count": 17,
     "metadata": {},
     "output_type": "execute_result"
    }
   ],
   "source": [
    "frame.shape"
   ]
  },
  {
   "cell_type": "code",
   "execution_count": 18,
   "id": "54e349d1",
   "metadata": {},
   "outputs": [
    {
     "data": {
      "text/plain": [
       "<matplotlib.image.AxesImage at 0x21103390d90>"
      ]
     },
     "execution_count": 18,
     "metadata": {},
     "output_type": "execute_result"
    },
    {
     "data": {
      "image/png": "[encoded data removed]",
      "text/plain": [
       "<Figure size 640x480 with 1 Axes>"
      ]
     },
     "metadata": {},
     "output_type": "display_data"
    }
   ],
   "source": [
    "plt.imshow(frame[100:120+250, 200:200+250, :])"
   ]
  },
  {
   "cell_type": "markdown",
   "id": "d5a3d0cc",
   "metadata": {},
   "source": [
    "# Get Image Directories"
   ]
  },
  {
   "cell_type": "code",
   "execution_count": 19,
   "id": "894c65e7",
   "metadata": {},
   "outputs": [],
   "source": [
    "anchor = tf.data.Dataset.list_files(ANC_PATH + '\\*.jpg').take(300)\n",
    "positive = tf.data.Dataset.list_files(POS_PATH + '\\*.jpg').take(300)\n",
    "negative = tf.data.Dataset.list_files(NEG_PATH + '\\*.jpg').take(300)"
   ]
  },
  {
   "cell_type": "code",
   "execution_count": 20,
   "id": "2932acfb",
   "metadata": {},
   "outputs": [],
   "source": [
    "dir_test = anchor.as_numpy_iterator()"
   ]
  },
  {
   "cell_type": "code",
   "execution_count": 21,
   "id": "6fdf88f5",
   "metadata": {},
   "outputs": [
    {
     "data": {
      "text/plain": [
       "b'data\\\\anchor\\\\0007fa7c-3009-11ee-ab5c-c4bde5784b6d.jpg'"
      ]
     },
     "execution_count": 21,
     "metadata": {},
     "output_type": "execute_result"
    }
   ],
   "source": [
    "dir_test.next()"
   ]
  },
  {
   "cell_type": "markdown",
   "id": "78ed528e",
   "metadata": {},
   "source": [
    "# Preprocessing"
   ]
  },
  {
   "cell_type": "code",
   "execution_count": 22,
   "id": "ba886f5b",
   "metadata": {},
   "outputs": [],
   "source": [
    "def preprocess(file_path):\n",
    "    byte_img = tf.io.read_file(file_path)\n",
    "    img = tf.io.decode_jpeg(byte_img)\n",
    "    #Preprocessing resizing the image to be 100X100X3\n",
    "    img = tf.image.resize(img, (100,100))\n",
    "    #scale image to be between 0 and 1\n",
    "    img = img /255.0\n",
    "    return img"
   ]
  },
  {
   "cell_type": "code",
   "execution_count": 23,
   "id": "5fe7dc65",
   "metadata": {},
   "outputs": [],
   "source": [
    "img = preprocess('data\\\\anchor\\\\ffee009d-3008-11ee-9149-c4bde5784b6d.jpg')"
   ]
  },
  {
   "cell_type": "code",
   "execution_count": 24,
   "id": "e34964a6",
   "metadata": {},
   "outputs": [
    {
     "data": {
      "text/plain": [
       "0.8734313"
      ]
     },
     "execution_count": 24,
     "metadata": {},
     "output_type": "execute_result"
    }
   ],
   "source": [
    "img.numpy().max()"
   ]
  },
  {
   "cell_type": "code",
   "execution_count": 25,
   "id": "05650a83",
   "metadata": {},
   "outputs": [
    {
     "data": {
      "text/plain": [
       "<matplotlib.image.AxesImage at 0x2110bcd50f0>"
      ]
     },
     "execution_count": 25,
     "metadata": {},
     "output_type": "execute_result"
    },
    {
     "data": {
      "image/png": "[encoded data removed]",
      "text/plain": [
       "<Figure size 640x480 with 1 Axes>"
      ]
     },
     "metadata": {},
     "output_type": "display_data"
    }
   ],
   "source": [
    "plt.imshow(img)"
   ]
  },
  {
   "cell_type": "markdown",
   "id": "24035edd",
   "metadata": {},
   "source": [
    "# Create Labelled Dataset"
   ]
  },
  {
   "cell_type": "code",
   "execution_count": 26,
   "id": "01a504ab",
   "metadata": {},
   "outputs": [],
   "source": [
    "# (anchor, positive) => 1,1,1,1\n",
    "# (anchor, negative) => 0,0,0,0"
   ]
  },
  {
   "cell_type": "code",
   "execution_count": 27,
   "id": "962632df",
   "metadata": {},
   "outputs": [],
   "source": [
    "positives = tf.data.Dataset.zip((anchor,positive, tf.data.Dataset.from_tensor_slices(tf.ones(len(anchor)))))\n",
    "negatives = tf.data.Dataset.zip((anchor,negative, tf.data.Dataset.from_tensor_slices(tf.zeros(len(anchor)))))\n",
    "data = positives.concatenate(negatives)"
   ]
  },
  {
   "cell_type": "code",
   "execution_count": 28,
   "id": "7fdee7c7",
   "metadata": {},
   "outputs": [
    {
     "data": {
      "text/plain": [
       "<tf.Tensor: shape=(300,), dtype=float32, numpy=\n",
       "array([1., 1., 1., 1., 1., 1., 1., 1., 1., 1., 1., 1., 1., 1., 1., 1., 1.,\n",
       "       1., 1., 1., 1., 1., 1., 1., 1., 1., 1., 1., 1., 1., 1., 1., 1., 1.,\n",
       "       1., 1., 1., 1., 1., 1., 1., 1., 1., 1., 1., 1., 1., 1., 1., 1., 1.,\n",
       "       1., 1., 1., 1., 1., 1., 1., 1., 1., 1., 1., 1., 1., 1., 1., 1., 1.,\n",
       "       1., 1., 1., 1., 1., 1., 1., 1., 1., 1., 1., 1., 1., 1., 1., 1., 1.,\n",
       "       1., 1., 1., 1., 1., 1., 1., 1., 1., 1., 1., 1., 1., 1., 1., 1., 1.,\n",
       "       1., 1., 1., 1., 1., 1., 1., 1., 1., 1., 1., 1., 1., 1., 1., 1., 1.,\n",
       "       1., 1., 1., 1., 1., 1., 1., 1., 1., 1., 1., 1., 1., 1., 1., 1., 1.,\n",
       "       1., 1., 1., 1., 1., 1., 1., 1., 1., 1., 1., 1., 1., 1., 1., 1., 1.,\n",
       "       1., 1., 1., 1., 1., 1., 1., 1., 1., 1., 1., 1., 1., 1., 1., 1., 1.,\n",
       "       1., 1., 1., 1., 1., 1., 1., 1., 1., 1., 1., 1., 1., 1., 1., 1., 1.,\n",
       "       1., 1., 1., 1., 1., 1., 1., 1., 1., 1., 1., 1., 1., 1., 1., 1., 1.,\n",
       "       1., 1., 1., 1., 1., 1., 1., 1., 1., 1., 1., 1., 1., 1., 1., 1., 1.,\n",
       "       1., 1., 1., 1., 1., 1., 1., 1., 1., 1., 1., 1., 1., 1., 1., 1., 1.,\n",
       "       1., 1., 1., 1., 1., 1., 1., 1., 1., 1., 1., 1., 1., 1., 1., 1., 1.,\n",
       "       1., 1., 1., 1., 1., 1., 1., 1., 1., 1., 1., 1., 1., 1., 1., 1., 1.,\n",
       "       1., 1., 1., 1., 1., 1., 1., 1., 1., 1., 1., 1., 1., 1., 1., 1., 1.,\n",
       "       1., 1., 1., 1., 1., 1., 1., 1., 1., 1., 1.], dtype=float32)>"
      ]
     },
     "execution_count": 28,
     "metadata": {},
     "output_type": "execute_result"
    }
   ],
   "source": [
    "tf.ones(len(anchor))"
   ]
  },
  {
   "cell_type": "code",
   "execution_count": 29,
   "id": "e95d1d6b",
   "metadata": {},
   "outputs": [],
   "source": [
    "example = data.as_numpy_iterator()"
   ]
  },
  {
   "cell_type": "code",
   "execution_count": 30,
   "id": "bec44580",
   "metadata": {},
   "outputs": [],
   "source": [
    "sample = example.next()"
   ]
  },
  {
   "cell_type": "markdown",
   "id": "53da49da",
   "metadata": {},
   "source": [
    "# Build Train and Test Partition"
   ]
  },
  {
   "cell_type": "code",
   "execution_count": 31,
   "id": "9852cc63",
   "metadata": {},
   "outputs": [],
   "source": [
    "def preprocess_twin(input_img, validation_img, label):\n",
    "    return(preprocess(input_img), preprocess(validation_img), label)"
   ]
  },
  {
   "cell_type": "code",
   "execution_count": 32,
   "id": "139181c7",
   "metadata": {
    "scrolled": true
   },
   "outputs": [],
   "source": [
    "res = preprocess_twin(*sample)"
   ]
  },
  {
   "cell_type": "code",
   "execution_count": 33,
   "id": "66a2bdea",
   "metadata": {},
   "outputs": [
    {
     "data": {
      "text/plain": [
       "<matplotlib.image.AxesImage at 0x21113d69ff0>"
      ]
     },
     "execution_count": 33,
     "metadata": {},
     "output_type": "execute_result"
    },
    {
     "data": {
      "image/png": "[encoded data removed]",
      "text/plain": [
       "<Figure size 640x480 with 1 Axes>"
      ]
     },
     "metadata": {},
     "output_type": "display_data"
    }
   ],
   "source": [
    "plt.imshow(res[0])"
   ]
  },
  {
   "cell_type": "code",
   "execution_count": 34,
   "id": "e4529e91",
   "metadata": {},
   "outputs": [
    {
     "data": {
      "text/plain": [
       "<matplotlib.image.AxesImage at 0x21114602020>"
      ]
     },
     "execution_count": 34,
     "metadata": {},
     "output_type": "execute_result"
    },
    {
     "data": {
      "image/png": "[encoded data removed]",
      "text/plain": [
       "<Figure size 640x480 with 1 Axes>"
      ]
     },
     "metadata": {},
     "output_type": "display_data"
    }
   ],
   "source": [
    "plt.imshow(res[1])"
   ]
  },
  {
   "cell_type": "code",
   "execution_count": 35,
   "id": "c8aa4e28",
   "metadata": {},
   "outputs": [
    {
     "data": {
      "text/plain": [
       "1.0"
      ]
     },
     "execution_count": 35,
     "metadata": {},
     "output_type": "execute_result"
    }
   ],
   "source": [
    "res[2]"
   ]
  },
  {
   "cell_type": "code",
   "execution_count": 36,
   "id": "c699bf5c",
   "metadata": {},
   "outputs": [],
   "source": [
    "#Build dataLoader Pipeline\n",
    "data = data.map(preprocess_twin)\n",
    "data = data.cache()\n",
    "data = data.shuffle(buffer_size=1024)"
   ]
  },
  {
   "cell_type": "code",
   "execution_count": 37,
   "id": "d7024931",
   "metadata": {},
   "outputs": [],
   "source": [
    "samples = data.as_numpy_iterator()"
   ]
  },
  {
   "cell_type": "code",
   "execution_count": 38,
   "id": "0a4b8555",
   "metadata": {
    "scrolled": true
   },
   "outputs": [],
   "source": [
    "sam = samples.next()"
   ]
  },
  {
   "cell_type": "code",
   "execution_count": 39,
   "id": "1b8d2598",
   "metadata": {},
   "outputs": [
    {
     "data": {
      "text/plain": [
       "3"
      ]
     },
     "execution_count": 39,
     "metadata": {},
     "output_type": "execute_result"
    }
   ],
   "source": [
    "len(sam)"
   ]
  },
  {
   "cell_type": "code",
   "execution_count": 40,
   "id": "0dedc35c",
   "metadata": {},
   "outputs": [
    {
     "data": {
      "text/plain": [
       "<matplotlib.image.AxesImage at 0x211146c9420>"
      ]
     },
     "execution_count": 40,
     "metadata": {},
     "output_type": "execute_result"
    },
    {
     "data": {
      "image/png": "[encoded data removed]",
      "text/plain": [
       "<Figure size 640x480 with 1 Axes>"
      ]
     },
     "metadata": {},
     "output_type": "display_data"
    }
   ],
   "source": [
    "plt.imshow(sam[0])"
   ]
  },
  {
   "cell_type": "code",
   "execution_count": 41,
   "id": "10ba9b97",
   "metadata": {},
   "outputs": [
    {
     "data": {
      "text/plain": [
       "<matplotlib.image.AxesImage at 0x211147748b0>"
      ]
     },
     "execution_count": 41,
     "metadata": {},
     "output_type": "execute_result"
    },
    {
     "data": {
      "image/png": "[encoded data removed]",
      "text/plain": [
       "<Figure size 640x480 with 1 Axes>"
      ]
     },
     "metadata": {},
     "output_type": "display_data"
    }
   ],
   "source": [
    "plt.imshow(sam[1])"
   ]
  },
  {
   "cell_type": "code",
   "execution_count": 42,
   "id": "4994f3f1",
   "metadata": {},
   "outputs": [
    {
     "data": {
      "text/plain": [
       "0.0"
      ]
     },
     "execution_count": 42,
     "metadata": {},
     "output_type": "execute_result"
    }
   ],
   "source": [
    "sam[2]"
   ]
  },
  {
   "cell_type": "code",
   "execution_count": 43,
   "id": "c5bc66ff",
   "metadata": {},
   "outputs": [],
   "source": [
    "#Training Partition\n",
    "train_data = data.take(round(len(data)* .7))\n",
    "train_data = train_data.batch(16)\n",
    "train_data = train_data.prefetch(8)"
   ]
  },
  {
   "cell_type": "code",
   "execution_count": 44,
   "id": "66691fec",
   "metadata": {},
   "outputs": [
    {
     "data": {
      "text/plain": [
       "<ShuffleDataset element_spec=(TensorSpec(shape=(100, 100, None), dtype=tf.float32, name=None), TensorSpec(shape=(100, 100, None), dtype=tf.float32, name=None), TensorSpec(shape=(), dtype=tf.float32, name=None))>"
      ]
     },
     "execution_count": 44,
     "metadata": {},
     "output_type": "execute_result"
    }
   ],
   "source": [
    "data"
   ]
  },
  {
   "cell_type": "code",
   "execution_count": 45,
   "id": "ecff256c",
   "metadata": {},
   "outputs": [],
   "source": [
    "samples = train_data.as_numpy_iterator()"
   ]
  },
  {
   "cell_type": "code",
   "execution_count": 46,
   "id": "ef1acd9e",
   "metadata": {},
   "outputs": [],
   "source": [
    "sample = samples.next()"
   ]
  },
  {
   "cell_type": "code",
   "execution_count": 47,
   "id": "88189581",
   "metadata": {},
   "outputs": [
    {
     "data": {
      "text/plain": [
       "array([[[[0.7662745 , 0.707451  , 0.59372544],\n",
       "         [0.7658334 , 0.70700985, 0.5932843 ],\n",
       "         [0.76960784, 0.7137255 , 0.6       ],\n",
       "         ...,\n",
       "         [0.7760294 , 0.725049  , 0.59955883],\n",
       "         [0.78333336, 0.7264706 , 0.6039216 ],\n",
       "         [0.7849019 , 0.7260784 , 0.59666663]],\n",
       "\n",
       "        [[0.7658824 , 0.70705885, 0.58117646],\n",
       "         [0.77254903, 0.7137255 , 0.5878431 ],\n",
       "         [0.76862746, 0.70980394, 0.58392155],\n",
       "         ...,\n",
       "         [0.77906865, 0.7259314 , 0.6069118 ],\n",
       "         [0.78200984, 0.72887254, 0.6098529 ],\n",
       "         [0.78431374, 0.72764707, 0.61039215]],\n",
       "\n",
       "        [[0.77254903, 0.7137255 , 0.58431375],\n",
       "         [0.77254903, 0.7137255 , 0.58431375],\n",
       "         [0.7732843 , 0.7144608 , 0.58504903],\n",
       "         ...,\n",
       "         [0.76862746, 0.7254902 , 0.6156863 ],\n",
       "         [0.764951  , 0.72181374, 0.6120098 ],\n",
       "         [0.78039217, 0.7254902 , 0.61960787]],\n",
       "\n",
       "        ...,\n",
       "\n",
       "        [[0.5509804 , 0.53995097, 0.49093136],\n",
       "         [0.55465686, 0.54362744, 0.4897059 ],\n",
       "         [0.575     , 0.55735296, 0.5063726 ],\n",
       "         ...,\n",
       "         [0.46666667, 0.48235294, 0.47990197],\n",
       "         [0.47181374, 0.48235294, 0.47034314],\n",
       "         [0.47254902, 0.48039216, 0.46078432]],\n",
       "\n",
       "        [[0.5264215 , 0.5255882 , 0.50784314],\n",
       "         [0.53632337, 0.5341666 , 0.5220098 ],\n",
       "         [0.54808813, 0.5413725 , 0.52759814],\n",
       "         ...,\n",
       "         [0.46656865, 0.48485294, 0.46872547],\n",
       "         [0.46950984, 0.48235294, 0.45544118],\n",
       "         [0.4745098 , 0.4831862 , 0.45156848]],\n",
       "\n",
       "        [[0.52200973, 0.5259313 , 0.50632346],\n",
       "         [0.5273039 , 0.5292647 , 0.51259804],\n",
       "         [0.5362745 , 0.5294118 , 0.53039217],\n",
       "         ...,\n",
       "         [0.46078432, 0.47843137, 0.45392156],\n",
       "         [0.46862745, 0.4745098 , 0.44382355],\n",
       "         [0.47058824, 0.47843137, 0.43529412]]],\n",
       "\n",
       "\n",
       "       [[[0.7672059 , 0.7162255 , 0.5828921 ],\n",
       "         [0.76705885, 0.71607846, 0.58274513],\n",
       "         [0.7620588 , 0.7110784 , 0.5777451 ],\n",
       "         ...,\n",
       "         [0.7701961 , 0.7270588 , 0.6094117 ],\n",
       "         [0.7735294 , 0.73039216, 0.6127451 ],\n",
       "         [0.76921564, 0.7260784 , 0.6162745 ]],\n",
       "\n",
       "        [[0.7703431 , 0.71504897, 0.58387256],\n",
       "         [0.7681863 , 0.7128922 , 0.58171564],\n",
       "         [0.76632357, 0.71000004, 0.57691175],\n",
       "         ...,\n",
       "         [0.7735294 , 0.71862745, 0.6127451 ],\n",
       "         [0.78039217, 0.7254902 , 0.61960787],\n",
       "         [0.78039217, 0.7254902 , 0.61960787]],\n",
       "\n",
       "        [[0.7683824 , 0.70955884, 0.5801471 ],\n",
       "         [0.77181375, 0.7139706 , 0.58259803],\n",
       "         [0.77181375, 0.7169118 , 0.57965684],\n",
       "         ...,\n",
       "         [0.7732843 , 0.71838236, 0.6046569 ],\n",
       "         [0.7747549 , 0.7169118 , 0.60318625],\n",
       "         [0.7823529 , 0.7235294 , 0.6098039 ]],\n",
       "\n",
       "        ...,\n",
       "\n",
       "        [[0.5647059 , 0.5352941 , 0.4715686 ],\n",
       "         [0.59313726, 0.5588235 , 0.49019608],\n",
       "         [0.63308823, 0.59289217, 0.51936275],\n",
       "         ...,\n",
       "         [0.4757353 , 0.48357844, 0.46544117],\n",
       "         [0.4764706 , 0.48431373, 0.47696078],\n",
       "         [0.4870098 , 0.49191177, 0.4968137 ]],\n",
       "\n",
       "        [[0.54779404, 0.52426463, 0.4728922 ],\n",
       "         [0.5587744 , 0.5289706 , 0.48073533],\n",
       "         [0.56921554, 0.5356862 , 0.48039216],\n",
       "         ...,\n",
       "         [0.48235294, 0.4862745 , 0.46063718],\n",
       "         [0.47921574, 0.4815197 , 0.4663235 ],\n",
       "         [0.511961  , 0.511961  , 0.5084315 ]],\n",
       "\n",
       "        [[0.5362745 , 0.5245098 , 0.46568626],\n",
       "         [0.54509807, 0.52156866, 0.46862745],\n",
       "         [0.55196077, 0.52254903, 0.47843137],\n",
       "         ...,\n",
       "         [0.4779902 , 0.48485297, 0.44465688],\n",
       "         [0.48446077, 0.48838234, 0.46289214],\n",
       "         [0.5222549 , 0.5261765 , 0.50264704]]],\n",
       "\n",
       "\n",
       "       [[[0.76862746, 0.70980394, 0.5882353 ],\n",
       "         [0.76705885, 0.7082353 , 0.5847059 ],\n",
       "         [0.7645588 , 0.70617646, 0.5758824 ],\n",
       "         ...,\n",
       "         [0.74833333, 0.69764704, 0.572451  ],\n",
       "         [0.75745094, 0.7143137 , 0.59666663],\n",
       "         [0.7629412 , 0.7198039 , 0.6021569 ]],\n",
       "\n",
       "        [[0.7603921 , 0.7058824 , 0.58215684],\n",
       "         [0.762549  , 0.7080392 , 0.58431375],\n",
       "         [0.7647059 , 0.7101961 , 0.5838235 ],\n",
       "         ...,\n",
       "         [0.6762745 , 0.62039214, 0.48509803],\n",
       "         [0.7381863 , 0.68289214, 0.55759805],\n",
       "         [0.74254906, 0.68897057, 0.5748039 ]],\n",
       "\n",
       "        [[0.7656863 , 0.7147059 , 0.5892157 ],\n",
       "         [0.76862746, 0.7137255 , 0.6       ],\n",
       "         [0.7620098 , 0.71593136, 0.5992647 ],\n",
       "         ...,\n",
       "         [0.57009804, 0.5058824 , 0.39313725],\n",
       "         [0.6477941 , 0.5921569 , 0.48137254],\n",
       "         [0.6642157 , 0.6137255 , 0.50759804]],\n",
       "\n",
       "        ...,\n",
       "\n",
       "        [[0.7414216 , 0.71887255, 0.6139706 ],\n",
       "         [0.7392157 , 0.71568626, 0.62107843],\n",
       "         [0.70759803, 0.6818628 , 0.6017157 ],\n",
       "         ...,\n",
       "         [0.42745098, 0.33259803, 0.23995098],\n",
       "         [0.42647058, 0.33970588, 0.2485294 ],\n",
       "         [0.47818628, 0.39779413, 0.30465686]],\n",
       "\n",
       "        [[0.6415187 , 0.6215188 , 0.5658327 ],\n",
       "         [0.7003425 , 0.68078375, 0.6237741 ],\n",
       "         [0.73955864, 0.71735275, 0.657696  ],\n",
       "         ...,\n",
       "         [0.44960818, 0.3878437 , 0.31647137],\n",
       "         [0.4753922 , 0.42475522, 0.3582848 ],\n",
       "         [0.49568614, 0.45681387, 0.38705912]],\n",
       "\n",
       "        [[0.5498529 , 0.5327451 , 0.50171566],\n",
       "         [0.5788726 , 0.56318635, 0.5209315 ],\n",
       "         [0.6441179 , 0.6284316 , 0.58529437],\n",
       "         ...,\n",
       "         [0.47813725, 0.457598  , 0.41225484],\n",
       "         [0.47053927, 0.4617647 , 0.4168627 ],\n",
       "         [0.46666667, 0.46725488, 0.4292156 ]]],\n",
       "\n",
       "\n",
       "       ...,\n",
       "\n",
       "\n",
       "       [[[0.77254903, 0.7137255 , 0.58431375],\n",
       "         [0.77254903, 0.7137255 , 0.58431375],\n",
       "         [0.77254903, 0.7137255 , 0.58431375],\n",
       "         ...,\n",
       "         [0.7760294 , 0.72112745, 0.6152451 ],\n",
       "         [0.7764706 , 0.72156864, 0.6156863 ],\n",
       "         [0.78098035, 0.7260784 , 0.6123529 ]],\n",
       "\n",
       "        [[0.76647055, 0.71549016, 0.5864706 ],\n",
       "         [0.76960784, 0.71666664, 0.58862746],\n",
       "         [0.77093136, 0.71210784, 0.5870098 ],\n",
       "         ...,\n",
       "         [0.7764706 , 0.72156864, 0.60784316],\n",
       "         [0.7780883 , 0.7231863 , 0.60946083],\n",
       "         [0.77862746, 0.7237255 , 0.61      ]],\n",
       "\n",
       "        [[0.76862746, 0.7176471 , 0.5921569 ],\n",
       "         [0.76862746, 0.7176471 , 0.5921569 ],\n",
       "         [0.77156866, 0.7147059 , 0.5921569 ],\n",
       "         ...,\n",
       "         [0.7767157 , 0.7257353 , 0.6002451 ],\n",
       "         [0.78039217, 0.7264706 , 0.6098039 ],\n",
       "         [0.7764706 , 0.72156864, 0.60784316]],\n",
       "\n",
       "        ...,\n",
       "\n",
       "        [[0.56421566, 0.529902  , 0.49068627],\n",
       "         [0.58431375, 0.5531863 , 0.50735295],\n",
       "         [0.60245097, 0.5720588 , 0.5181373 ],\n",
       "         ...,\n",
       "         [0.47843137, 0.48235294, 0.45759803],\n",
       "         [0.47549018, 0.47941175, 0.45686275],\n",
       "         [0.47745097, 0.48137254, 0.45882353]],\n",
       "\n",
       "        [[0.55323523, 0.52578425, 0.50225484],\n",
       "         [0.56151956, 0.53299016, 0.50892156],\n",
       "         [0.57764703, 0.54323524, 0.5153431 ],\n",
       "         ...,\n",
       "         [0.47274506, 0.4805882 , 0.47235298],\n",
       "         [0.48269612, 0.4887745 , 0.4901472 ],\n",
       "         [0.50063723, 0.50240195, 0.5059315 ]],\n",
       "\n",
       "        [[0.54495096, 0.50965685, 0.47602943],\n",
       "         [0.5536275 , 0.5183333 , 0.4847059 ],\n",
       "         [0.5561274 , 0.5208333 , 0.48553926],\n",
       "         ...,\n",
       "         [0.475098  , 0.475098  , 0.46921566],\n",
       "         [0.4818137 , 0.4818137 , 0.48769605],\n",
       "         [0.5124019 , 0.5124019 , 0.520245  ]]],\n",
       "\n",
       "\n",
       "       [[[0.7724019 , 0.7135784 , 0.5920098 ],\n",
       "         [0.7676471 , 0.7088235 , 0.5872549 ],\n",
       "         [0.772451  , 0.71362746, 0.59205884],\n",
       "         ...,\n",
       "         [0.76485294, 0.7217157 , 0.60602945],\n",
       "         [0.76862746, 0.7254902 , 0.6156863 ],\n",
       "         [0.77254903, 0.7294118 , 0.61960787]],\n",
       "\n",
       "        [[0.762549  , 0.7115686 , 0.5860784 ],\n",
       "         [0.76862746, 0.7176471 , 0.5921569 ],\n",
       "         [0.769951  , 0.71632355, 0.5921569 ],\n",
       "         ...,\n",
       "         [0.77117646, 0.7231863 , 0.60284317],\n",
       "         [0.7729412 , 0.7233333 , 0.6104902 ],\n",
       "         [0.77117646, 0.72156864, 0.6096078 ]],\n",
       "\n",
       "        [[0.7654412 , 0.7144608 , 0.5889706 ],\n",
       "         [0.75980395, 0.7088235 , 0.5833333 ],\n",
       "         [0.76053923, 0.70955884, 0.58406866],\n",
       "         ...,\n",
       "         [0.78039217, 0.72156864, 0.6       ],\n",
       "         [0.78039217, 0.72156864, 0.60588235],\n",
       "         [0.7754902 , 0.7205882 , 0.6068627 ]],\n",
       "\n",
       "        ...,\n",
       "\n",
       "        [[0.7269608 , 0.70416665, 0.6406863 ],\n",
       "         [0.7463235 , 0.7267157 , 0.6512255 ],\n",
       "         [0.7384804 , 0.71887255, 0.6389706 ],\n",
       "         ...,\n",
       "         [0.5002451 , 0.4776961 , 0.41127452],\n",
       "         [0.4968137 , 0.4742647 , 0.40833333],\n",
       "         [0.5154412 , 0.49289215, 0.4269608 ]],\n",
       "\n",
       "        [[0.596372  , 0.5737741 , 0.53872514],\n",
       "         [0.6359306 , 0.61593074, 0.56955826],\n",
       "         [0.70406824, 0.6814212 , 0.6257351 ],\n",
       "         ...,\n",
       "         [0.4822058 , 0.46960783, 0.4244118 ],\n",
       "         [0.4852941 , 0.4718138 , 0.43034327],\n",
       "         [0.48593134, 0.472451  , 0.43098047]],\n",
       "\n",
       "        [[0.5402452 , 0.5284804 , 0.5010295 ],\n",
       "         [0.5545589 , 0.54083335, 0.51436275],\n",
       "         [0.5986766 , 0.5828433 , 0.5479904 ],\n",
       "         ...,\n",
       "         [0.4745098 , 0.4745098 , 0.44313726],\n",
       "         [0.47843137, 0.47843137, 0.44705883],\n",
       "         [0.48544118, 0.48544118, 0.45406863]]],\n",
       "\n",
       "\n",
       "       [[[0.76960784, 0.7107843 , 0.58137256],\n",
       "         [0.76862746, 0.70980394, 0.58235294],\n",
       "         [0.76862746, 0.70980394, 0.5882353 ],\n",
       "         ...,\n",
       "         [0.76612747, 0.7229902 , 0.60534316],\n",
       "         [0.77210784, 0.7289706 , 0.61132354],\n",
       "         [0.77254903, 0.7294118 , 0.6117647 ]],\n",
       "\n",
       "        [[0.7660294 , 0.71504897, 0.5860294 ],\n",
       "         [0.7676471 , 0.71666664, 0.5885294 ],\n",
       "         [0.7617647 , 0.70916665, 0.5885294 ],\n",
       "         ...,\n",
       "         [0.77000004, 0.72039217, 0.6127451 ],\n",
       "         [0.7747059 , 0.725098  , 0.6190686 ],\n",
       "         [0.77686274, 0.72725487, 0.6217647 ]],\n",
       "\n",
       "        [[0.7656863 , 0.7107843 , 0.59705883],\n",
       "         [0.7644608 , 0.70955884, 0.59583336],\n",
       "         [0.7607843 , 0.7058824 , 0.5921569 ],\n",
       "         ...,\n",
       "         [0.7732843 , 0.71838236, 0.60612744],\n",
       "         [0.7764706 , 0.72156864, 0.61519605],\n",
       "         [0.78039217, 0.7254902 , 0.61960787]],\n",
       "\n",
       "        ...,\n",
       "\n",
       "        [[0.73970586, 0.70931375, 0.6156863 ],\n",
       "         [0.75      , 0.722549  , 0.6186274 ],\n",
       "         [0.7360294 , 0.7085784 , 0.60612744],\n",
       "         ...,\n",
       "         [0.5004902 , 0.47696078, 0.3872549 ],\n",
       "         [0.5125    , 0.4875    , 0.40588236],\n",
       "         [0.5240196 , 0.4990196 , 0.41887254]],\n",
       "\n",
       "        [[0.6066171 , 0.5770093 , 0.5400487 ],\n",
       "         [0.65808755, 0.62946016, 0.58127403],\n",
       "         [0.7233331 , 0.6976469 , 0.62985295],\n",
       "         ...,\n",
       "         [0.47843137, 0.46583343, 0.42009816],\n",
       "         [0.48352936, 0.46960783, 0.432108  ],\n",
       "         [0.4846078 , 0.47210783, 0.44387272]],\n",
       "\n",
       "        [[0.55406874, 0.53671575, 0.5286275 ],\n",
       "         [0.5773039 , 0.55813724, 0.54553914],\n",
       "         [0.5961766 , 0.5790688 , 0.54833347],\n",
       "         ...,\n",
       "         [0.4805392 , 0.4717157 , 0.43740195],\n",
       "         [0.4809314 , 0.4779902 , 0.45588234],\n",
       "         [0.4958333 , 0.49191174, 0.4840686 ]]]], dtype=float32)"
      ]
     },
     "execution_count": 47,
     "metadata": {},
     "output_type": "execute_result"
    }
   ],
   "source": [
    "sample[0]"
   ]
  },
  {
   "cell_type": "code",
   "execution_count": 48,
   "id": "c45f14c7",
   "metadata": {},
   "outputs": [],
   "source": [
    "# test partition\n",
    "test_data = data.skip(round(len(data)* .7))\n",
    "test_data = test_data.take(round(len(data)* .3))\n",
    "test_data = test_data.batch(16)\n",
    "test_data = test_data.prefetch(8)"
   ]
  },
  {
   "cell_type": "markdown",
   "id": "c4c3215f",
   "metadata": {},
   "source": [
    "# Model Engineering"
   ]
  },
  {
   "cell_type": "markdown",
   "id": "b8959217",
   "metadata": {},
   "source": [
    "## 1. build embedding layer\n",
    "### Create a function"
   ]
  },
  {
   "cell_type": "code",
   "execution_count": 49,
   "id": "960f238c",
   "metadata": {
    "scrolled": true
   },
   "outputs": [],
   "source": [
    "inp = Input(shape=(105,105,3), name = 'input_image')"
   ]
  },
  {
   "cell_type": "code",
   "execution_count": 50,
   "id": "6c88748b",
   "metadata": {},
   "outputs": [
    {
     "data": {
      "text/plain": [
       "<KerasTensor: shape=(None, 105, 105, 3) dtype=float32 (created by layer 'input_image')>"
      ]
     },
     "execution_count": 50,
     "metadata": {},
     "output_type": "execute_result"
    }
   ],
   "source": [
    "inp"
   ]
  },
  {
   "cell_type": "code",
   "execution_count": 51,
   "id": "a45b57d5",
   "metadata": {},
   "outputs": [],
   "source": [
    "c1 = Conv2D(64,(10,10), activation='relu')(inp)"
   ]
  },
  {
   "cell_type": "code",
   "execution_count": 52,
   "id": "2766b3da",
   "metadata": {},
   "outputs": [
    {
     "data": {
      "text/plain": [
       "<KerasTensor: shape=(None, 96, 96, 64) dtype=float32 (created by layer 'conv2d')>"
      ]
     },
     "execution_count": 52,
     "metadata": {},
     "output_type": "execute_result"
    }
   ],
   "source": [
    "c1"
   ]
  },
  {
   "cell_type": "code",
   "execution_count": 53,
   "id": "fc2f35ed",
   "metadata": {},
   "outputs": [],
   "source": [
    "m1 = MaxPooling2D(64, (2,2), padding = \"same\")(c1)"
   ]
  },
  {
   "cell_type": "code",
   "execution_count": 54,
   "id": "d1262341",
   "metadata": {},
   "outputs": [
    {
     "data": {
      "text/plain": [
       "<KerasTensor: shape=(None, 48, 48, 64) dtype=float32 (created by layer 'max_pooling2d')>"
      ]
     },
     "execution_count": 54,
     "metadata": {},
     "output_type": "execute_result"
    }
   ],
   "source": [
    "m1"
   ]
  },
  {
   "cell_type": "code",
   "execution_count": 55,
   "id": "d59f15ef",
   "metadata": {},
   "outputs": [],
   "source": [
    "c2 = Conv2D(128,(7,7), activation='relu')(m1)\n",
    "m2 = MaxPooling2D(64, (2,2), padding = \"same\")(c2)\n",
    "c3 = Conv2D(128,(4,4), activation='relu')(m2)\n",
    "m3 = MaxPooling2D(64, (2,2), padding = \"same\")(c3)"
   ]
  },
  {
   "cell_type": "code",
   "execution_count": 56,
   "id": "0b77e410",
   "metadata": {
    "scrolled": true
   },
   "outputs": [
    {
     "data": {
      "text/plain": [
       "<KerasTensor: shape=(None, 9, 9, 128) dtype=float32 (created by layer 'max_pooling2d_2')>"
      ]
     },
     "execution_count": 56,
     "metadata": {},
     "output_type": "execute_result"
    }
   ],
   "source": [
    "m3"
   ]
  },
  {
   "cell_type": "code",
   "execution_count": 57,
   "id": "a40b2927",
   "metadata": {},
   "outputs": [],
   "source": [
    "c4 = Conv2D(256, (4,4), activation='relu')(m3)\n",
    "f1 = Flatten()(c4)\n",
    "d1 = Dense(4096, activation = 'sigmoid')(f1)"
   ]
  },
  {
   "cell_type": "code",
   "execution_count": 58,
   "id": "1266700a",
   "metadata": {},
   "outputs": [
    {
     "data": {
      "text/plain": [
       "<KerasTensor: shape=(None, 9216) dtype=float32 (created by layer 'flatten')>"
      ]
     },
     "execution_count": 58,
     "metadata": {},
     "output_type": "execute_result"
    }
   ],
   "source": [
    "f1"
   ]
  },
  {
   "cell_type": "markdown",
   "id": "c379a7bc",
   "metadata": {},
   "source": [
    "# By using function below the Model has build"
   ]
  },
  {
   "cell_type": "code",
   "execution_count": 60,
   "id": "1193c56e",
   "metadata": {},
   "outputs": [],
   "source": [
    "import tensorflow as tf\n",
    "import torch\n",
    "# if torch.cuda.is_available():\n",
    "#     device = torch.device('cuda:0')\n",
    "# else:\n",
    "#     device = torch.device('cpu')\n",
    "\n",
    "def make_embedding():\n",
    "    inp = Input(shape=(100,100,3), name = 'input_image')\n",
    "    \n",
    "    #first block\n",
    "#     with tf.device('/GPU:0'):\n",
    "    c1 = Conv2D(64,(10,10), activation='relu')(inp)\n",
    "    m1 = MaxPooling2D(64, (2,2), padding = \"same\")(c1)\n",
    "    \n",
    "    #second\n",
    "#     with tf.device('/GPU:0'):\n",
    "    c2 = Conv2D(128,(7,7), activation='relu')(m1)\n",
    "    m2 = MaxPooling2D(64, (2,2), padding = \"same\")(c2)\n",
    "    \n",
    "    #third\n",
    "#     with tf.device('/GPU:0'):\n",
    "    c3 = Conv2D(128,(4,4), activation='relu')(m2)\n",
    "    m3 = MaxPooling2D(64, (2,2), padding = \"same\")(c3)\n",
    "    \n",
    "    #final embedding block\n",
    "#     with tf.device('/GPU:0'):\n",
    "    c4 = Conv2D(256, (4,4), activation='relu')(m3)\n",
    "    f1 = Flatten()(c4)\n",
    "    d1 = Dense(4096, activation = 'sigmoid')(f1)\n",
    "    \n",
    "    return Model(inputs=[inp], outputs=[d1], name='embedding')"
   ]
  },
  {
   "cell_type": "code",
   "execution_count": 61,
   "id": "1fae8a4c",
   "metadata": {},
   "outputs": [],
   "source": [
    "embedding = make_embedding()"
   ]
  },
  {
   "cell_type": "code",
   "execution_count": 62,
   "id": "d7b28e5a",
   "metadata": {},
   "outputs": [
    {
     "name": "stdout",
     "output_type": "stream",
     "text": [
      "Model: \"embedding\"\n",
      "_________________________________________________________________\n",
      " Layer (type)                Output Shape              Param #   \n",
      "=================================================================\n",
      " input_image (InputLayer)    [(None, 100, 100, 3)]     0         \n",
      "                                                                 \n",
      " conv2d_4 (Conv2D)           (None, 91, 91, 64)        19264     \n",
      "                                                                 \n",
      " max_pooling2d_3 (MaxPooling  (None, 46, 46, 64)       0         \n",
      " 2D)                                                             \n",
      "                                                                 \n",
      " conv2d_5 (Conv2D)           (None, 40, 40, 128)       401536    \n",
      "                                                                 \n",
      " max_pooling2d_4 (MaxPooling  (None, 20, 20, 128)      0         \n",
      " 2D)                                                             \n",
      "                                                                 \n",
      " conv2d_6 (Conv2D)           (None, 17, 17, 128)       262272    \n",
      "                                                                 \n",
      " max_pooling2d_5 (MaxPooling  (None, 9, 9, 128)        0         \n",
      " 2D)                                                             \n",
      "                                                                 \n",
      " conv2d_7 (Conv2D)           (None, 6, 6, 256)         524544    \n",
      "                                                                 \n",
      " flatten_1 (Flatten)         (None, 9216)              0         \n",
      "                                                                 \n",
      " dense_1 (Dense)             (None, 4096)              37752832  \n",
      "                                                                 \n",
      "=================================================================\n",
      "Total params: 38,960,448\n",
      "Trainable params: 38,960,448\n",
      "Non-trainable params: 0\n",
      "_________________________________________________________________\n"
     ]
    }
   ],
   "source": [
    "embedding.summary()"
   ]
  },
  {
   "cell_type": "markdown",
   "id": "2cc06cc9",
   "metadata": {},
   "source": [
    "## 2. Build Distance Layer"
   ]
  },
  {
   "cell_type": "code",
   "execution_count": 63,
   "id": "ddbdd86d",
   "metadata": {},
   "outputs": [],
   "source": [
    "#Siamese L1 Distance Class\n",
    "class L1Dist(Layer):\n",
    "    def __init__(self, **kwargs):\n",
    "        super().__init__()\n",
    "    \n",
    "    #important\n",
    "    #Similarity Calculation\n",
    "    def call(self, input_embedding, validation_embedding):\n",
    "        return tf.math.abs(input_embedding - validation_embedding)\n",
    "    "
   ]
  },
  {
   "cell_type": "code",
   "execution_count": 64,
   "id": "140876e5",
   "metadata": {},
   "outputs": [],
   "source": [
    "l1 = L1Dist()"
   ]
  },
  {
   "cell_type": "code",
   "execution_count": 65,
   "id": "d1d69154",
   "metadata": {},
   "outputs": [],
   "source": [
    "input_image = Input(name='input_img', shape = (100,100,3))\n",
    "    \n",
    "#validation Img in the network\n",
    "validation_image = Input(name = 'validation_img', shape = (100,100,3))"
   ]
  },
  {
   "cell_type": "code",
   "execution_count": 66,
   "id": "3759965c",
   "metadata": {},
   "outputs": [],
   "source": [
    "inp_embedding = embedding(input_image)\n",
    "val_embedding = embedding(validation_image)"
   ]
  },
  {
   "cell_type": "markdown",
   "id": "9ad8356b",
   "metadata": {},
   "source": [
    "### put the input and validation img into embedding function that we declared before, the img will be modified"
   ]
  },
  {
   "cell_type": "code",
   "execution_count": 67,
   "id": "8e51a964",
   "metadata": {},
   "outputs": [
    {
     "data": {
      "text/plain": [
       "<KerasTensor: shape=(None, 4096) dtype=float32 (created by layer 'embedding')>"
      ]
     },
     "execution_count": 67,
     "metadata": {},
     "output_type": "execute_result"
    }
   ],
   "source": [
    "inp_embedding"
   ]
  },
  {
   "cell_type": "code",
   "execution_count": 68,
   "id": "fbdde516",
   "metadata": {},
   "outputs": [],
   "source": [
    "siamese_layer = L1Dist()"
   ]
  },
  {
   "cell_type": "code",
   "execution_count": 69,
   "id": "93d6dc69",
   "metadata": {},
   "outputs": [],
   "source": [
    "distances = siamese_layer(inp_embedding, val_embedding)"
   ]
  },
  {
   "cell_type": "code",
   "execution_count": 70,
   "id": "0faec078",
   "metadata": {},
   "outputs": [],
   "source": [
    "classifier = Dense(1, activation='sigmoid')(distances)"
   ]
  },
  {
   "cell_type": "code",
   "execution_count": 71,
   "id": "77bef4a3",
   "metadata": {
    "scrolled": true
   },
   "outputs": [
    {
     "data": {
      "text/plain": [
       "<KerasTensor: shape=(None, 1) dtype=float32 (created by layer 'dense_2')>"
      ]
     },
     "execution_count": 71,
     "metadata": {},
     "output_type": "execute_result"
    }
   ],
   "source": [
    "classifier  #Shape 1"
   ]
  },
  {
   "cell_type": "code",
   "execution_count": 72,
   "id": "848c4b87",
   "metadata": {},
   "outputs": [],
   "source": [
    "siamese_network = Model(inputs=[input_image, validation_image], outputs=classifier, name='SiameseNetwork')"
   ]
  },
  {
   "cell_type": "code",
   "execution_count": 73,
   "id": "31e6bfa9",
   "metadata": {
    "scrolled": false
   },
   "outputs": [
    {
     "name": "stdout",
     "output_type": "stream",
     "text": [
      "Model: \"SiameseNetwork\"\n",
      "__________________________________________________________________________________________________\n",
      " Layer (type)                   Output Shape         Param #     Connected to                     \n",
      "==================================================================================================\n",
      " input_img (InputLayer)         [(None, 100, 100, 3  0           []                               \n",
      "                                )]                                                                \n",
      "                                                                                                  \n",
      " validation_img (InputLayer)    [(None, 100, 100, 3  0           []                               \n",
      "                                )]                                                                \n",
      "                                                                                                  \n",
      " embedding (Functional)         (None, 4096)         38960448    ['input_img[0][0]',              \n",
      "                                                                  'validation_img[0][0]']         \n",
      "                                                                                                  \n",
      " l1_dist_1 (L1Dist)             (None, 4096)         0           ['embedding[0][0]',              \n",
      "                                                                  'embedding[1][0]']              \n",
      "                                                                                                  \n",
      " dense_2 (Dense)                (None, 1)            4097        ['l1_dist_1[0][0]']              \n",
      "                                                                                                  \n",
      "==================================================================================================\n",
      "Total params: 38,964,545\n",
      "Trainable params: 38,964,545\n",
      "Non-trainable params: 0\n",
      "__________________________________________________________________________________________________\n"
     ]
    }
   ],
   "source": [
    "siamese_network.summary()"
   ]
  },
  {
   "cell_type": "markdown",
   "id": "7ff39ab3",
   "metadata": {},
   "source": [
    "### 1. input image validation image\n",
    "### 2. goes to embedding(function)  layer\n",
    "### 3. combined through L1Dist() layer\n",
    "### 4. output a single value (shape 1)"
   ]
  },
  {
   "cell_type": "markdown",
   "id": "4a2afce0",
   "metadata": {},
   "source": [
    "### 4096 = distance between inp_embedding and val_embedding"
   ]
  },
  {
   "cell_type": "markdown",
   "id": "181aadbc",
   "metadata": {},
   "source": [
    "## 3. Make Siamese Model"
   ]
  },
  {
   "cell_type": "code",
   "execution_count": 74,
   "id": "fff38884",
   "metadata": {},
   "outputs": [],
   "source": [
    "def make_siamese_model():\n",
    "    #Handle Anchor Inputs in the network\n",
    "    input_image = Input(name = 'input_img', shape = (100,100,3))\n",
    "    \n",
    "    #validation Img in the network\n",
    "    validation_iamge = Input(name = 'validation_img', shape = (100,100,3))\n",
    "    \n",
    "    #Combine siamese distance components\n",
    "    siamese_layer = L1Dist()\n",
    "    siamese_layer._name = 'distance'\n",
    "    distances = siamese_layer(embedding(input_image), embedding(validation_image))\n",
    "    \n",
    "    #classification Layer\n",
    "    classifier = Dense(1, activation='sigmoid')(distances)\n",
    "    \n",
    "    return Model(inputs=[input_image, validation_image], outputs=classifier, name='SiameseNetwork')\n",
    "    "
   ]
  },
  {
   "cell_type": "code",
   "execution_count": 75,
   "id": "1e82423c",
   "metadata": {},
   "outputs": [],
   "source": [
    "siamese_model = make_siamese_model()"
   ]
  },
  {
   "cell_type": "code",
   "execution_count": 76,
   "id": "c0fd9c3f",
   "metadata": {},
   "outputs": [
    {
     "name": "stdout",
     "output_type": "stream",
     "text": [
      "Model: \"SiameseNetwork\"\n",
      "__________________________________________________________________________________________________\n",
      " Layer (type)                   Output Shape         Param #     Connected to                     \n",
      "==================================================================================================\n",
      " input_img (InputLayer)         [(None, 100, 100, 3  0           []                               \n",
      "                                )]                                                                \n",
      "                                                                                                  \n",
      " validation_img (InputLayer)    [(None, 100, 100, 3  0           []                               \n",
      "                                )]                                                                \n",
      "                                                                                                  \n",
      " embedding (Functional)         (None, 4096)         38960448    ['input_img[0][0]',              \n",
      "                                                                  'validation_img[0][0]']         \n",
      "                                                                                                  \n",
      " distance (L1Dist)              (None, 4096)         0           ['embedding[2][0]',              \n",
      "                                                                  'embedding[3][0]']              \n",
      "                                                                                                  \n",
      " dense_3 (Dense)                (None, 1)            4097        ['distance[0][0]']               \n",
      "                                                                                                  \n",
      "==================================================================================================\n",
      "Total params: 38,964,545\n",
      "Trainable params: 38,964,545\n",
      "Non-trainable params: 0\n",
      "__________________________________________________________________________________________________\n"
     ]
    }
   ],
   "source": [
    "siamese_model.summary()"
   ]
  },
  {
   "cell_type": "markdown",
   "id": "d2b6346a",
   "metadata": {},
   "source": [
    "# Start To Training"
   ]
  },
  {
   "cell_type": "markdown",
   "id": "6f444ea7",
   "metadata": {},
   "source": [
    "## 1. Set up Loss and Optimizer"
   ]
  },
  {
   "cell_type": "code",
   "execution_count": 77,
   "id": "a12e60db",
   "metadata": {},
   "outputs": [],
   "source": [
    "binary_cross_loss = tf.losses.BinaryCrossentropy()"
   ]
  },
  {
   "cell_type": "code",
   "execution_count": 78,
   "id": "61daf12a",
   "metadata": {},
   "outputs": [],
   "source": [
    "#Find keras Adam optimizer\n",
    "opt = tf.keras.optimizers.Adam(1e-4)"
   ]
  },
  {
   "cell_type": "markdown",
   "id": "0f039800",
   "metadata": {},
   "source": [
    "## 2. Establish Checkpoints"
   ]
  },
  {
   "cell_type": "code",
   "execution_count": 79,
   "id": "8ada6d63",
   "metadata": {},
   "outputs": [],
   "source": [
    "checkpoint_dir = './training_checkpoints'\n",
    "checkpoint_prefix = os.path.join(checkpoint_dir, 'ckpt')\n",
    "checkpoint = tf.train.Checkpoint(opt=opt, siamese_model = siamese_model)"
   ]
  },
  {
   "cell_type": "markdown",
   "id": "d5d3bf05",
   "metadata": {},
   "source": [
    "## 3. Build Train Step Function"
   ]
  },
  {
   "cell_type": "code",
   "execution_count": 80,
   "id": "03601a52",
   "metadata": {},
   "outputs": [],
   "source": [
    "test_batch = train_data.as_numpy_iterator()"
   ]
  },
  {
   "cell_type": "code",
   "execution_count": 81,
   "id": "6f0231be",
   "metadata": {},
   "outputs": [],
   "source": [
    "batch_1 = test_batch.next()"
   ]
  },
  {
   "cell_type": "code",
   "execution_count": 82,
   "id": "30cae3f2",
   "metadata": {},
   "outputs": [
    {
     "data": {
      "text/plain": [
       "3"
      ]
     },
     "execution_count": 82,
     "metadata": {},
     "output_type": "execute_result"
    }
   ],
   "source": [
    "len(batch_1)"
   ]
  },
  {
   "cell_type": "code",
   "execution_count": 83,
   "id": "4e83d5eb",
   "metadata": {},
   "outputs": [
    {
     "data": {
      "text/plain": [
       "16"
      ]
     },
     "execution_count": 83,
     "metadata": {},
     "output_type": "execute_result"
    }
   ],
   "source": [
    "len(batch_1[1]) #16 images in index"
   ]
  },
  {
   "cell_type": "code",
   "execution_count": 84,
   "id": "d87884af",
   "metadata": {
    "scrolled": true
   },
   "outputs": [
    {
     "data": {
      "text/plain": [
       "array([1., 0., 0., 0., 1., 0., 1., 0., 1., 1., 0., 0., 0., 0., 0., 0.],\n",
       "      dtype=float32)"
      ]
     },
     "execution_count": 84,
     "metadata": {},
     "output_type": "execute_result"
    }
   ],
   "source": [
    "batch_1[2] #all labels"
   ]
  },
  {
   "cell_type": "code",
   "execution_count": 85,
   "id": "0e52b96b",
   "metadata": {},
   "outputs": [],
   "source": [
    "X = batch_1[:2]"
   ]
  },
  {
   "cell_type": "code",
   "execution_count": 86,
   "id": "bda33cb1",
   "metadata": {},
   "outputs": [
    {
     "data": {
      "text/plain": [
       "(2, 16, 100, 100, 3)"
      ]
     },
     "execution_count": 86,
     "metadata": {},
     "output_type": "execute_result"
    }
   ],
   "source": [
    "np.array(X).shape #2 components 16 imgs each , 100 by 100 by 3"
   ]
  },
  {
   "cell_type": "code",
   "execution_count": 87,
   "id": "1f95103b",
   "metadata": {},
   "outputs": [],
   "source": [
    "y = batch_1[2]"
   ]
  },
  {
   "cell_type": "code",
   "execution_count": 88,
   "id": "050fed57",
   "metadata": {},
   "outputs": [],
   "source": [
    "tf.losses.BinaryCrossentropy??"
   ]
  },
  {
   "cell_type": "code",
   "execution_count": 89,
   "id": "524bb38d",
   "metadata": {},
   "outputs": [],
   "source": [
    "\n",
    "\n",
    "@tf.function #compiles a function into a callable TensorFlow graph\n",
    "def train_step(batch):\n",
    "    with tf.device('/GPU:0'):\n",
    "        with tf.GradientTape() as tape: #Record operation for automatic differention\n",
    "\n",
    "            #Get anchor and positive/negative image\n",
    "            X = batch[:2]\n",
    "            #Get Label\n",
    "            y = batch[2]\n",
    "\n",
    "            #Forward pass\n",
    "            yhat = siamese_model(X, training = True)\n",
    "\n",
    "            #calculate loss  bce(y_true, y_pred).numpy() \n",
    "            loss = binary_cross_loss(y,yhat)\n",
    "        print(loss)\n",
    "\n",
    "        #calculate gradients\n",
    "        grad = tape.gradient(loss, siamese_model.trainable_variables)\n",
    "\n",
    "        #calculate updated weights and apply to siamese model\n",
    "        opt.apply_gradients(zip(grad, siamese_model.trainable_variables))\n",
    "\n",
    "        #return loss\n",
    "        return loss"
   ]
  },
  {
   "cell_type": "code",
   "execution_count": null,
   "id": "25506302",
   "metadata": {},
   "outputs": [],
   "source": []
  },
  {
   "cell_type": "markdown",
   "id": "f908f832",
   "metadata": {},
   "source": [
    "## 4. Build Training Loop"
   ]
  },
  {
   "cell_type": "code",
   "execution_count": 91,
   "id": "be40c04c",
   "metadata": {},
   "outputs": [],
   "source": [
    "def train(data, EPOCHS):\n",
    "    #Loop through epochs\n",
    "    for epoch in range(1, EPOCHS + 1):\n",
    "        print('\\n Epoch{}/{}'.format(epoch, EPOCHS))\n",
    "        progbar = tf.keras.utils.Progbar(len(data))\n",
    "    \n",
    "        #Loop through each batch\n",
    "        for idx, batch in enumerate(data):\n",
    "            \n",
    "            #run the train step:\n",
    "            train_step(batch)\n",
    "            progbar.update(idx+1)\n",
    "        if epoch %10 == 0:\n",
    "            checkpoint.save(file_prefix = checkpoint_prefix)"
   ]
  },
  {
   "cell_type": "markdown",
   "id": "88d77715",
   "metadata": {},
   "source": [
    "## 5. Train the Model"
   ]
  },
  {
   "cell_type": "code",
   "execution_count": 92,
   "id": "26e76642",
   "metadata": {},
   "outputs": [],
   "source": [
    "EPOCHS = 1"
   ]
  },
  {
   "cell_type": "code",
   "execution_count": 93,
   "id": "12e83f0b",
   "metadata": {},
   "outputs": [],
   "source": [
    "# import tensorflow as tf\n",
    "# gpus = tf.config.experimental.list_physical_devices('GPU')\n",
    "\n",
    "# # 设置GPU可见性\n",
    "# tf.config.experimental.set_visible_devices(gpus, 'GPU')\n",
    "\n",
    "# for gpu in gpus:\n",
    "#     print(gpu)\n",
    "#     tf.config.experimental.set_memory_growth(gpu, True)"
   ]
  },
  {
   "cell_type": "code",
   "execution_count": 94,
   "id": "2a3cb7d3",
   "metadata": {},
   "outputs": [],
   "source": [
    "# import torch\n",
    "# print(\"Num GPUs Available: \", torch.cuda.device_count())"
   ]
  },
  {
   "cell_type": "code",
   "execution_count": 95,
   "id": "e7834af4",
   "metadata": {},
   "outputs": [],
   "source": [
    "# torch.cuda.is_available()"
   ]
  },
  {
   "cell_type": "code",
   "execution_count": 96,
   "id": "3786369a",
   "metadata": {
    "scrolled": true
   },
   "outputs": [
    {
     "name": "stdout",
     "output_type": "stream",
     "text": [
      "\n",
      " Epoch1/1\n",
      "Tensor(\"binary_crossentropy/weighted_loss/value:0\", shape=(), dtype=float32, device=/device:GPU:0)\n",
      "Tensor(\"binary_crossentropy/weighted_loss/value:0\", shape=(), dtype=float32, device=/device:GPU:0)\n",
      "26/27 [===========================>..] - ETA: 15sTensor(\"binary_crossentropy/weighted_loss/value:0\", shape=(), dtype=float32, device=/device:GPU:0)\n",
      "27/27 [==============================] - 416s 15s/step\n"
     ]
    }
   ],
   "source": [
    "train(train_data, EPOCHS)"
   ]
  },
  {
   "cell_type": "markdown",
   "id": "58314a31",
   "metadata": {},
   "source": [
    "# Evaluate Model"
   ]
  },
  {
   "cell_type": "markdown",
   "id": "8e4034d2",
   "metadata": {},
   "source": [
    "## 1. import metric"
   ]
  },
  {
   "cell_type": "code",
   "execution_count": 97,
   "id": "70266d82",
   "metadata": {},
   "outputs": [],
   "source": [
    "# Import metric calculatrions\n",
    "from tensorflow.keras.metrics import Precision, Recall"
   ]
  },
  {
   "cell_type": "markdown",
   "id": "56a16121",
   "metadata": {},
   "source": [
    "## 2. Make Predictions"
   ]
  },
  {
   "cell_type": "code",
   "execution_count": 119,
   "id": "81da4459",
   "metadata": {},
   "outputs": [],
   "source": [
    "test_input, test_val, y_true = test_data.as_numpy_iterator().next()"
   ]
  },
  {
   "cell_type": "code",
   "execution_count": 120,
   "id": "dc317c31",
   "metadata": {},
   "outputs": [],
   "source": [
    "test_var = test_data.as_numpy_iterator().next()"
   ]
  },
  {
   "cell_type": "code",
   "execution_count": 121,
   "id": "a96d8401",
   "metadata": {},
   "outputs": [
    {
     "data": {
      "text/plain": [
       "3"
      ]
     },
     "execution_count": 121,
     "metadata": {},
     "output_type": "execute_result"
    }
   ],
   "source": [
    "len(test_var)"
   ]
  },
  {
   "cell_type": "code",
   "execution_count": 122,
   "id": "648bd004",
   "metadata": {},
   "outputs": [
    {
     "data": {
      "text/plain": [
       "16"
      ]
     },
     "execution_count": 122,
     "metadata": {},
     "output_type": "execute_result"
    }
   ],
   "source": [
    "len(test_var[0])"
   ]
  },
  {
   "cell_type": "code",
   "execution_count": 123,
   "id": "fbed0c02",
   "metadata": {},
   "outputs": [
    {
     "data": {
      "text/plain": [
       "array([[4.2241514e-03],\n",
       "       [9.6822691e-01],\n",
       "       [7.2088361e-01],\n",
       "       [4.1822770e-01],\n",
       "       [1.8113554e-03],\n",
       "       [6.7939520e-01],\n",
       "       [5.8097452e-02],\n",
       "       [6.1782765e-01],\n",
       "       [5.0687343e-02],\n",
       "       [9.0565884e-01],\n",
       "       [5.0151348e-04],\n",
       "       [1.0570288e-03],\n",
       "       [1.0970953e-01],\n",
       "       [8.5409343e-01],\n",
       "       [7.7393270e-01],\n",
       "       [3.7302464e-01]], dtype=float32)"
      ]
     },
     "execution_count": 123,
     "metadata": {},
     "output_type": "execute_result"
    }
   ],
   "source": [
    "y_hat = predictions = siamese_model.predict([test_input, test_val])\n",
    "y_hat"
   ]
  },
  {
   "cell_type": "code",
   "execution_count": 124,
   "id": "dabebb47",
   "metadata": {},
   "outputs": [
    {
     "data": {
      "text/plain": [
       "[0, 1, 1, 0, 0, 1, 0, 1, 0, 1, 0, 0, 0, 1, 1, 0]"
      ]
     },
     "execution_count": 124,
     "metadata": {},
     "output_type": "execute_result"
    }
   ],
   "source": [
    "# post processing the results\n",
    "[1 if prediction > 0.5 else 0 for prediction in y_hat]"
   ]
  },
  {
   "cell_type": "code",
   "execution_count": 125,
   "id": "b21bdbd0",
   "metadata": {},
   "outputs": [
    {
     "data": {
      "text/plain": [
       "array([0., 1., 1., 1., 0., 0., 0., 1., 0., 1., 0., 0., 0., 1., 1., 0.],\n",
       "      dtype=float32)"
      ]
     },
     "execution_count": 125,
     "metadata": {},
     "output_type": "execute_result"
    }
   ],
   "source": [
    "y_true"
   ]
  },
  {
   "cell_type": "markdown",
   "id": "210a507d",
   "metadata": {},
   "source": [
    "## 3. Calculate Metrics"
   ]
  },
  {
   "cell_type": "code",
   "execution_count": 126,
   "id": "f1792f15",
   "metadata": {},
   "outputs": [
    {
     "data": {
      "text/plain": [
       "0.85714287"
      ]
     },
     "execution_count": 126,
     "metadata": {},
     "output_type": "execute_result"
    }
   ],
   "source": [
    "#creating a metric object\n",
    "m = Precision()\n",
    "\n",
    "#Calculating the recall value\n",
    "m.update_state(y_true, y_hat)\n",
    "\n",
    "#return Recall Result\n",
    "m.result().numpy()"
   ]
  },
  {
   "cell_type": "markdown",
   "id": "7bb4e5a2",
   "metadata": {},
   "source": [
    "## 4. Viz Results"
   ]
  },
  {
   "cell_type": "code",
   "execution_count": 129,
   "id": "f626547d",
   "metadata": {},
   "outputs": [
    {
     "data": {
      "image/png": "[encoded data removed]",
      "text/plain": [
       "<Figure size 1800x800 with 2 Axes>"
      ]
     },
     "metadata": {},
     "output_type": "display_data"
    }
   ],
   "source": [
    "#set plot size\n",
    "plt.figure(figsize = (18,8))\n",
    "\n",
    "#set first subplot\n",
    "plt.subplot(1,2,1)\n",
    "plt.imshow(test_input[3])\n",
    "plt.subplot(1,2,2)\n",
    "plt.imshow(test_val[3])\n",
    "plt.show()"
   ]
  },
  {
   "cell_type": "markdown",
   "id": "37fb1ebb",
   "metadata": {},
   "source": [
    "# Save Model"
   ]
  },
  {
   "cell_type": "code",
   "execution_count": 130,
   "id": "937e6c67",
   "metadata": {},
   "outputs": [
    {
     "name": "stdout",
     "output_type": "stream",
     "text": [
      "WARNING:tensorflow:Compiled the loaded model, but the compiled metrics have yet to be built. `model.compile_metrics` will be empty until you train or evaluate the model.\n"
     ]
    }
   ],
   "source": [
    "# Save weights\n",
    "siamese_model.save('SiameseModel.h5')"
   ]
  },
  {
   "cell_type": "code",
   "execution_count": 133,
   "id": "08a9ec55",
   "metadata": {},
   "outputs": [
    {
     "name": "stdout",
     "output_type": "stream",
     "text": [
      "WARNING:tensorflow:No training configuration found in the save file, so the model was *not* compiled. Compile it manually.\n"
     ]
    }
   ],
   "source": [
    "#Reload Model\n",
    "model = tf.keras.models.load_model('SiameseModel.h5', custom_objects = {'L1Dist': L1Dist, 'BinaryCrossentropy': tf.losses.BinaryCrossentropy})"
   ]
  },
  {
   "cell_type": "code",
   "execution_count": 134,
   "id": "618b1364",
   "metadata": {},
   "outputs": [],
   "source": [
    "tf.keras.models.load_model??"
   ]
  },
  {
   "cell_type": "markdown",
   "id": "6d72015c",
   "metadata": {},
   "source": [
    "# Real Time Test"
   ]
  },
  {
   "cell_type": "code",
   "execution_count": null,
   "id": "de341861",
   "metadata": {},
   "outputs": [],
   "source": []
  },
  {
   "cell_type": "code",
   "execution_count": null,
   "id": "693d4d26",
   "metadata": {},
   "outputs": [],
   "source": []
  },
  {
   "cell_type": "code",
   "execution_count": null,
   "id": "2e828187",
   "metadata": {},
   "outputs": [],
   "source": []
  },
  {
   "cell_type": "code",
   "execution_count": null,
   "id": "b4bd0f50",
   "metadata": {},
   "outputs": [],
   "source": []
  },
  {
   "cell_type": "code",
   "execution_count": null,
   "id": "2e5cc926",
   "metadata": {},
   "outputs": [],
   "source": []
  },
  {
   "cell_type": "code",
   "execution_count": null,
   "id": "0828c33a",
   "metadata": {},
   "outputs": [],
   "source": []
  },
  {
   "cell_type": "code",
   "execution_count": null,
   "id": "6b166443",
   "metadata": {},
   "outputs": [],
   "source": []
  },
  {
   "cell_type": "code",
   "execution_count": null,
   "id": "23683866",
   "metadata": {},
   "outputs": [],
   "source": []
  },
  {
   "cell_type": "code",
   "execution_count": null,
   "id": "ada17de5",
   "metadata": {},
   "outputs": [],
   "source": []
  },
  {
   "cell_type": "code",
   "execution_count": null,
   "id": "c83a61b3",
   "metadata": {},
   "outputs": [],
   "source": []
  },
  {
   "cell_type": "code",
   "execution_count": null,
   "id": "b138c173",
   "metadata": {},
   "outputs": [],
   "source": []
  },
  {
   "cell_type": "code",
   "execution_count": null,
   "id": "2d029af3",
   "metadata": {},
   "outputs": [],
   "source": []
  },
  {
   "cell_type": "code",
   "execution_count": null,
   "id": "62999685",
   "metadata": {},
   "outputs": [],
   "source": []
  }
 ],
 "metadata": {
  "kernelspec": {
   "display_name": "Python 3 (ipykernel)",
   "language": "python",
   "name": "python3"
  },
  "language_info": {
   "codemirror_mode": {
    "name": "ipython",
    "version": 3
   },
   "file_extension": ".py",
   "mimetype": "text/x-python",
   "name": "python",
   "nbconvert_exporter": "python",
   "pygments_lexer": "ipython3",
   "version": "3.10.11"
  }
 },
 "nbformat": 4,
 "nbformat_minor": 5
}
